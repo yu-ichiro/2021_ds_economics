{
  "nbformat": 4,
  "nbformat_minor": 0,
  "metadata": {
    "colab": {
      "name": "計量経済学 回帰分析",
      "provenance": [],
      "collapsed_sections": [],
      "toc_visible": true
    },
    "kernelspec": {
      "name": "python3",
      "display_name": "Python 3"
    },
    "language_info": {
      "name": "python"
    }
  },
  "cells": [
    {
      "cell_type": "markdown",
      "metadata": {
        "id": "NR3isN_ihFoO"
      },
      "source": [
        "# 計量経済学 単回帰分析"
      ]
    },
    {
      "cell_type": "markdown",
      "metadata": {
        "id": "xlPysznphTmf"
      },
      "source": [
        "一橋大学大学院経済学研究科 原泰史\n",
        "\n",
        "ここでは前半に引き続き、日本中の経済学部/経営学部に存在する「計量経済学」という講義の中で最初にドアをノックすることで有名な回帰分析を、Python を通じて学習することを目指します。Google Colaboratory 上で実行出来るようになっていますので、適宜コードを実行して頂ければと思います。\n",
        "\n",
        "具体的には\n",
        "\n",
        "* 回帰係数の推定\n",
        "* 決定係数の導出\n",
        "* 回帰係数の検定\n",
        "* Statsmodelsを使った分析\n",
        "\n",
        "などについて、その概要およびPython での実行方法を履修していただきます。\n",
        "\n",
        "実行の際には、[ファイル]-[ドライブにコピーを保存]から、Notebook を自らのGoogle アカウントにコピーする作業を行ってください。\n",
        "\n"
      ]
    },
    {
      "cell_type": "markdown",
      "metadata": {
        "id": "tE-qw57AMpBg"
      },
      "source": [
        "## サンプルデータセットの読み込み"
      ]
    },
    {
      "cell_type": "markdown",
      "metadata": {
        "id": "LWl5ExoeRMm7"
      },
      "source": [
        "まずはサンプルのデータセットを読み込みます。Day2+3と同じものです。"
      ]
    },
    {
      "cell_type": "code",
      "metadata": {
        "id": "w22JvtwvgzYx"
      },
      "source": [
        "#ボストンのデータセットを読み込む\n",
        "from sklearn.datasets import load_boston\n",
        "boston = load_boston() "
      ],
      "execution_count": null,
      "outputs": []
    },
    {
      "cell_type": "code",
      "metadata": {
        "colab": {
          "base_uri": "https://localhost:8080/"
        },
        "id": "nzvtGV3Vg9gJ",
        "outputId": "524a680f-44ff-49ef-a59b-f88da77ecbb4"
      },
      "source": [
        "#データの中身を確認する\n",
        "boston"
      ],
      "execution_count": null,
      "outputs": [
        {
          "output_type": "execute_result",
          "data": {
            "text/plain": [
              "{'DESCR': \".. _boston_dataset:\\n\\nBoston house prices dataset\\n---------------------------\\n\\n**Data Set Characteristics:**  \\n\\n    :Number of Instances: 506 \\n\\n    :Number of Attributes: 13 numeric/categorical predictive. Median Value (attribute 14) is usually the target.\\n\\n    :Attribute Information (in order):\\n        - CRIM     per capita crime rate by town\\n        - ZN       proportion of residential land zoned for lots over 25,000 sq.ft.\\n        - INDUS    proportion of non-retail business acres per town\\n        - CHAS     Charles River dummy variable (= 1 if tract bounds river; 0 otherwise)\\n        - NOX      nitric oxides concentration (parts per 10 million)\\n        - RM       average number of rooms per dwelling\\n        - AGE      proportion of owner-occupied units built prior to 1940\\n        - DIS      weighted distances to five Boston employment centres\\n        - RAD      index of accessibility to radial highways\\n        - TAX      full-value property-tax rate per $10,000\\n        - PTRATIO  pupil-teacher ratio by town\\n        - B        1000(Bk - 0.63)^2 where Bk is the proportion of blacks by town\\n        - LSTAT    % lower status of the population\\n        - MEDV     Median value of owner-occupied homes in $1000's\\n\\n    :Missing Attribute Values: None\\n\\n    :Creator: Harrison, D. and Rubinfeld, D.L.\\n\\nThis is a copy of UCI ML housing dataset.\\nhttps://archive.ics.uci.edu/ml/machine-learning-databases/housing/\\n\\n\\nThis dataset was taken from the StatLib library which is maintained at Carnegie Mellon University.\\n\\nThe Boston house-price data of Harrison, D. and Rubinfeld, D.L. 'Hedonic\\nprices and the demand for clean air', J. Environ. Economics & Management,\\nvol.5, 81-102, 1978.   Used in Belsley, Kuh & Welsch, 'Regression diagnostics\\n...', Wiley, 1980.   N.B. Various transformations are used in the table on\\npages 244-261 of the latter.\\n\\nThe Boston house-price data has been used in many machine learning papers that address regression\\nproblems.   \\n     \\n.. topic:: References\\n\\n   - Belsley, Kuh & Welsch, 'Regression diagnostics: Identifying Influential Data and Sources of Collinearity', Wiley, 1980. 244-261.\\n   - Quinlan,R. (1993). Combining Instance-Based and Model-Based Learning. In Proceedings on the Tenth International Conference of Machine Learning, 236-243, University of Massachusetts, Amherst. Morgan Kaufmann.\\n\",\n",
              " 'data': array([[6.3200e-03, 1.8000e+01, 2.3100e+00, ..., 1.5300e+01, 3.9690e+02,\n",
              "         4.9800e+00],\n",
              "        [2.7310e-02, 0.0000e+00, 7.0700e+00, ..., 1.7800e+01, 3.9690e+02,\n",
              "         9.1400e+00],\n",
              "        [2.7290e-02, 0.0000e+00, 7.0700e+00, ..., 1.7800e+01, 3.9283e+02,\n",
              "         4.0300e+00],\n",
              "        ...,\n",
              "        [6.0760e-02, 0.0000e+00, 1.1930e+01, ..., 2.1000e+01, 3.9690e+02,\n",
              "         5.6400e+00],\n",
              "        [1.0959e-01, 0.0000e+00, 1.1930e+01, ..., 2.1000e+01, 3.9345e+02,\n",
              "         6.4800e+00],\n",
              "        [4.7410e-02, 0.0000e+00, 1.1930e+01, ..., 2.1000e+01, 3.9690e+02,\n",
              "         7.8800e+00]]),\n",
              " 'feature_names': array(['CRIM', 'ZN', 'INDUS', 'CHAS', 'NOX', 'RM', 'AGE', 'DIS', 'RAD',\n",
              "        'TAX', 'PTRATIO', 'B', 'LSTAT'], dtype='<U7'),\n",
              " 'filename': '/usr/local/lib/python3.7/dist-packages/sklearn/datasets/data/boston_house_prices.csv',\n",
              " 'target': array([24. , 21.6, 34.7, 33.4, 36.2, 28.7, 22.9, 27.1, 16.5, 18.9, 15. ,\n",
              "        18.9, 21.7, 20.4, 18.2, 19.9, 23.1, 17.5, 20.2, 18.2, 13.6, 19.6,\n",
              "        15.2, 14.5, 15.6, 13.9, 16.6, 14.8, 18.4, 21. , 12.7, 14.5, 13.2,\n",
              "        13.1, 13.5, 18.9, 20. , 21. , 24.7, 30.8, 34.9, 26.6, 25.3, 24.7,\n",
              "        21.2, 19.3, 20. , 16.6, 14.4, 19.4, 19.7, 20.5, 25. , 23.4, 18.9,\n",
              "        35.4, 24.7, 31.6, 23.3, 19.6, 18.7, 16. , 22.2, 25. , 33. , 23.5,\n",
              "        19.4, 22. , 17.4, 20.9, 24.2, 21.7, 22.8, 23.4, 24.1, 21.4, 20. ,\n",
              "        20.8, 21.2, 20.3, 28. , 23.9, 24.8, 22.9, 23.9, 26.6, 22.5, 22.2,\n",
              "        23.6, 28.7, 22.6, 22. , 22.9, 25. , 20.6, 28.4, 21.4, 38.7, 43.8,\n",
              "        33.2, 27.5, 26.5, 18.6, 19.3, 20.1, 19.5, 19.5, 20.4, 19.8, 19.4,\n",
              "        21.7, 22.8, 18.8, 18.7, 18.5, 18.3, 21.2, 19.2, 20.4, 19.3, 22. ,\n",
              "        20.3, 20.5, 17.3, 18.8, 21.4, 15.7, 16.2, 18. , 14.3, 19.2, 19.6,\n",
              "        23. , 18.4, 15.6, 18.1, 17.4, 17.1, 13.3, 17.8, 14. , 14.4, 13.4,\n",
              "        15.6, 11.8, 13.8, 15.6, 14.6, 17.8, 15.4, 21.5, 19.6, 15.3, 19.4,\n",
              "        17. , 15.6, 13.1, 41.3, 24.3, 23.3, 27. , 50. , 50. , 50. , 22.7,\n",
              "        25. , 50. , 23.8, 23.8, 22.3, 17.4, 19.1, 23.1, 23.6, 22.6, 29.4,\n",
              "        23.2, 24.6, 29.9, 37.2, 39.8, 36.2, 37.9, 32.5, 26.4, 29.6, 50. ,\n",
              "        32. , 29.8, 34.9, 37. , 30.5, 36.4, 31.1, 29.1, 50. , 33.3, 30.3,\n",
              "        34.6, 34.9, 32.9, 24.1, 42.3, 48.5, 50. , 22.6, 24.4, 22.5, 24.4,\n",
              "        20. , 21.7, 19.3, 22.4, 28.1, 23.7, 25. , 23.3, 28.7, 21.5, 23. ,\n",
              "        26.7, 21.7, 27.5, 30.1, 44.8, 50. , 37.6, 31.6, 46.7, 31.5, 24.3,\n",
              "        31.7, 41.7, 48.3, 29. , 24. , 25.1, 31.5, 23.7, 23.3, 22. , 20.1,\n",
              "        22.2, 23.7, 17.6, 18.5, 24.3, 20.5, 24.5, 26.2, 24.4, 24.8, 29.6,\n",
              "        42.8, 21.9, 20.9, 44. , 50. , 36. , 30.1, 33.8, 43.1, 48.8, 31. ,\n",
              "        36.5, 22.8, 30.7, 50. , 43.5, 20.7, 21.1, 25.2, 24.4, 35.2, 32.4,\n",
              "        32. , 33.2, 33.1, 29.1, 35.1, 45.4, 35.4, 46. , 50. , 32.2, 22. ,\n",
              "        20.1, 23.2, 22.3, 24.8, 28.5, 37.3, 27.9, 23.9, 21.7, 28.6, 27.1,\n",
              "        20.3, 22.5, 29. , 24.8, 22. , 26.4, 33.1, 36.1, 28.4, 33.4, 28.2,\n",
              "        22.8, 20.3, 16.1, 22.1, 19.4, 21.6, 23.8, 16.2, 17.8, 19.8, 23.1,\n",
              "        21. , 23.8, 23.1, 20.4, 18.5, 25. , 24.6, 23. , 22.2, 19.3, 22.6,\n",
              "        19.8, 17.1, 19.4, 22.2, 20.7, 21.1, 19.5, 18.5, 20.6, 19. , 18.7,\n",
              "        32.7, 16.5, 23.9, 31.2, 17.5, 17.2, 23.1, 24.5, 26.6, 22.9, 24.1,\n",
              "        18.6, 30.1, 18.2, 20.6, 17.8, 21.7, 22.7, 22.6, 25. , 19.9, 20.8,\n",
              "        16.8, 21.9, 27.5, 21.9, 23.1, 50. , 50. , 50. , 50. , 50. , 13.8,\n",
              "        13.8, 15. , 13.9, 13.3, 13.1, 10.2, 10.4, 10.9, 11.3, 12.3,  8.8,\n",
              "         7.2, 10.5,  7.4, 10.2, 11.5, 15.1, 23.2,  9.7, 13.8, 12.7, 13.1,\n",
              "        12.5,  8.5,  5. ,  6.3,  5.6,  7.2, 12.1,  8.3,  8.5,  5. , 11.9,\n",
              "        27.9, 17.2, 27.5, 15. , 17.2, 17.9, 16.3,  7. ,  7.2,  7.5, 10.4,\n",
              "         8.8,  8.4, 16.7, 14.2, 20.8, 13.4, 11.7,  8.3, 10.2, 10.9, 11. ,\n",
              "         9.5, 14.5, 14.1, 16.1, 14.3, 11.7, 13.4,  9.6,  8.7,  8.4, 12.8,\n",
              "        10.5, 17.1, 18.4, 15.4, 10.8, 11.8, 14.9, 12.6, 14.1, 13. , 13.4,\n",
              "        15.2, 16.1, 17.8, 14.9, 14.1, 12.7, 13.5, 14.9, 20. , 16.4, 17.7,\n",
              "        19.5, 20.2, 21.4, 19.9, 19. , 19.1, 19.1, 20.1, 19.9, 19.6, 23.2,\n",
              "        29.8, 13.8, 13.3, 16.7, 12. , 14.6, 21.4, 23. , 23.7, 25. , 21.8,\n",
              "        20.6, 21.2, 19.1, 20.6, 15.2,  7. ,  8.1, 13.6, 20.1, 21.8, 24.5,\n",
              "        23.1, 19.7, 18.3, 21.2, 17.5, 16.8, 22.4, 20.6, 23.9, 22. , 11.9])}"
            ]
          },
          "metadata": {},
          "execution_count": 3
        }
      ]
    },
    {
      "cell_type": "code",
      "metadata": {
        "id": "1VUwp9bghecC"
      },
      "source": [
        "#Pandas をインポートする\n",
        "import pandas as pd\n",
        "\n",
        "#X の値を取り出す\n",
        "X = pd.DataFrame(boston.data, columns=boston.feature_names)\n",
        "#Y の値を取り出す\n",
        "#名前を指定する\n",
        "y_name={\"price\"}\n",
        "Y = pd.DataFrame(boston.target, columns=y_name)"
      ],
      "execution_count": null,
      "outputs": []
    },
    {
      "cell_type": "code",
      "metadata": {
        "colab": {
          "base_uri": "https://localhost:8080/",
          "height": 423
        },
        "id": "zzuUIzPdht2g",
        "outputId": "b788eede-9d3c-40dc-dc72-45b2611cfa6c"
      },
      "source": [
        "#Xの中身を確認する\n",
        "X"
      ],
      "execution_count": null,
      "outputs": [
        {
          "output_type": "execute_result",
          "data": {
            "text/html": [
              "<div>\n",
              "<style scoped>\n",
              "    .dataframe tbody tr th:only-of-type {\n",
              "        vertical-align: middle;\n",
              "    }\n",
              "\n",
              "    .dataframe tbody tr th {\n",
              "        vertical-align: top;\n",
              "    }\n",
              "\n",
              "    .dataframe thead th {\n",
              "        text-align: right;\n",
              "    }\n",
              "</style>\n",
              "<table border=\"1\" class=\"dataframe\">\n",
              "  <thead>\n",
              "    <tr style=\"text-align: right;\">\n",
              "      <th></th>\n",
              "      <th>CRIM</th>\n",
              "      <th>ZN</th>\n",
              "      <th>INDUS</th>\n",
              "      <th>CHAS</th>\n",
              "      <th>NOX</th>\n",
              "      <th>RM</th>\n",
              "      <th>AGE</th>\n",
              "      <th>DIS</th>\n",
              "      <th>RAD</th>\n",
              "      <th>TAX</th>\n",
              "      <th>PTRATIO</th>\n",
              "      <th>B</th>\n",
              "      <th>LSTAT</th>\n",
              "    </tr>\n",
              "  </thead>\n",
              "  <tbody>\n",
              "    <tr>\n",
              "      <th>0</th>\n",
              "      <td>0.00632</td>\n",
              "      <td>18.0</td>\n",
              "      <td>2.31</td>\n",
              "      <td>0.0</td>\n",
              "      <td>0.538</td>\n",
              "      <td>6.575</td>\n",
              "      <td>65.2</td>\n",
              "      <td>4.0900</td>\n",
              "      <td>1.0</td>\n",
              "      <td>296.0</td>\n",
              "      <td>15.3</td>\n",
              "      <td>396.90</td>\n",
              "      <td>4.98</td>\n",
              "    </tr>\n",
              "    <tr>\n",
              "      <th>1</th>\n",
              "      <td>0.02731</td>\n",
              "      <td>0.0</td>\n",
              "      <td>7.07</td>\n",
              "      <td>0.0</td>\n",
              "      <td>0.469</td>\n",
              "      <td>6.421</td>\n",
              "      <td>78.9</td>\n",
              "      <td>4.9671</td>\n",
              "      <td>2.0</td>\n",
              "      <td>242.0</td>\n",
              "      <td>17.8</td>\n",
              "      <td>396.90</td>\n",
              "      <td>9.14</td>\n",
              "    </tr>\n",
              "    <tr>\n",
              "      <th>2</th>\n",
              "      <td>0.02729</td>\n",
              "      <td>0.0</td>\n",
              "      <td>7.07</td>\n",
              "      <td>0.0</td>\n",
              "      <td>0.469</td>\n",
              "      <td>7.185</td>\n",
              "      <td>61.1</td>\n",
              "      <td>4.9671</td>\n",
              "      <td>2.0</td>\n",
              "      <td>242.0</td>\n",
              "      <td>17.8</td>\n",
              "      <td>392.83</td>\n",
              "      <td>4.03</td>\n",
              "    </tr>\n",
              "    <tr>\n",
              "      <th>3</th>\n",
              "      <td>0.03237</td>\n",
              "      <td>0.0</td>\n",
              "      <td>2.18</td>\n",
              "      <td>0.0</td>\n",
              "      <td>0.458</td>\n",
              "      <td>6.998</td>\n",
              "      <td>45.8</td>\n",
              "      <td>6.0622</td>\n",
              "      <td>3.0</td>\n",
              "      <td>222.0</td>\n",
              "      <td>18.7</td>\n",
              "      <td>394.63</td>\n",
              "      <td>2.94</td>\n",
              "    </tr>\n",
              "    <tr>\n",
              "      <th>4</th>\n",
              "      <td>0.06905</td>\n",
              "      <td>0.0</td>\n",
              "      <td>2.18</td>\n",
              "      <td>0.0</td>\n",
              "      <td>0.458</td>\n",
              "      <td>7.147</td>\n",
              "      <td>54.2</td>\n",
              "      <td>6.0622</td>\n",
              "      <td>3.0</td>\n",
              "      <td>222.0</td>\n",
              "      <td>18.7</td>\n",
              "      <td>396.90</td>\n",
              "      <td>5.33</td>\n",
              "    </tr>\n",
              "    <tr>\n",
              "      <th>...</th>\n",
              "      <td>...</td>\n",
              "      <td>...</td>\n",
              "      <td>...</td>\n",
              "      <td>...</td>\n",
              "      <td>...</td>\n",
              "      <td>...</td>\n",
              "      <td>...</td>\n",
              "      <td>...</td>\n",
              "      <td>...</td>\n",
              "      <td>...</td>\n",
              "      <td>...</td>\n",
              "      <td>...</td>\n",
              "      <td>...</td>\n",
              "    </tr>\n",
              "    <tr>\n",
              "      <th>501</th>\n",
              "      <td>0.06263</td>\n",
              "      <td>0.0</td>\n",
              "      <td>11.93</td>\n",
              "      <td>0.0</td>\n",
              "      <td>0.573</td>\n",
              "      <td>6.593</td>\n",
              "      <td>69.1</td>\n",
              "      <td>2.4786</td>\n",
              "      <td>1.0</td>\n",
              "      <td>273.0</td>\n",
              "      <td>21.0</td>\n",
              "      <td>391.99</td>\n",
              "      <td>9.67</td>\n",
              "    </tr>\n",
              "    <tr>\n",
              "      <th>502</th>\n",
              "      <td>0.04527</td>\n",
              "      <td>0.0</td>\n",
              "      <td>11.93</td>\n",
              "      <td>0.0</td>\n",
              "      <td>0.573</td>\n",
              "      <td>6.120</td>\n",
              "      <td>76.7</td>\n",
              "      <td>2.2875</td>\n",
              "      <td>1.0</td>\n",
              "      <td>273.0</td>\n",
              "      <td>21.0</td>\n",
              "      <td>396.90</td>\n",
              "      <td>9.08</td>\n",
              "    </tr>\n",
              "    <tr>\n",
              "      <th>503</th>\n",
              "      <td>0.06076</td>\n",
              "      <td>0.0</td>\n",
              "      <td>11.93</td>\n",
              "      <td>0.0</td>\n",
              "      <td>0.573</td>\n",
              "      <td>6.976</td>\n",
              "      <td>91.0</td>\n",
              "      <td>2.1675</td>\n",
              "      <td>1.0</td>\n",
              "      <td>273.0</td>\n",
              "      <td>21.0</td>\n",
              "      <td>396.90</td>\n",
              "      <td>5.64</td>\n",
              "    </tr>\n",
              "    <tr>\n",
              "      <th>504</th>\n",
              "      <td>0.10959</td>\n",
              "      <td>0.0</td>\n",
              "      <td>11.93</td>\n",
              "      <td>0.0</td>\n",
              "      <td>0.573</td>\n",
              "      <td>6.794</td>\n",
              "      <td>89.3</td>\n",
              "      <td>2.3889</td>\n",
              "      <td>1.0</td>\n",
              "      <td>273.0</td>\n",
              "      <td>21.0</td>\n",
              "      <td>393.45</td>\n",
              "      <td>6.48</td>\n",
              "    </tr>\n",
              "    <tr>\n",
              "      <th>505</th>\n",
              "      <td>0.04741</td>\n",
              "      <td>0.0</td>\n",
              "      <td>11.93</td>\n",
              "      <td>0.0</td>\n",
              "      <td>0.573</td>\n",
              "      <td>6.030</td>\n",
              "      <td>80.8</td>\n",
              "      <td>2.5050</td>\n",
              "      <td>1.0</td>\n",
              "      <td>273.0</td>\n",
              "      <td>21.0</td>\n",
              "      <td>396.90</td>\n",
              "      <td>7.88</td>\n",
              "    </tr>\n",
              "  </tbody>\n",
              "</table>\n",
              "<p>506 rows × 13 columns</p>\n",
              "</div>"
            ],
            "text/plain": [
              "        CRIM    ZN  INDUS  CHAS    NOX  ...  RAD    TAX  PTRATIO       B  LSTAT\n",
              "0    0.00632  18.0   2.31   0.0  0.538  ...  1.0  296.0     15.3  396.90   4.98\n",
              "1    0.02731   0.0   7.07   0.0  0.469  ...  2.0  242.0     17.8  396.90   9.14\n",
              "2    0.02729   0.0   7.07   0.0  0.469  ...  2.0  242.0     17.8  392.83   4.03\n",
              "3    0.03237   0.0   2.18   0.0  0.458  ...  3.0  222.0     18.7  394.63   2.94\n",
              "4    0.06905   0.0   2.18   0.0  0.458  ...  3.0  222.0     18.7  396.90   5.33\n",
              "..       ...   ...    ...   ...    ...  ...  ...    ...      ...     ...    ...\n",
              "501  0.06263   0.0  11.93   0.0  0.573  ...  1.0  273.0     21.0  391.99   9.67\n",
              "502  0.04527   0.0  11.93   0.0  0.573  ...  1.0  273.0     21.0  396.90   9.08\n",
              "503  0.06076   0.0  11.93   0.0  0.573  ...  1.0  273.0     21.0  396.90   5.64\n",
              "504  0.10959   0.0  11.93   0.0  0.573  ...  1.0  273.0     21.0  393.45   6.48\n",
              "505  0.04741   0.0  11.93   0.0  0.573  ...  1.0  273.0     21.0  396.90   7.88\n",
              "\n",
              "[506 rows x 13 columns]"
            ]
          },
          "metadata": {},
          "execution_count": 5
        }
      ]
    },
    {
      "cell_type": "code",
      "metadata": {
        "colab": {
          "base_uri": "https://localhost:8080/",
          "height": 423
        },
        "id": "O_bkz2DYh58I",
        "outputId": "308d80ca-5f99-4db5-deca-aa73d79d806e"
      },
      "source": [
        "#Yの中身を確認する\n",
        "Y"
      ],
      "execution_count": null,
      "outputs": [
        {
          "output_type": "execute_result",
          "data": {
            "text/html": [
              "<div>\n",
              "<style scoped>\n",
              "    .dataframe tbody tr th:only-of-type {\n",
              "        vertical-align: middle;\n",
              "    }\n",
              "\n",
              "    .dataframe tbody tr th {\n",
              "        vertical-align: top;\n",
              "    }\n",
              "\n",
              "    .dataframe thead th {\n",
              "        text-align: right;\n",
              "    }\n",
              "</style>\n",
              "<table border=\"1\" class=\"dataframe\">\n",
              "  <thead>\n",
              "    <tr style=\"text-align: right;\">\n",
              "      <th></th>\n",
              "      <th>price</th>\n",
              "    </tr>\n",
              "  </thead>\n",
              "  <tbody>\n",
              "    <tr>\n",
              "      <th>0</th>\n",
              "      <td>24.0</td>\n",
              "    </tr>\n",
              "    <tr>\n",
              "      <th>1</th>\n",
              "      <td>21.6</td>\n",
              "    </tr>\n",
              "    <tr>\n",
              "      <th>2</th>\n",
              "      <td>34.7</td>\n",
              "    </tr>\n",
              "    <tr>\n",
              "      <th>3</th>\n",
              "      <td>33.4</td>\n",
              "    </tr>\n",
              "    <tr>\n",
              "      <th>4</th>\n",
              "      <td>36.2</td>\n",
              "    </tr>\n",
              "    <tr>\n",
              "      <th>...</th>\n",
              "      <td>...</td>\n",
              "    </tr>\n",
              "    <tr>\n",
              "      <th>501</th>\n",
              "      <td>22.4</td>\n",
              "    </tr>\n",
              "    <tr>\n",
              "      <th>502</th>\n",
              "      <td>20.6</td>\n",
              "    </tr>\n",
              "    <tr>\n",
              "      <th>503</th>\n",
              "      <td>23.9</td>\n",
              "    </tr>\n",
              "    <tr>\n",
              "      <th>504</th>\n",
              "      <td>22.0</td>\n",
              "    </tr>\n",
              "    <tr>\n",
              "      <th>505</th>\n",
              "      <td>11.9</td>\n",
              "    </tr>\n",
              "  </tbody>\n",
              "</table>\n",
              "<p>506 rows × 1 columns</p>\n",
              "</div>"
            ],
            "text/plain": [
              "     price\n",
              "0     24.0\n",
              "1     21.6\n",
              "2     34.7\n",
              "3     33.4\n",
              "4     36.2\n",
              "..     ...\n",
              "501   22.4\n",
              "502   20.6\n",
              "503   23.9\n",
              "504   22.0\n",
              "505   11.9\n",
              "\n",
              "[506 rows x 1 columns]"
            ]
          },
          "metadata": {},
          "execution_count": 6
        }
      ]
    },
    {
      "cell_type": "markdown",
      "metadata": {
        "id": "HBGFIJQr8j0g"
      },
      "source": [
        "## 単回帰分析"
      ]
    },
    {
      "cell_type": "markdown",
      "metadata": {
        "id": "r773RuZ1Dn1V"
      },
      "source": [
        "### 回帰係数の推定"
      ]
    },
    {
      "cell_type": "markdown",
      "metadata": {
        "id": "ZLZuRM63qgu1"
      },
      "source": [
        "回帰分析は変数間の因果関係を明らかにするための統計的な手法です。たとえば、ある値XとYが存在するとします。このふたつの変数の関係を、以下のような式で示す。ここでのiは、それぞれの分析単位ごとの値を示しています。たとえば、国や企業や学生など、特定の集合の中から抽出された群の値の束が, iからnまで存在していることを考えます。\n",
        "\n",
        "$$ Y_i + \\alpha_i + \\beta X_i + u_i   \n",
        ", i =1,2,..., n$$\n",
        "\n",
        "こうした式を、単純回帰モデルと呼びます。また、このときXは説明変数もしくは独立変数と呼ぶ。Yを被説明変数もしくは従属変数と呼びます。uは誤差項もしくは撹乱項と呼び、Yの値を、Xの値すべてからは説明出来ないときの「ズレ」を示しています。\n",
        "\n",
        "こうした関係性を求めるために、広く用いられているのが最小二乗法 (OLS) になります。\n",
        "\n",
        "XとYの値を用いて、先程のαおよびβを求めると、以下のような関係が成り立ちます。\n",
        "\n",
        "$$ \\hat{Y} = \\hat{\\alpha} + \\hat{\\beta}X$$\n",
        "\n",
        "ここでは、αやβの推定値（係数）を求めていることになります。上に「ハット」がついたYは、実績値であるXおよび推定値（係数）αおよびβに対応した値となり、Yの理論値(もしくは、推定値、予測値etc...)などと呼びます。\n",
        "\n",
        "これらの係数を求める公式は以下の通りです。\n",
        "\n",
        "$$ \\hat{\\beta} = \\frac{n\\sum{XY}-\\sum{X}\\sum{Y}}{n\\sum{X^2-(\\hat{X})^2}} \n",
        "= \\frac{\\sum{(X-\\bar{X})(Y-\\bar{Y})}}{\\sum{(X-\\bar{X})^2}} $$\n",
        "\n",
        "$$ \\hat{\\alpha} = \\frac{\\sum{X^2}\\sum{Y}-\\sum{X}\\sum{XY}}{n\\sum{X^2}-(\\sum{X})^2} = \\bar{Y} - \\hat{\\beta}\\bar{X} $$\n",
        "\n",
        "ところで、YとXとの関係性をひとつの直線で説明しようとすると、かならずどこかで「ズレ」が起きることになります。これを、残差と呼ぶことにしましょう。すなわち、残差は観測値の理論値との差ということになります。これを式で示すと、\n",
        "\n",
        "$$ \\hat{u} = Y - \\hat{Y} = Y - (\\hat{\\alpha} + \\hat{\\beta}X) $$\n",
        "\n",
        "となります。これらを右辺と左辺でそれぞれ自乗しi個分足し合わせる、すなわち総和を求めると、以下の式が与えられます。このとき、残差の二乗の総和を求めるので、残差２乗和もしくは残差平方和と呼びます。\n",
        "\n",
        "$$ \\sum{\\hat{u}}^2 = \\sum [Y - (\\hat{\\alpha} + \\hat{\\beta}X)]^2 $$\n",
        "\n",
        "ここで、残差２乗和が最小になるような値を求めるには、αとβでそれぞれ偏微分を行います。すなわち、FOC (一階の条件) を求めると\n",
        "\n",
        "$$ \\frac{\\delta\\sum{\\hat{u}}^2}{\\delta\\hat{\\alpha}} = -2 \\sum (Y - \\hat{\\alpha} - \\hat{\\beta}X) = 0 $$\n",
        "\n",
        "$$ \\frac{\\delta\\sum{\\hat{u}}^2}{\\delta\\hat{\\beta}} = -2 \\sum X(Y - \\hat{\\alpha} - \\hat{\\beta}X) = 0 $$\n",
        "\n",
        "となります。\n",
        "\n",
        "これらの式を整理すると、以下の連立方程式が与えられます。\n",
        "\n",
        "$$ \\sum{Y} = n \\hat{\\alpha} + \\hat{\\beta} \\sum{X} $$\n",
        "$$ \\sum{XY} = \\hat{\\alpha}\\sum{X} + \\hat{\\beta} \\sum{X}^2 $$\n",
        "\n",
        "これらの方程式をβ、αについて解法することで、\n",
        "\n",
        "$$ \\hat{\\beta} = \\frac{n\\sum{XY}-\\sum{X}\\sum{Y}}{n\\sum{X^2-(\\hat{X})^2}} \n",
        "= \\frac{\\sum{(X-\\bar{X})(Y-\\bar{Y})}}{\\sum{(X-\\bar{X})^2}} $$\n",
        "\n",
        "$$ \\hat{\\alpha} = \\frac{\\sum{X^2}\\sum{Y}-\\sum{X}\\sum{XY}}{n\\sum{X^2}-(\\sum{X})^2} = \\bar{Y} - \\hat{\\beta}\\bar{X} $$\n",
        "\n",
        "と、回帰式による係数αとβを求めることが出来ます。\n",
        "\n",
        "と、ここまで数式をずっと並べてみたのですがあまりピンとこないので、実際の値を当てはめて、αとβを計算してみたいと思います。\n",
        "\n",
        "計算にはサンプルデータセットのうち、Price(Y) とAge（X)を利用します。\n",
        "ボストンの不動産価格(Y)が、その建物の年齢(X)によって説明付けられるモデルを解法することになります。\n"
      ]
    },
    {
      "cell_type": "code",
      "metadata": {
        "colab": {
          "base_uri": "https://localhost:8080/"
        },
        "id": "8yRiD_kTGPUj",
        "outputId": "da1563cf-55bc-4e58-becb-3bc63f18106e"
      },
      "source": [
        "import numpy as np\n",
        "#Yの値を指定する. ここではPrice.\n",
        "Y\n",
        "#Xの値を指定する.ここではAge.\n",
        "X_AGE=X.AGE\n",
        "\n",
        "#Yの平均値を求める\n",
        "Y_AVE=np.average(Y)\n",
        "print(\"Y_Average\", Y_AVE)\n",
        "\n",
        "#Yの平均値を求める\n",
        "X_AVE=np.average(X_AGE)\n",
        "print(\"X_Average\", X_AVE)\n",
        "\n",
        "#データ処理用にYをDataFrameからSeries に変換する\n",
        "Y_data=Y[\"price\"]\n",
        "\n",
        "#Yの合計値を求める\n",
        "Y_SUM=np.sum(Y_data)\n",
        "print(\"Y_Sum\", Y_SUM)\n",
        "\n",
        "#Yの合計値を求める\n",
        "X_SUM=np.sum(X_AGE)\n",
        "print(\"X_Sum\", X_SUM)\n",
        "\n",
        "#Xの自乗値の和を求める\n",
        "X_POWER=np.sum(np.power(X_AGE,2))\n",
        "print(\"X_POWER\", X_POWER)\n",
        "\n",
        "#XとYをかけ合わせる\n",
        "XY=np.sum(X_AGE*Y_data)\n",
        "print(\"XY\", XY)\n",
        "\n",
        "#データの長さを求める\n",
        "len_X=len(X_AGE)\n",
        "len_Y=len(Y)\n",
        "print(\"データの長さ\", len_X, len_Y)\n",
        "\n",
        "#係数βを導出する\n",
        "\n",
        "beta = (len_Y * XY - (X_SUM * Y_SUM)) / (len_Y * X_POWER - np.power(X_SUM, 2))\n",
        "print(\"parameter beta\", beta)\n",
        "\n",
        "#係数αを導出する\n",
        "\n",
        "alpha = (Y_SUM - beta * X_SUM) / len_X\n",
        "print(\"parameter alpha\", alpha)"
      ],
      "execution_count": null,
      "outputs": [
        {
          "output_type": "stream",
          "name": "stdout",
          "text": [
            "Y_Average 22.532806324110677\n",
            "X_Average 68.57490118577076\n",
            "Y_Sum 11401.600000000002\n",
            "X_Sum 34698.9\n",
            "X_POWER 2779614.63\n",
            "XY 732581.1400000001\n",
            "データの長さ 506 506\n",
            "parameter beta -0.12316272123567963\n",
            "parameter alpha 30.978677762618037\n"
          ]
        }
      ]
    },
    {
      "cell_type": "markdown",
      "metadata": {
        "id": "gLITwg7qM-Dq"
      },
      "source": [
        "このようにして、係数αとβが求められました。これにより、AgeとPrice にはマイナスの関係があることがわかります。それでは、推定値と実際のYの値の差を散布図にプロットして、その差を観察してみましょう。"
      ]
    },
    {
      "cell_type": "code",
      "metadata": {
        "colab": {
          "base_uri": "https://localhost:8080/",
          "height": 283
        },
        "id": "gITVippBOYQc",
        "outputId": "1b7dc389-493f-46ee-a289-ce15168f543c"
      },
      "source": [
        "import matplotlib.pyplot as plt\n",
        "\n",
        "#Yの推定値を、求められた係数から導出する\n",
        "estimate_Y = alpha + beta * X_AGE\n",
        "\n",
        "#散布図にプロットする\n",
        "plt.scatter(X_AGE, Y)\n",
        "plt.scatter(X_AGE, estimate_Y)"
      ],
      "execution_count": null,
      "outputs": [
        {
          "output_type": "execute_result",
          "data": {
            "text/plain": [
              "<matplotlib.collections.PathCollection at 0x7f75440c7150>"
            ]
          },
          "metadata": {},
          "execution_count": 8
        },
        {
          "output_type": "display_data",
          "data": {
            "image/png": "[encoded data removed]",
            "text/plain": [
              "<Figure size 432x288 with 1 Axes>"
            ]
          },
          "metadata": {
            "needs_background": "light"
          }
        }
      ]
    },
    {
      "cell_type": "code",
      "metadata": {
        "colab": {
          "base_uri": "https://localhost:8080/",
          "height": 265
        },
        "id": "FoRM6S37U2ya",
        "outputId": "b4241e05-d62b-4f8f-907f-59449afe44b4"
      },
      "source": [
        "#ヒストグラムにYの実測値とYの推定値をプロットする\n",
        "\n",
        "plt.hist([Y_data, estimate_Y], label=['Y', 'ESTIMATE_Y'])\n",
        "plt.legend(loc='upper left')\n",
        "plt.show()"
      ],
      "execution_count": null,
      "outputs": [
        {
          "output_type": "display_data",
          "data": {
            "image/png": "[encoded data removed]",
            "text/plain": [
              "<Figure size 432x288 with 1 Axes>"
            ]
          },
          "metadata": {
            "needs_background": "light"
          }
        }
      ]
    },
    {
      "cell_type": "markdown",
      "metadata": {
        "id": "RJuVJbS5QEPT"
      },
      "source": [
        "散布図やヒストグラムを眺める限り、なんとなく、Ageだけではpriceは説明しきれていない気がするグラフですね。そこで、どのくらいXがYを説明しきれているか把握することにします。"
      ]
    },
    {
      "cell_type": "markdown",
      "metadata": {
        "id": "dpFVyepE7GeW"
      },
      "source": [
        "### 決定係数"
      ]
    },
    {
      "cell_type": "markdown",
      "metadata": {
        "id": "GQMlO-gD7K_I"
      },
      "source": [
        "決定係数は、回帰線の観測データに対する当てはまりの良さ(適合度)を示す尺度になります。\n",
        "\n",
        "このとき、観測値Yとその平均値との差の平方和は\n",
        "\n",
        "$$ Yの全変動 = \\sum{(Y - \\bar{Y})^2}$$\n",
        "\n",
        "として表されます。一方、予測値(推定値)Yと平均値Yの差の平方和は、\n",
        "\n",
        "$$ 回帰平方和 = \\sum{(\\hat{Y} - \\bar{Y})^2}$$\n",
        "\n",
        "となります。決定係数は、Yの全変動に対する、回帰平方和の比率として求めることが出来ます。そのため、\n",
        "\n",
        "$$  R^2 = \\frac{回帰平方和}{Yの全変動}\n",
        "     = \\frac{\\sum{(\\hat{Y} - \\bar{Y})^2}}{\\sum{(Y - \\bar{Y})^2}}\n",
        "     = 1 - \\frac{\\sum{(Y - \\hat{Y})^2}}{\\sum{(Y - \\bar{Y})^2}}$$\n",
        "\n",
        "と定義されます。\n",
        "\n",
        "また、以下の式からも計算できます。\n",
        "\n",
        "$$ R^2 = \\frac{[n\\sum XY - (\\sum X) (\\sum Y)]^2}{[n \\sum X^2 - (\\sum X )^2 ][n \\sum Y^2 - (\\sum Y )^2]} $$\n",
        "\n",
        "決定係数については、多くの教科書などで「0.6以上ですと説明力の高いモデルです」などの記載があることがあります。が、ほとんどの場合研究者が学術論文をまとめるときには考慮されない気がします！そのため、こういう指標もあるんだなぁ。というくらいで捉えて頂けると良い気がします。\n",
        "\n",
        "決定係数を実際にもとめてみましょう。"
      ]
    },
    {
      "cell_type": "code",
      "metadata": {
        "colab": {
          "base_uri": "https://localhost:8080/"
        },
        "id": "OYbhcjxp7Krc",
        "outputId": "0a0f009f-f6a0-4e5f-b7de-bfd5cf9b6a69"
      },
      "source": [
        "#決定係数を求める\n",
        "\n",
        "#Yの値を指定する. ここではPrice.\n",
        "Y\n",
        "#データ処理用にYをDataFrameからSeries に変換する\n",
        "Y_data=Y[\"price\"]\n",
        "#Xの値を指定する.ここではAge.\n",
        "X_AGE=X.AGE\n",
        "\n",
        "#Yの合計値を求める\n",
        "Y_SUM=np.sum(Y_data)\n",
        "print(\"Y_Sum\", Y_SUM)\n",
        "\n",
        "#Yの合計値を求める\n",
        "X_SUM=np.sum(X_AGE)\n",
        "print(\"X_Sum\", X_SUM)\n",
        "\n",
        "#Xの自乗値の和を求める\n",
        "X_POWER=np.sum(np.power(X_AGE,2))\n",
        "print(\"X_POWER\", X_POWER)\n",
        "\n",
        "#Yの自乗値の和を求める\n",
        "Y_POWER=np.sum(np.power(Y_data,2))\n",
        "print(\"Y_POWER\", Y_POWER)\n",
        "\n",
        "#XとYをかけ合わせる\n",
        "XY=np.sum(X_AGE*Y_data)\n",
        "print(\"XY\", XY)\n",
        "\n",
        "#データの長さを求める\n",
        "len_X=len(X_AGE)\n",
        "len_Y=len(Y)\n",
        "print(\"n\", len_X)\n",
        "\n",
        "#決定係数を求める\n",
        "Determination = np.power(( len_X * XY - X_SUM * Y_SUM), 2) / ((len_X * X_POWER - np.power(X_SUM, 2)) * (len_X * Y_POWER - np.power(Y_SUM, 2)))\n",
        "\n",
        "print(\"決定係数\", Determination)\n"
      ],
      "execution_count": null,
      "outputs": [
        {
          "output_type": "stream",
          "name": "stdout",
          "text": [
            "Y_Sum 11401.600000000002\n",
            "X_Sum 34698.9\n",
            "X_POWER 2779614.63\n",
            "Y_POWER 299626.33999999997\n",
            "XY 732581.1400000001\n",
            "n 506\n",
            "決定係数 0.14209474407780454\n"
          ]
        }
      ]
    },
    {
      "cell_type": "markdown",
      "metadata": {
        "id": "sMhX0dBAAvg-"
      },
      "source": [
        "もうひとつ、定義式に基づき導出しましょう。"
      ]
    },
    {
      "cell_type": "code",
      "metadata": {
        "colab": {
          "base_uri": "https://localhost:8080/"
        },
        "id": "8Wzstyd9Az17",
        "outputId": "0b7ee990-9614-4642-c908-70e3bf4bcea6"
      },
      "source": [
        "#Yの全変動を求める\n",
        "Y_move=np.sum(np.power(Y_data-Y_AVE, 2))\n",
        "print(\"Yの全変動\", Y_move)\n",
        "#回帰平方和を求める\n",
        "Y_square_sum = np.sum(np.power(Y_data-estimate_Y, 2))\n",
        "print(\"回帰平方和\", Y_square_sum)\n",
        "#決定係数を求める\n",
        "Determination2=Y_square_sum/Y_move\n",
        "print(\"決定係数\", Determination)"
      ],
      "execution_count": null,
      "outputs": [
        {
          "output_type": "stream",
          "name": "stdout",
          "text": [
            "Yの全変動 42716.29541501977\n",
            "回帰平方和 36646.53435007064\n",
            "決定係数 0.14209474407780454\n"
          ]
        }
      ]
    },
    {
      "cell_type": "markdown",
      "metadata": {
        "id": "LhYAmVtbpaVw"
      },
      "source": [
        "同じ結果になりましたね。ということで、このモデルのYの説明力は0.14くらいということになります。"
      ]
    },
    {
      "cell_type": "markdown",
      "metadata": {
        "id": "lms5qwT2Ccek"
      },
      "source": [
        "### 残差"
      ]
    },
    {
      "cell_type": "markdown",
      "metadata": {
        "id": "3uzLzJLsCg3X"
      },
      "source": [
        "ここで、実値Yと推定値Yとの差分として残差uを求めることにします。残差が0より小さなときは過大推定, 残差が0より大きいときは過小推定と呼びます."
      ]
    },
    {
      "cell_type": "code",
      "metadata": {
        "colab": {
          "base_uri": "https://localhost:8080/",
          "height": 355
        },
        "id": "m_KeRwkxC8Bt",
        "outputId": "729237d9-f1de-48c0-d094-523b74d06fbf"
      },
      "source": [
        "#残差を求める\n",
        "residual = Y_data-estimate_Y\n",
        "\n",
        "#残差の分布をヒストグラムにする\n",
        "plt.hist(residual)"
      ],
      "execution_count": null,
      "outputs": [
        {
          "output_type": "execute_result",
          "data": {
            "text/plain": [
              "(array([ 20.,  77., 183., 115.,  46.,  24.,  12.,   7.,   9.,  13.]),\n",
              " array([-15.09661805, -10.45319681,  -5.80977557,  -1.16635433,\n",
              "          3.47706691,   8.12048816,  12.7639094 ,  17.40733064,\n",
              "         22.05075188,  26.69417312,  31.33759436]),\n",
              " <a list of 10 Patch objects>)"
            ]
          },
          "metadata": {},
          "execution_count": 12
        },
        {
          "output_type": "display_data",
          "data": {
            "image/png": "[encoded data removed]",
            "text/plain": [
              "<Figure size 432x288 with 1 Axes>"
            ]
          },
          "metadata": {
            "needs_background": "light"
          }
        }
      ]
    },
    {
      "cell_type": "markdown",
      "metadata": {
        "id": "JhXwr6WpD2_C"
      },
      "source": [
        "### 回帰係数の検定"
      ]
    },
    {
      "cell_type": "markdown",
      "metadata": {
        "id": "lSdJUc6vEumH"
      },
      "source": [
        "ここまで回帰式による決定係数と係数が求められたのですが、果たして本当にXがYを説明しているかを判断する必要があります。ここでは、t検定(たぶん、統計学の講義で聞いたことがあると思います)を使って、回帰係数が本当に有効かどうか、業界用語で呼ぶと、「有意であるか」を知る方法についてご説明します。\n",
        "\n",
        "回帰係数が統計学的にゼロではないと判断されることが、「有意である」ということになります。回帰係数が有意ではないということは、説明変数Xは被説明変数Yに何の影響を与えていないことを示します。"
      ]
    },
    {
      "cell_type": "markdown",
      "metadata": {
        "id": "TL-kXgNLHOXL"
      },
      "source": [
        "**残差分散を推定する**\n",
        "\n"
      ]
    },
    {
      "cell_type": "markdown",
      "metadata": {
        "id": "KzxUhpXnHZ4w"
      },
      "source": [
        "残差分散 s^2 を推定します。\n",
        "\n",
        "$$ s^2 = \\frac{残差平方和}{サンプルサイズ - 説明変数の数 - 1} = \\frac{\\sum{\\hat{u}^2}}{n-2}$$\n",
        "\n",
        "このとき、残差分散の平方根は残差の標準偏差と呼ばれます。\n"
      ]
    },
    {
      "cell_type": "code",
      "metadata": {
        "colab": {
          "base_uri": "https://localhost:8080/"
        },
        "id": "XbiCdbQsIOP3",
        "outputId": "2af24da5-0b42-4bfb-9b0d-edf0031c1a50"
      },
      "source": [
        "#残差平方和を求める\n",
        "Y_square_sum = np.sum(np.power(Y_data-estimate_Y, 2))\n",
        "print(\"残差平方和\", Y_square_sum)\n",
        "s_square = Y_square_sum / (len_Y-2)\n",
        "print(\"残差分散\", s_square)\n",
        "print(\"残差の標準偏差\", np.sqrt(s_square))"
      ],
      "execution_count": null,
      "outputs": [
        {
          "output_type": "stream",
          "name": "stdout",
          "text": [
            "残差平方和 36646.53435007064\n",
            "残差分散 72.71137767871159\n",
            "残差の標準偏差 8.527096673470496\n"
          ]
        }
      ]
    },
    {
      "cell_type": "markdown",
      "metadata": {
        "id": "-vFhRNZVI90M"
      },
      "source": [
        "**係数の分散を推定する**"
      ]
    },
    {
      "cell_type": "markdown",
      "metadata": {
        "id": "HlNAP_X2JDIq"
      },
      "source": [
        "αとβの分散を以下の式から推定します。\n",
        "\n",
        "$$ s_\\hat{\\alpha}^2 = s^2 [\\frac{1}{n}+\\frac{\\bar{X}}{\\sum(X-\\bar{X})^2}] = \\frac{s^2 \\sum X^2}{n \\sum X^2 - (\\sum X)^2} $$\n",
        "\n",
        "$$ s_\\hat{\\beta}^2 = \\frac{s^2}{\\sum(X-\\bar{X})^2} = \\frac{s^2 n}{n \\sum X^2 - (\\sum X)^2}$$\n",
        "\n",
        "実際に計算してみると、以下の通りになります。"
      ]
    },
    {
      "cell_type": "code",
      "metadata": {
        "colab": {
          "base_uri": "https://localhost:8080/"
        },
        "id": "KCtbo6iXLllj",
        "outputId": "e79366a1-1ee4-4d10-c2cd-493f9405e35b"
      },
      "source": [
        "#αの分散を推定する\n",
        "\n",
        "#Xの自乗値の和を求める\n",
        "X_POWER=np.sum(np.power(X_AGE,2))\n",
        "print(\"X_POWER\", X_POWER)\n",
        "#Xの和を求める\n",
        "X_SUM = np.sum(X_AGE)\n",
        "print(\"X_SUM\", X_SUM)\n",
        "\n",
        "s_square_alpha = (s_square * X_POWER) / (len_X * X_POWER - np.power(X_SUM,2))\n",
        "print(\"αの分散\", s_square_alpha)\n",
        "\n",
        "#βの分散を推定する\n",
        "\n",
        "s_square_beta = (s_square * len_X) / (len_X * X_POWER - np.power(X_SUM,2))\n",
        "print(\"βの分散\", s_square_beta)\n",
        "\n"
      ],
      "execution_count": null,
      "outputs": [
        {
          "output_type": "stream",
          "name": "stdout",
          "text": [
            "X_POWER 2779614.63\n",
            "X_SUM 34698.9\n",
            "αの分散 0.9982134142837558\n",
            "βの分散 0.00018171439385019367\n"
          ]
        }
      ]
    },
    {
      "cell_type": "markdown",
      "metadata": {
        "id": "ny2cAuVsP8A8"
      },
      "source": [
        "**回帰係数の標準誤差を求める**"
      ]
    },
    {
      "cell_type": "markdown",
      "metadata": {
        "id": "7sffu-gmQAQ7"
      },
      "source": [
        "以下の式で、標準誤差を求めます。\n",
        "\n",
        "$$ s_\\hat{\\alpha} = \\sqrt{s_\\hat{\\alpha}^2} $$\n",
        "$$ s_\\hat{\\beta} = \\sqrt{s_\\hat{\\beta}^2} $$"
      ]
    },
    {
      "cell_type": "code",
      "metadata": {
        "colab": {
          "base_uri": "https://localhost:8080/"
        },
        "id": "k1jM3FwGQv6o",
        "outputId": "c67b0f3d-9d58-4bd8-8512-551af0bcbd4a"
      },
      "source": [
        "s_square_alpha_sd = np.sqrt(s_square_alpha)\n",
        "s_square_beta_sd = np.sqrt(s_square_beta)\n",
        "print(\"回帰係数の標準誤差_α\",s_square_alpha_sd)\n",
        "print(\"回帰係数の標準誤差_β\",s_square_beta_sd)"
      ],
      "execution_count": null,
      "outputs": [
        {
          "output_type": "stream",
          "name": "stdout",
          "text": [
            "回帰係数の標準誤差_α 0.9991063077990028\n",
            "回帰係数の標準誤差_β 0.013480148139029988\n"
          ]
        }
      ]
    },
    {
      "cell_type": "markdown",
      "metadata": {
        "id": "FcyZUhYrRh4O"
      },
      "source": [
        "**t値の計算を行う**"
      ]
    },
    {
      "cell_type": "markdown",
      "metadata": {
        "id": "dwVq_Ii9RmDg"
      },
      "source": [
        "t値の計算を行います。\n",
        "\n",
        "$$  t_\\hat{\\alpha} = \\frac{回帰係数 alpha の推定値}{回帰係数 alpha の標準誤差} = \\frac{\\hat{\\alpha}}{s_\\hat{\\alpha}} $$\n",
        "\n",
        "$$  t_\\hat{\\beta} = \\frac{回帰係数 beta の推定値}{回帰係数 beta の標準誤差} = \\frac{\\hat{\\beta}}{s_\\hat{\\beta}} $$"
      ]
    },
    {
      "cell_type": "code",
      "metadata": {
        "colab": {
          "base_uri": "https://localhost:8080/"
        },
        "id": "h2jXIjHJSk4l",
        "outputId": "989a390b-7e92-4b3f-dc21-eaf0cef0dee1"
      },
      "source": [
        "print(\"Alpha の推定値\", alpha)\n",
        "print(\"Beta の推定値\", beta)\n",
        "print(\"回帰係数の標準誤差_α\",s_square_alpha_sd)\n",
        "print(\"回帰係数の標準誤差_β\",s_square_beta_sd)\n",
        "\n",
        "t_alpha = alpha / s_square_alpha_sd\n",
        "t_beta = beta / s_square_beta_sd\n",
        "\n",
        "print(\"係数αのt値\", t_alpha)\n",
        "print(\"係数βのt値\", t_beta)"
      ],
      "execution_count": null,
      "outputs": [
        {
          "output_type": "stream",
          "name": "stdout",
          "text": [
            "Alpha の推定値 30.978677762618037\n",
            "Beta の推定値 -0.12316272123567963\n",
            "回帰係数の標準誤差_α 0.9991063077990028\n",
            "回帰係数の標準誤差_β 0.013480148139029988\n",
            "係数αのt値 31.006387929691897\n",
            "係数βのt値 -9.136599981351706\n"
          ]
        }
      ]
    },
    {
      "cell_type": "markdown",
      "metadata": {
        "id": "EmXYF4dvUHmh"
      },
      "source": [
        "**t検定を実施する**"
      ]
    },
    {
      "cell_type": "markdown",
      "metadata": {
        "id": "aCK32eRjUU-F"
      },
      "source": [
        "t値に基づき、両側検定を用い係数が有意であるかの確認を行います。\n",
        "\n",
        "以下のように、帰無仮説(null hypothesis)と対立仮説 (alternative hypothesis)を立てます。\n",
        "\n",
        "$$ \n",
        "帰無仮説 \\left\\{\n",
        "\\begin{array}{ll}\n",
        "H_0 & : \\alpha = 0 \\\\\n",
        "H'_0 & : \\beta = 0\n",
        "\\end{array}\n",
        "\\right.\n",
        "$$\n",
        "\n",
        "$$ \n",
        "対立仮説 \\left\\{\n",
        "\\begin{array}{ll}\n",
        "H_1 & : \\alpha \\neq 0 \\\\\n",
        "H'_1 & : \\beta \\neq 0\n",
        "\\end{array}\n",
        "\\right.\n",
        "$$\n",
        "\n",
        "先程求めたt値は、自由度 n - 2 (サンプルサイズの数 - 説明変数の数 - 1) のt分布に従う。そのため、t分布表の値に基づいて有意性検定を行います。先程求めたt値が分布表にあるt値(臨界値)よりも大きければ、帰無仮説は棄却され、推定した回帰係数は有意であることになります。\n",
        "\n",
        "今回の場合、サンプルサイズ=506, 説明変数=1なので, 自由度は504になります。\n",
        "ここでは、Scipyパッケージのt分布パッケージから臨界値をそれぞれ求めることにします。"
      ]
    },
    {
      "cell_type": "code",
      "metadata": {
        "colab": {
          "base_uri": "https://localhost:8080/"
        },
        "id": "SrPMvIgYbiR2",
        "outputId": "cc5e56ef-0ca4-4a98-e092-50d71d3600eb"
      },
      "source": [
        "from scipy.stats import t\n",
        "p_10 = t.ppf(q=0.990, df=504)\n",
        "p_5 = t.ppf(q=0.995, df=504)\n",
        "p_1 = t.ppf(q=0.999, df=504)\n",
        "print(\"有意水準10％\", p_10)\n",
        "print(\"有意水準5％\", p_5)\n",
        "print(\"有意水準1％\", p_1)"
      ],
      "execution_count": null,
      "outputs": [
        {
          "output_type": "stream",
          "name": "stdout",
          "text": [
            "有意水準10％ 2.333769400707735\n",
            "有意水準5％ 2.585619233691325\n",
            "有意水準1％ 3.1064810049788507\n"
          ]
        }
      ]
    },
    {
      "cell_type": "markdown",
      "metadata": {
        "id": "PEshxftFfoTt"
      },
      "source": [
        "さきほど求めたt値の絶対値はそれぞれ、"
      ]
    },
    {
      "cell_type": "code",
      "metadata": {
        "colab": {
          "base_uri": "https://localhost:8080/"
        },
        "id": "SvxAGsQdfrRw",
        "outputId": "eb44995c-a6e8-44c6-df98-634bcaa892a1"
      },
      "source": [
        "print(\"係数αのt値\", np.abs(t_alpha))\n",
        "print(\"係数βのt値\", np.abs(t_beta))"
      ],
      "execution_count": null,
      "outputs": [
        {
          "output_type": "stream",
          "name": "stdout",
          "text": [
            "係数αのt値 31.006387929691897\n",
            "係数βのt値 9.136599981351706\n"
          ]
        }
      ]
    },
    {
      "cell_type": "markdown",
      "metadata": {
        "id": "U_TaIw1mfwmW"
      },
      "source": [
        "のため、これらの臨界値を越えていることになります。かくして、有意水準は棄却され、推定した回帰係数は有意であることになります。"
      ]
    },
    {
      "cell_type": "markdown",
      "metadata": {
        "id": "o83BLss3gld8"
      },
      "source": [
        "### StatsModelsを使った単回帰分析"
      ]
    },
    {
      "cell_type": "markdown",
      "metadata": {
        "id": "orxuBSokhIdC"
      },
      "source": [
        "さて、実は Python ではStatsmodelsというパッケージを用いることで、ここまで数十行に渡ってお届けしてきた係数の推定や決定係数の導出や検定などを、まとめて行うことが出来ます。大学の講義っぽいまどろっこしさでありますね！\n",
        "\n",
        "まずは、先程と同じ単回帰モデルを以下の構文にて分析します。"
      ]
    },
    {
      "cell_type": "code",
      "metadata": {
        "id": "rVCke5EL7J0t",
        "colab": {
          "base_uri": "https://localhost:8080/"
        },
        "outputId": "78dd3f73-58d7-4b3c-c2b0-7656f0fa6608"
      },
      "source": [
        "import statsmodels.api as sm\n",
        "model = sm.OLS(Y, sm.add_constant(X.NOX))\n",
        "results = model.fit()\n",
        "print(results.summary())\n",
        "print('p-values\\n', results.pvalues)\n",
        "a, b = results.params\n",
        "print('a',a, 'b',b)"
      ],
      "execution_count": null,
      "outputs": [
        {
          "output_type": "stream",
          "name": "stdout",
          "text": [
            "                            OLS Regression Results                            \n",
            "==============================================================================\n",
            "Dep. Variable:                  price   R-squared:                       0.183\n",
            "Model:                            OLS   Adj. R-squared:                  0.181\n",
            "Method:                 Least Squares   F-statistic:                     112.6\n",
            "Date:                Thu, 09 Sep 2021   Prob (F-statistic):           7.07e-24\n",
            "Time:                        06:17:45   Log-Likelihood:                -1789.2\n",
            "No. Observations:                 506   AIC:                             3582.\n",
            "Df Residuals:                     504   BIC:                             3591.\n",
            "Df Model:                           1                                         \n",
            "Covariance Type:            nonrobust                                         \n",
            "==============================================================================\n",
            "                 coef    std err          t      P>|t|      [0.025      0.975]\n",
            "------------------------------------------------------------------------------\n",
            "const         41.3459      1.811     22.828      0.000      37.787      44.904\n",
            "NOX          -33.9161      3.196    -10.611      0.000     -40.196     -27.636\n",
            "==============================================================================\n",
            "Omnibus:                      165.520   Durbin-Watson:                   0.643\n",
            "Prob(Omnibus):                  0.000   Jarque-Bera (JB):              430.900\n",
            "Skew:                           1.641   Prob(JB):                     2.70e-94\n",
            "Kurtosis:                       6.109   Cond. No.                         11.3\n",
            "==============================================================================\n",
            "\n",
            "Warnings:\n",
            "[1] Standard Errors assume that the covariance matrix of the errors is correctly specified.\n",
            "p-values\n",
            " const    9.866245e-80\n",
            "NOX      7.065042e-24\n",
            "dtype: float64\n",
            "a 41.345874467973275 b -33.916055008661104\n"
          ]
        }
      ]
    },
    {
      "cell_type": "markdown",
      "metadata": {
        "id": "218yH-ZJWXPs"
      },
      "source": [
        "回帰係数や決定係数などがまとめて表形式でプロットされたかと思います。そして、それぞれの値がPythonで逐次計算して来た値とほぼ同じになっていることをご確認頂けるかと思います。\n",
        "\n",
        "(**データサイエンスのWebサイトや講義や教科書だと、こうした結果の出し方しか教えてくれなかったりするのですが、実は裏側でどういうロジックが動いているのかを知るのはとても大事だったりします。ということで、七面倒臭くはあるのですが、ひとつひとつ定式を追って、結果を見ることを是非試してください。**）"
      ]
    },
    {
      "cell_type": "markdown",
      "metadata": {
        "id": "Ord8XXHXjwhW"
      },
      "source": [
        "### log-log モデル"
      ]
    },
    {
      "cell_type": "markdown",
      "metadata": {
        "id": "nqfuWml9kDfo"
      },
      "source": [
        "被説明変数、説明変数両辺の対数を取った形で分析を行います。\n",
        "\n",
        "すなわち、\n",
        "\n",
        "$$ ln Y = ln a + b_i ln X + \\mu_i $$\n",
        "\n",
        "を求めることになります。\n",
        "\n",
        "ここでは、Xが1パーセント変化したときにYが何パーセント変化するかの弾力性を測定することになります。"
      ]
    },
    {
      "cell_type": "code",
      "metadata": {
        "colab": {
          "base_uri": "https://localhost:8080/"
        },
        "id": "UydU5AIzj3ZS",
        "outputId": "df8ee635-8d73-4d96-dca5-f2fa79675909"
      },
      "source": [
        "import statsmodels.api as sm\n",
        "model = sm.OLS(np.log(Y), sm.add_constant(np.log(X.AGE)))\n",
        "results = model.fit()\n",
        "print(results.summary())\n",
        "print('p-values\\n', results.pvalues)\n",
        "a, b = results.params\n",
        "print('a',a, 'b',b)"
      ],
      "execution_count": null,
      "outputs": [
        {
          "output_type": "stream",
          "name": "stdout",
          "text": [
            "                            OLS Regression Results                            \n",
            "==============================================================================\n",
            "Dep. Variable:                  price   R-squared:                       0.151\n",
            "Model:                            OLS   Adj. R-squared:                  0.149\n",
            "Method:                 Least Squares   F-statistic:                     89.59\n",
            "Date:                Thu, 09 Sep 2021   Prob (F-statistic):           1.12e-19\n",
            "Time:                        06:17:45   Log-Likelihood:                -223.40\n",
            "No. Observations:                 506   AIC:                             450.8\n",
            "Df Residuals:                     504   BIC:                             459.3\n",
            "Df Model:                           1                                         \n",
            "Covariance Type:            nonrobust                                         \n",
            "==============================================================================\n",
            "                 coef    std err          t      P>|t|      [0.025      0.975]\n",
            "------------------------------------------------------------------------------\n",
            "const          4.0982      0.114     36.070      0.000       3.875       4.321\n",
            "AGE           -0.2600      0.027     -9.465      0.000      -0.314      -0.206\n",
            "==============================================================================\n",
            "Omnibus:                       14.365   Durbin-Watson:                   0.510\n",
            "Prob(Omnibus):                  0.001   Jarque-Bera (JB):               29.336\n",
            "Skew:                           0.039   Prob(JB):                     4.26e-07\n",
            "Kurtosis:                       4.177   Cond. No.                         29.6\n",
            "==============================================================================\n",
            "\n",
            "Warnings:\n",
            "[1] Standard Errors assume that the covariance matrix of the errors is correctly specified.\n",
            "p-values\n",
            " const    1.002096e-141\n",
            "AGE       1.122208e-19\n",
            "dtype: float64\n",
            "a 4.0981804389146905 b -0.2600143769054414\n"
          ]
        }
      ]
    },
    {
      "cell_type": "markdown",
      "metadata": {
        "id": "NBoTMguNkLYV"
      },
      "source": [
        "### semi-log モデル"
      ]
    },
    {
      "cell_type": "markdown",
      "metadata": {
        "id": "nJjk4-LIkPb-"
      },
      "source": [
        "被説明変数のみ対数を取った形にて回帰を行います。\n",
        "\n",
        "すなわち、\n",
        "\n",
        "$$ ln Y = ln a + b_i X + \\mu_i $$\n",
        "\n",
        "を求めることになります。\n",
        "\n",
        "ここでは、Xが一単位変化したときのYの変分を求めることになります。"
      ]
    },
    {
      "cell_type": "code",
      "metadata": {
        "colab": {
          "base_uri": "https://localhost:8080/"
        },
        "id": "MUHBb7WLkWOu",
        "outputId": "4c0737b2-01ed-4946-8ba3-03a2cc9ac435"
      },
      "source": [
        "import statsmodels.api as sm\n",
        "model = sm.OLS(np.log(Y), sm.add_constant(X.AGE))\n",
        "results = model.fit()\n",
        "print(results.summary())\n",
        "print('p-values\\n', results.pvalues)\n",
        "a, b = results.params\n",
        "print('a',a, 'b',b)"
      ],
      "execution_count": null,
      "outputs": [
        {
          "output_type": "stream",
          "name": "stdout",
          "text": [
            "                            OLS Regression Results                            \n",
            "==============================================================================\n",
            "Dep. Variable:                  price   R-squared:                       0.206\n",
            "Model:                            OLS   Adj. R-squared:                  0.204\n",
            "Method:                 Least Squares   F-statistic:                     130.4\n",
            "Date:                Thu, 09 Sep 2021   Prob (F-statistic):           5.03e-27\n",
            "Time:                        06:17:45   Log-Likelihood:                -206.57\n",
            "No. Observations:                 506   AIC:                             417.1\n",
            "Df Residuals:                     504   BIC:                             425.6\n",
            "Df Model:                           1                                         \n",
            "Covariance Type:            nonrobust                                         \n",
            "==============================================================================\n",
            "                 coef    std err          t      P>|t|      [0.025      0.975]\n",
            "------------------------------------------------------------------------------\n",
            "const          3.4860      0.043     81.584      0.000       3.402       3.570\n",
            "AGE           -0.0066      0.001    -11.421      0.000      -0.008      -0.005\n",
            "==============================================================================\n",
            "Omnibus:                       23.875   Durbin-Watson:                   0.530\n",
            "Prob(Omnibus):                  0.000   Jarque-Bera (JB):               50.885\n",
            "Skew:                           0.243   Prob(JB):                     8.92e-12\n",
            "Kurtosis:                       4.476   Cond. No.                         195.\n",
            "==============================================================================\n",
            "\n",
            "Warnings:\n",
            "[1] Standard Errors assume that the covariance matrix of the errors is correctly specified.\n",
            "p-values\n",
            " const    1.388394e-292\n",
            "AGE       5.033204e-27\n",
            "dtype: float64\n",
            "a 3.4860273856179833 b -0.006584253180039819\n"
          ]
        }
      ]
    },
    {
      "cell_type": "markdown",
      "metadata": {
        "id": "GzdPm6z4kjLN"
      },
      "source": [
        "### 二次関数モデル"
      ]
    },
    {
      "cell_type": "markdown",
      "metadata": {
        "id": "7rPIehVHknOj"
      },
      "source": [
        "説明変数を自乗した値を含めたモデルで回帰を行います。\n",
        "\n",
        "すなわち、\n",
        "\n",
        "$$ Y = ln a + b_i X + c_i X^2+\\mu_i $$\n",
        "\n",
        "を求めることになります。"
      ]
    },
    {
      "cell_type": "code",
      "metadata": {
        "colab": {
          "base_uri": "https://localhost:8080/"
        },
        "id": "IDQ4jPwTkxL_",
        "outputId": "7b81bdc1-3a03-4151-8ae1-628adc2a934b"
      },
      "source": [
        "import statsmodels.api as sm\n",
        "\n",
        "#AGEを自乗した値を求める\n",
        "X_power_list=np.power(X.AGE,2)\n",
        "\n",
        "#変数リストを作成する\n",
        "X_list2=pd.concat([X.AGE, X_power_list], axis=1)\n",
        "name_list=[\"age\", \"age**2\"]\n",
        "X_list2.columns=name_list\n",
        "\n",
        "model = sm.OLS(Y, sm.add_constant(X_list2))\n",
        "results = model.fit()\n",
        "print(results.summary())\n",
        "print('p-values\\n', results.pvalues)\n",
        "a, b, c  = results.params\n",
        "print('a',a, 'b',b, c)"
      ],
      "execution_count": null,
      "outputs": [
        {
          "output_type": "stream",
          "name": "stdout",
          "text": [
            "                            OLS Regression Results                            \n",
            "==============================================================================\n",
            "Dep. Variable:                  price   R-squared:                       0.155\n",
            "Model:                            OLS   Adj. R-squared:                  0.151\n",
            "Method:                 Least Squares   F-statistic:                     46.08\n",
            "Date:                Thu, 09 Sep 2021   Prob (F-statistic):           4.22e-19\n",
            "Time:                        06:17:46   Log-Likelihood:                -1797.7\n",
            "No. Observations:                 506   AIC:                             3601.\n",
            "Df Residuals:                     503   BIC:                             3614.\n",
            "Df Model:                           2                                         \n",
            "Covariance Type:            nonrobust                                         \n",
            "==============================================================================\n",
            "                 coef    std err          t      P>|t|      [0.025      0.975]\n",
            "------------------------------------------------------------------------------\n",
            "const         26.5674      1.885     14.097      0.000      22.865      30.270\n",
            "age            0.0692      0.071      0.973      0.331      -0.071       0.209\n",
            "age**2        -0.0016      0.001     -2.754      0.006      -0.003      -0.000\n",
            "==============================================================================\n",
            "Omnibus:                      179.752   Durbin-Watson:                   0.628\n",
            "Prob(Omnibus):                  0.000   Jarque-Bera (JB):              518.132\n",
            "Skew:                           1.737   Prob(JB):                    3.08e-113\n",
            "Kurtosis:                       6.537   Cond. No.                     3.25e+04\n",
            "==============================================================================\n",
            "\n",
            "Warnings:\n",
            "[1] Standard Errors assume that the covariance matrix of the errors is correctly specified.\n",
            "[2] The condition number is large, 3.25e+04. This might indicate that there are\n",
            "strong multicollinearity or other numerical problems.\n",
            "p-values\n",
            " const     2.848263e-38\n",
            "age       3.311116e-01\n",
            "age**2    6.106237e-03\n",
            "dtype: float64\n",
            "a 26.567410567052477 b 0.06919309421671475 -0.001598219391961189\n"
          ]
        }
      ]
    },
    {
      "cell_type": "markdown",
      "metadata": {
        "id": "20IjHKD_8rtG"
      },
      "source": [
        "## 重回帰分析"
      ]
    },
    {
      "cell_type": "code",
      "metadata": {
        "colab": {
          "base_uri": "https://localhost:8080/"
        },
        "id": "sVO1Qq0V8u4x",
        "outputId": "7d059de2-4ddd-499a-ed00-80d109a7c215"
      },
      "source": [
        "import numpy as np\n",
        "\n",
        "X_list=pd.concat([X.NOX, X.AGE, X.TAX], axis=1)\n",
        "\n",
        "import statsmodels.api as sm\n",
        "model = sm.OLS(np.log(Y), sm.add_constant(np.log(X_list)))\n",
        "results = model.fit()\n",
        "print(results.summary())\n",
        "print('p-values\\n', results.pvalues)\n",
        "a, b, c, d = results.params\n",
        "print('a',a, 'b',b, c, d)"
      ],
      "execution_count": null,
      "outputs": [
        {
          "output_type": "stream",
          "name": "stdout",
          "text": [
            "                            OLS Regression Results                            \n",
            "==============================================================================\n",
            "Dep. Variable:                  price   R-squared:                       0.353\n",
            "Model:                            OLS   Adj. R-squared:                  0.349\n",
            "Method:                 Least Squares   F-statistic:                     91.35\n",
            "Date:                Thu, 09 Sep 2021   Prob (F-statistic):           3.49e-47\n",
            "Time:                        06:17:46   Log-Likelihood:                -154.59\n",
            "No. Observations:                 506   AIC:                             317.2\n",
            "Df Residuals:                     502   BIC:                             334.1\n",
            "Df Model:                           3                                         \n",
            "Covariance Type:            nonrobust                                         \n",
            "==============================================================================\n",
            "                 coef    std err          t      P>|t|      [0.025      0.975]\n",
            "------------------------------------------------------------------------------\n",
            "const          5.4934      0.393     13.961      0.000       4.720       6.266\n",
            "NOX           -0.3706      0.122     -3.046      0.002      -0.610      -0.132\n",
            "AGE           -0.0694      0.033     -2.119      0.035      -0.134      -0.005\n",
            "TAX           -0.4048      0.050     -8.110      0.000      -0.503      -0.307\n",
            "==============================================================================\n",
            "Omnibus:                       47.352   Durbin-Watson:                   0.596\n",
            "Prob(Omnibus):                  0.000   Jarque-Bera (JB):               93.548\n",
            "Skew:                           0.557   Prob(JB):                     4.86e-21\n",
            "Kurtosis:                       4.788   Cond. No.                         204.\n",
            "==============================================================================\n",
            "\n",
            "Warnings:\n",
            "[1] Standard Errors assume that the covariance matrix of the errors is correctly specified.\n",
            "p-values\n",
            " const    1.165930e-37\n",
            "NOX      2.443964e-03\n",
            "AGE      3.457842e-02\n",
            "TAX      3.902024e-15\n",
            "dtype: float64\n",
            "a 5.493374735239387 b -0.3706425704945549 -0.06939777007028512 -0.40480643506838465\n"
          ]
        }
      ]
    },
    {
      "cell_type": "markdown",
      "metadata": {
        "id": "5xaCrS15ppvs"
      },
      "source": [
        "## レポート２（配点60点)"
      ]
    },
    {
      "cell_type": "markdown",
      "metadata": {
        "id": "Lgm0sU20qQw2"
      },
      "source": [
        "サンプルデータセットの変数Xのうち、CRIM, ZN, INDUS, NOX, RM, DIS, RAD, TAX, PTRATIO, B, LSTAT からひとつ説明変数を選択し、被説明変数を Y (Price) として単回帰分析を行うこと。\n",
        "このとき、\n",
        " - 回帰係数の推定\n",
        " - 決定係数の導出\n",
        " - 回帰係数の検定\n",
        " などを行い、説明変数が有意に寄与したか確認すること。\n",
        " \n",
        "提出は、Google Colaboratory の共有リンクもしくは Jupyter Notebook の内容をTeams のDM経由で行うこと。2021/8/29 17:30 までを期限とする。"
      ]
    },
    {
      "cell_type": "code",
      "metadata": {
        "id": "s--HS4O3by9i"
      },
      "source": [
        ""
      ],
      "execution_count": null,
      "outputs": []
    }
  ]
}