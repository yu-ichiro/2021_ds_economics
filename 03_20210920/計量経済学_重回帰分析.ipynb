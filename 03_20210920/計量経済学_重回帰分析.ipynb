{
  "nbformat": 4,
  "nbformat_minor": 0,
  "metadata": {
    "colab": {
      "name": "計量経済学 重回帰分析",
      "provenance": [],
      "collapsed_sections": [],
      "toc_visible": true
    },
    "kernelspec": {
      "name": "python3",
      "display_name": "Python 3"
    },
    "language_info": {
      "name": "python"
    }
  },
  "cells": [
    {
      "cell_type": "markdown",
      "metadata": {
        "id": "NR3isN_ihFoO"
      },
      "source": [
        "# 計量経済学 重回帰分析"
      ]
    },
    {
      "cell_type": "markdown",
      "metadata": {
        "id": "xlPysznphTmf"
      },
      "source": [
        "一橋大学大学院経済学研究科 原泰史\n",
        "\n",
        "ここでは前半に引き続き、日本中の経済学部/経営学部に存在する「計量経済学」という講義の中で最初にドアをノックすることで有名な回帰分析を、Python を通じて学習することを目指します。Google Colaboratory 上で実行出来るようになっていますので、適宜コードを実行して頂ければと思います。\n",
        "\n",
        "今回は、重回帰分析を行います。\n",
        "\n",
        "* 回帰係数の推定\n",
        "* 決定係数の導出\n",
        "* 回帰係数の検定\n",
        "* Statsmodelsを使った分析\n",
        "\n",
        "などについて、その概要およびPython での実行方法を履修していただきます。\n",
        "\n",
        "実行の際には、[ファイル]-[ドライブにコピーを保存]から、Notebook を自らのGoogle アカウントにコピーする作業を行ってください。\n",
        "\n"
      ]
    },
    {
      "cell_type": "markdown",
      "metadata": {
        "id": "tE-qw57AMpBg"
      },
      "source": [
        "## サンプルデータセットの読み込み"
      ]
    },
    {
      "cell_type": "markdown",
      "metadata": {
        "id": "LWl5ExoeRMm7"
      },
      "source": [
        "まずはサンプルのデータセットを読み込みます。Day2+3と同じものです。"
      ]
    },
    {
      "cell_type": "code",
      "metadata": {
        "id": "w22JvtwvgzYx"
      },
      "source": [
        "#ボストンのデータセットを読み込む\n",
        "from sklearn.datasets import load_boston\n",
        "boston = load_boston() "
      ],
      "execution_count": null,
      "outputs": []
    },
    {
      "cell_type": "code",
      "metadata": {
        "colab": {
          "base_uri": "https://localhost:8080/"
        },
        "id": "nzvtGV3Vg9gJ",
        "outputId": "ecd08520-8edc-4a58-d1c0-ae2a22d72511"
      },
      "source": [
        "#データの中身を確認する\n",
        "boston"
      ],
      "execution_count": null,
      "outputs": [
        {
          "output_type": "execute_result",
          "data": {
            "text/plain": [
              "{'DESCR': \".. _boston_dataset:\\n\\nBoston house prices dataset\\n---------------------------\\n\\n**Data Set Characteristics:**  \\n\\n    :Number of Instances: 506 \\n\\n    :Number of Attributes: 13 numeric/categorical predictive. Median Value (attribute 14) is usually the target.\\n\\n    :Attribute Information (in order):\\n        - CRIM     per capita crime rate by town\\n        - ZN       proportion of residential land zoned for lots over 25,000 sq.ft.\\n        - INDUS    proportion of non-retail business acres per town\\n        - CHAS     Charles River dummy variable (= 1 if tract bounds river; 0 otherwise)\\n        - NOX      nitric oxides concentration (parts per 10 million)\\n        - RM       average number of rooms per dwelling\\n        - AGE      proportion of owner-occupied units built prior to 1940\\n        - DIS      weighted distances to five Boston employment centres\\n        - RAD      index of accessibility to radial highways\\n        - TAX      full-value property-tax rate per $10,000\\n        - PTRATIO  pupil-teacher ratio by town\\n        - B        1000(Bk - 0.63)^2 where Bk is the proportion of blacks by town\\n        - LSTAT    % lower status of the population\\n        - MEDV     Median value of owner-occupied homes in $1000's\\n\\n    :Missing Attribute Values: None\\n\\n    :Creator: Harrison, D. and Rubinfeld, D.L.\\n\\nThis is a copy of UCI ML housing dataset.\\nhttps://archive.ics.uci.edu/ml/machine-learning-databases/housing/\\n\\n\\nThis dataset was taken from the StatLib library which is maintained at Carnegie Mellon University.\\n\\nThe Boston house-price data of Harrison, D. and Rubinfeld, D.L. 'Hedonic\\nprices and the demand for clean air', J. Environ. Economics & Management,\\nvol.5, 81-102, 1978.   Used in Belsley, Kuh & Welsch, 'Regression diagnostics\\n...', Wiley, 1980.   N.B. Various transformations are used in the table on\\npages 244-261 of the latter.\\n\\nThe Boston house-price data has been used in many machine learning papers that address regression\\nproblems.   \\n     \\n.. topic:: References\\n\\n   - Belsley, Kuh & Welsch, 'Regression diagnostics: Identifying Influential Data and Sources of Collinearity', Wiley, 1980. 244-261.\\n   - Quinlan,R. (1993). Combining Instance-Based and Model-Based Learning. In Proceedings on the Tenth International Conference of Machine Learning, 236-243, University of Massachusetts, Amherst. Morgan Kaufmann.\\n\",\n",
              " 'data': array([[6.3200e-03, 1.8000e+01, 2.3100e+00, ..., 1.5300e+01, 3.9690e+02,\n",
              "         4.9800e+00],\n",
              "        [2.7310e-02, 0.0000e+00, 7.0700e+00, ..., 1.7800e+01, 3.9690e+02,\n",
              "         9.1400e+00],\n",
              "        [2.7290e-02, 0.0000e+00, 7.0700e+00, ..., 1.7800e+01, 3.9283e+02,\n",
              "         4.0300e+00],\n",
              "        ...,\n",
              "        [6.0760e-02, 0.0000e+00, 1.1930e+01, ..., 2.1000e+01, 3.9690e+02,\n",
              "         5.6400e+00],\n",
              "        [1.0959e-01, 0.0000e+00, 1.1930e+01, ..., 2.1000e+01, 3.9345e+02,\n",
              "         6.4800e+00],\n",
              "        [4.7410e-02, 0.0000e+00, 1.1930e+01, ..., 2.1000e+01, 3.9690e+02,\n",
              "         7.8800e+00]]),\n",
              " 'feature_names': array(['CRIM', 'ZN', 'INDUS', 'CHAS', 'NOX', 'RM', 'AGE', 'DIS', 'RAD',\n",
              "        'TAX', 'PTRATIO', 'B', 'LSTAT'], dtype='<U7'),\n",
              " 'filename': '/usr/local/lib/python3.7/dist-packages/sklearn/datasets/data/boston_house_prices.csv',\n",
              " 'target': array([24. , 21.6, 34.7, 33.4, 36.2, 28.7, 22.9, 27.1, 16.5, 18.9, 15. ,\n",
              "        18.9, 21.7, 20.4, 18.2, 19.9, 23.1, 17.5, 20.2, 18.2, 13.6, 19.6,\n",
              "        15.2, 14.5, 15.6, 13.9, 16.6, 14.8, 18.4, 21. , 12.7, 14.5, 13.2,\n",
              "        13.1, 13.5, 18.9, 20. , 21. , 24.7, 30.8, 34.9, 26.6, 25.3, 24.7,\n",
              "        21.2, 19.3, 20. , 16.6, 14.4, 19.4, 19.7, 20.5, 25. , 23.4, 18.9,\n",
              "        35.4, 24.7, 31.6, 23.3, 19.6, 18.7, 16. , 22.2, 25. , 33. , 23.5,\n",
              "        19.4, 22. , 17.4, 20.9, 24.2, 21.7, 22.8, 23.4, 24.1, 21.4, 20. ,\n",
              "        20.8, 21.2, 20.3, 28. , 23.9, 24.8, 22.9, 23.9, 26.6, 22.5, 22.2,\n",
              "        23.6, 28.7, 22.6, 22. , 22.9, 25. , 20.6, 28.4, 21.4, 38.7, 43.8,\n",
              "        33.2, 27.5, 26.5, 18.6, 19.3, 20.1, 19.5, 19.5, 20.4, 19.8, 19.4,\n",
              "        21.7, 22.8, 18.8, 18.7, 18.5, 18.3, 21.2, 19.2, 20.4, 19.3, 22. ,\n",
              "        20.3, 20.5, 17.3, 18.8, 21.4, 15.7, 16.2, 18. , 14.3, 19.2, 19.6,\n",
              "        23. , 18.4, 15.6, 18.1, 17.4, 17.1, 13.3, 17.8, 14. , 14.4, 13.4,\n",
              "        15.6, 11.8, 13.8, 15.6, 14.6, 17.8, 15.4, 21.5, 19.6, 15.3, 19.4,\n",
              "        17. , 15.6, 13.1, 41.3, 24.3, 23.3, 27. , 50. , 50. , 50. , 22.7,\n",
              "        25. , 50. , 23.8, 23.8, 22.3, 17.4, 19.1, 23.1, 23.6, 22.6, 29.4,\n",
              "        23.2, 24.6, 29.9, 37.2, 39.8, 36.2, 37.9, 32.5, 26.4, 29.6, 50. ,\n",
              "        32. , 29.8, 34.9, 37. , 30.5, 36.4, 31.1, 29.1, 50. , 33.3, 30.3,\n",
              "        34.6, 34.9, 32.9, 24.1, 42.3, 48.5, 50. , 22.6, 24.4, 22.5, 24.4,\n",
              "        20. , 21.7, 19.3, 22.4, 28.1, 23.7, 25. , 23.3, 28.7, 21.5, 23. ,\n",
              "        26.7, 21.7, 27.5, 30.1, 44.8, 50. , 37.6, 31.6, 46.7, 31.5, 24.3,\n",
              "        31.7, 41.7, 48.3, 29. , 24. , 25.1, 31.5, 23.7, 23.3, 22. , 20.1,\n",
              "        22.2, 23.7, 17.6, 18.5, 24.3, 20.5, 24.5, 26.2, 24.4, 24.8, 29.6,\n",
              "        42.8, 21.9, 20.9, 44. , 50. , 36. , 30.1, 33.8, 43.1, 48.8, 31. ,\n",
              "        36.5, 22.8, 30.7, 50. , 43.5, 20.7, 21.1, 25.2, 24.4, 35.2, 32.4,\n",
              "        32. , 33.2, 33.1, 29.1, 35.1, 45.4, 35.4, 46. , 50. , 32.2, 22. ,\n",
              "        20.1, 23.2, 22.3, 24.8, 28.5, 37.3, 27.9, 23.9, 21.7, 28.6, 27.1,\n",
              "        20.3, 22.5, 29. , 24.8, 22. , 26.4, 33.1, 36.1, 28.4, 33.4, 28.2,\n",
              "        22.8, 20.3, 16.1, 22.1, 19.4, 21.6, 23.8, 16.2, 17.8, 19.8, 23.1,\n",
              "        21. , 23.8, 23.1, 20.4, 18.5, 25. , 24.6, 23. , 22.2, 19.3, 22.6,\n",
              "        19.8, 17.1, 19.4, 22.2, 20.7, 21.1, 19.5, 18.5, 20.6, 19. , 18.7,\n",
              "        32.7, 16.5, 23.9, 31.2, 17.5, 17.2, 23.1, 24.5, 26.6, 22.9, 24.1,\n",
              "        18.6, 30.1, 18.2, 20.6, 17.8, 21.7, 22.7, 22.6, 25. , 19.9, 20.8,\n",
              "        16.8, 21.9, 27.5, 21.9, 23.1, 50. , 50. , 50. , 50. , 50. , 13.8,\n",
              "        13.8, 15. , 13.9, 13.3, 13.1, 10.2, 10.4, 10.9, 11.3, 12.3,  8.8,\n",
              "         7.2, 10.5,  7.4, 10.2, 11.5, 15.1, 23.2,  9.7, 13.8, 12.7, 13.1,\n",
              "        12.5,  8.5,  5. ,  6.3,  5.6,  7.2, 12.1,  8.3,  8.5,  5. , 11.9,\n",
              "        27.9, 17.2, 27.5, 15. , 17.2, 17.9, 16.3,  7. ,  7.2,  7.5, 10.4,\n",
              "         8.8,  8.4, 16.7, 14.2, 20.8, 13.4, 11.7,  8.3, 10.2, 10.9, 11. ,\n",
              "         9.5, 14.5, 14.1, 16.1, 14.3, 11.7, 13.4,  9.6,  8.7,  8.4, 12.8,\n",
              "        10.5, 17.1, 18.4, 15.4, 10.8, 11.8, 14.9, 12.6, 14.1, 13. , 13.4,\n",
              "        15.2, 16.1, 17.8, 14.9, 14.1, 12.7, 13.5, 14.9, 20. , 16.4, 17.7,\n",
              "        19.5, 20.2, 21.4, 19.9, 19. , 19.1, 19.1, 20.1, 19.9, 19.6, 23.2,\n",
              "        29.8, 13.8, 13.3, 16.7, 12. , 14.6, 21.4, 23. , 23.7, 25. , 21.8,\n",
              "        20.6, 21.2, 19.1, 20.6, 15.2,  7. ,  8.1, 13.6, 20.1, 21.8, 24.5,\n",
              "        23.1, 19.7, 18.3, 21.2, 17.5, 16.8, 22.4, 20.6, 23.9, 22. , 11.9])}"
            ]
          },
          "metadata": {},
          "execution_count": 4
        }
      ]
    },
    {
      "cell_type": "code",
      "metadata": {
        "id": "1VUwp9bghecC"
      },
      "source": [
        "#Pandas をインポートする\n",
        "import pandas as pd\n",
        "\n",
        "#X の値を取り出す\n",
        "X = pd.DataFrame(boston.data, columns=boston.feature_names)\n",
        "#Y の値を取り出す\n",
        "#名前を指定する\n",
        "y_name={\"price\"}\n",
        "Y = pd.DataFrame(boston.target, columns=y_name)"
      ],
      "execution_count": null,
      "outputs": []
    },
    {
      "cell_type": "code",
      "metadata": {
        "colab": {
          "base_uri": "https://localhost:8080/",
          "height": 423
        },
        "id": "zzuUIzPdht2g",
        "outputId": "7335315a-c83f-407b-dff3-5ebe0a831a61"
      },
      "source": [
        "#Xの中身を確認する\n",
        "X"
      ],
      "execution_count": null,
      "outputs": [
        {
          "output_type": "execute_result",
          "data": {
            "text/html": [
              "<div>\n",
              "<style scoped>\n",
              "    .dataframe tbody tr th:only-of-type {\n",
              "        vertical-align: middle;\n",
              "    }\n",
              "\n",
              "    .dataframe tbody tr th {\n",
              "        vertical-align: top;\n",
              "    }\n",
              "\n",
              "    .dataframe thead th {\n",
              "        text-align: right;\n",
              "    }\n",
              "</style>\n",
              "<table border=\"1\" class=\"dataframe\">\n",
              "  <thead>\n",
              "    <tr style=\"text-align: right;\">\n",
              "      <th></th>\n",
              "      <th>CRIM</th>\n",
              "      <th>ZN</th>\n",
              "      <th>INDUS</th>\n",
              "      <th>CHAS</th>\n",
              "      <th>NOX</th>\n",
              "      <th>RM</th>\n",
              "      <th>AGE</th>\n",
              "      <th>DIS</th>\n",
              "      <th>RAD</th>\n",
              "      <th>TAX</th>\n",
              "      <th>PTRATIO</th>\n",
              "      <th>B</th>\n",
              "      <th>LSTAT</th>\n",
              "    </tr>\n",
              "  </thead>\n",
              "  <tbody>\n",
              "    <tr>\n",
              "      <th>0</th>\n",
              "      <td>0.00632</td>\n",
              "      <td>18.0</td>\n",
              "      <td>2.31</td>\n",
              "      <td>0.0</td>\n",
              "      <td>0.538</td>\n",
              "      <td>6.575</td>\n",
              "      <td>65.2</td>\n",
              "      <td>4.0900</td>\n",
              "      <td>1.0</td>\n",
              "      <td>296.0</td>\n",
              "      <td>15.3</td>\n",
              "      <td>396.90</td>\n",
              "      <td>4.98</td>\n",
              "    </tr>\n",
              "    <tr>\n",
              "      <th>1</th>\n",
              "      <td>0.02731</td>\n",
              "      <td>0.0</td>\n",
              "      <td>7.07</td>\n",
              "      <td>0.0</td>\n",
              "      <td>0.469</td>\n",
              "      <td>6.421</td>\n",
              "      <td>78.9</td>\n",
              "      <td>4.9671</td>\n",
              "      <td>2.0</td>\n",
              "      <td>242.0</td>\n",
              "      <td>17.8</td>\n",
              "      <td>396.90</td>\n",
              "      <td>9.14</td>\n",
              "    </tr>\n",
              "    <tr>\n",
              "      <th>2</th>\n",
              "      <td>0.02729</td>\n",
              "      <td>0.0</td>\n",
              "      <td>7.07</td>\n",
              "      <td>0.0</td>\n",
              "      <td>0.469</td>\n",
              "      <td>7.185</td>\n",
              "      <td>61.1</td>\n",
              "      <td>4.9671</td>\n",
              "      <td>2.0</td>\n",
              "      <td>242.0</td>\n",
              "      <td>17.8</td>\n",
              "      <td>392.83</td>\n",
              "      <td>4.03</td>\n",
              "    </tr>\n",
              "    <tr>\n",
              "      <th>3</th>\n",
              "      <td>0.03237</td>\n",
              "      <td>0.0</td>\n",
              "      <td>2.18</td>\n",
              "      <td>0.0</td>\n",
              "      <td>0.458</td>\n",
              "      <td>6.998</td>\n",
              "      <td>45.8</td>\n",
              "      <td>6.0622</td>\n",
              "      <td>3.0</td>\n",
              "      <td>222.0</td>\n",
              "      <td>18.7</td>\n",
              "      <td>394.63</td>\n",
              "      <td>2.94</td>\n",
              "    </tr>\n",
              "    <tr>\n",
              "      <th>4</th>\n",
              "      <td>0.06905</td>\n",
              "      <td>0.0</td>\n",
              "      <td>2.18</td>\n",
              "      <td>0.0</td>\n",
              "      <td>0.458</td>\n",
              "      <td>7.147</td>\n",
              "      <td>54.2</td>\n",
              "      <td>6.0622</td>\n",
              "      <td>3.0</td>\n",
              "      <td>222.0</td>\n",
              "      <td>18.7</td>\n",
              "      <td>396.90</td>\n",
              "      <td>5.33</td>\n",
              "    </tr>\n",
              "    <tr>\n",
              "      <th>...</th>\n",
              "      <td>...</td>\n",
              "      <td>...</td>\n",
              "      <td>...</td>\n",
              "      <td>...</td>\n",
              "      <td>...</td>\n",
              "      <td>...</td>\n",
              "      <td>...</td>\n",
              "      <td>...</td>\n",
              "      <td>...</td>\n",
              "      <td>...</td>\n",
              "      <td>...</td>\n",
              "      <td>...</td>\n",
              "      <td>...</td>\n",
              "    </tr>\n",
              "    <tr>\n",
              "      <th>501</th>\n",
              "      <td>0.06263</td>\n",
              "      <td>0.0</td>\n",
              "      <td>11.93</td>\n",
              "      <td>0.0</td>\n",
              "      <td>0.573</td>\n",
              "      <td>6.593</td>\n",
              "      <td>69.1</td>\n",
              "      <td>2.4786</td>\n",
              "      <td>1.0</td>\n",
              "      <td>273.0</td>\n",
              "      <td>21.0</td>\n",
              "      <td>391.99</td>\n",
              "      <td>9.67</td>\n",
              "    </tr>\n",
              "    <tr>\n",
              "      <th>502</th>\n",
              "      <td>0.04527</td>\n",
              "      <td>0.0</td>\n",
              "      <td>11.93</td>\n",
              "      <td>0.0</td>\n",
              "      <td>0.573</td>\n",
              "      <td>6.120</td>\n",
              "      <td>76.7</td>\n",
              "      <td>2.2875</td>\n",
              "      <td>1.0</td>\n",
              "      <td>273.0</td>\n",
              "      <td>21.0</td>\n",
              "      <td>396.90</td>\n",
              "      <td>9.08</td>\n",
              "    </tr>\n",
              "    <tr>\n",
              "      <th>503</th>\n",
              "      <td>0.06076</td>\n",
              "      <td>0.0</td>\n",
              "      <td>11.93</td>\n",
              "      <td>0.0</td>\n",
              "      <td>0.573</td>\n",
              "      <td>6.976</td>\n",
              "      <td>91.0</td>\n",
              "      <td>2.1675</td>\n",
              "      <td>1.0</td>\n",
              "      <td>273.0</td>\n",
              "      <td>21.0</td>\n",
              "      <td>396.90</td>\n",
              "      <td>5.64</td>\n",
              "    </tr>\n",
              "    <tr>\n",
              "      <th>504</th>\n",
              "      <td>0.10959</td>\n",
              "      <td>0.0</td>\n",
              "      <td>11.93</td>\n",
              "      <td>0.0</td>\n",
              "      <td>0.573</td>\n",
              "      <td>6.794</td>\n",
              "      <td>89.3</td>\n",
              "      <td>2.3889</td>\n",
              "      <td>1.0</td>\n",
              "      <td>273.0</td>\n",
              "      <td>21.0</td>\n",
              "      <td>393.45</td>\n",
              "      <td>6.48</td>\n",
              "    </tr>\n",
              "    <tr>\n",
              "      <th>505</th>\n",
              "      <td>0.04741</td>\n",
              "      <td>0.0</td>\n",
              "      <td>11.93</td>\n",
              "      <td>0.0</td>\n",
              "      <td>0.573</td>\n",
              "      <td>6.030</td>\n",
              "      <td>80.8</td>\n",
              "      <td>2.5050</td>\n",
              "      <td>1.0</td>\n",
              "      <td>273.0</td>\n",
              "      <td>21.0</td>\n",
              "      <td>396.90</td>\n",
              "      <td>7.88</td>\n",
              "    </tr>\n",
              "  </tbody>\n",
              "</table>\n",
              "<p>506 rows × 13 columns</p>\n",
              "</div>"
            ],
            "text/plain": [
              "        CRIM    ZN  INDUS  CHAS    NOX  ...  RAD    TAX  PTRATIO       B  LSTAT\n",
              "0    0.00632  18.0   2.31   0.0  0.538  ...  1.0  296.0     15.3  396.90   4.98\n",
              "1    0.02731   0.0   7.07   0.0  0.469  ...  2.0  242.0     17.8  396.90   9.14\n",
              "2    0.02729   0.0   7.07   0.0  0.469  ...  2.0  242.0     17.8  392.83   4.03\n",
              "3    0.03237   0.0   2.18   0.0  0.458  ...  3.0  222.0     18.7  394.63   2.94\n",
              "4    0.06905   0.0   2.18   0.0  0.458  ...  3.0  222.0     18.7  396.90   5.33\n",
              "..       ...   ...    ...   ...    ...  ...  ...    ...      ...     ...    ...\n",
              "501  0.06263   0.0  11.93   0.0  0.573  ...  1.0  273.0     21.0  391.99   9.67\n",
              "502  0.04527   0.0  11.93   0.0  0.573  ...  1.0  273.0     21.0  396.90   9.08\n",
              "503  0.06076   0.0  11.93   0.0  0.573  ...  1.0  273.0     21.0  396.90   5.64\n",
              "504  0.10959   0.0  11.93   0.0  0.573  ...  1.0  273.0     21.0  393.45   6.48\n",
              "505  0.04741   0.0  11.93   0.0  0.573  ...  1.0  273.0     21.0  396.90   7.88\n",
              "\n",
              "[506 rows x 13 columns]"
            ]
          },
          "metadata": {},
          "execution_count": 6
        }
      ]
    },
    {
      "cell_type": "code",
      "metadata": {
        "colab": {
          "base_uri": "https://localhost:8080/",
          "height": 423
        },
        "id": "O_bkz2DYh58I",
        "outputId": "95666d9e-c4e0-415c-d39f-2ac3f833afb7"
      },
      "source": [
        "#Yの中身を確認する\n",
        "Y"
      ],
      "execution_count": null,
      "outputs": [
        {
          "output_type": "execute_result",
          "data": {
            "text/html": [
              "<div>\n",
              "<style scoped>\n",
              "    .dataframe tbody tr th:only-of-type {\n",
              "        vertical-align: middle;\n",
              "    }\n",
              "\n",
              "    .dataframe tbody tr th {\n",
              "        vertical-align: top;\n",
              "    }\n",
              "\n",
              "    .dataframe thead th {\n",
              "        text-align: right;\n",
              "    }\n",
              "</style>\n",
              "<table border=\"1\" class=\"dataframe\">\n",
              "  <thead>\n",
              "    <tr style=\"text-align: right;\">\n",
              "      <th></th>\n",
              "      <th>price</th>\n",
              "    </tr>\n",
              "  </thead>\n",
              "  <tbody>\n",
              "    <tr>\n",
              "      <th>0</th>\n",
              "      <td>24.0</td>\n",
              "    </tr>\n",
              "    <tr>\n",
              "      <th>1</th>\n",
              "      <td>21.6</td>\n",
              "    </tr>\n",
              "    <tr>\n",
              "      <th>2</th>\n",
              "      <td>34.7</td>\n",
              "    </tr>\n",
              "    <tr>\n",
              "      <th>3</th>\n",
              "      <td>33.4</td>\n",
              "    </tr>\n",
              "    <tr>\n",
              "      <th>4</th>\n",
              "      <td>36.2</td>\n",
              "    </tr>\n",
              "    <tr>\n",
              "      <th>...</th>\n",
              "      <td>...</td>\n",
              "    </tr>\n",
              "    <tr>\n",
              "      <th>501</th>\n",
              "      <td>22.4</td>\n",
              "    </tr>\n",
              "    <tr>\n",
              "      <th>502</th>\n",
              "      <td>20.6</td>\n",
              "    </tr>\n",
              "    <tr>\n",
              "      <th>503</th>\n",
              "      <td>23.9</td>\n",
              "    </tr>\n",
              "    <tr>\n",
              "      <th>504</th>\n",
              "      <td>22.0</td>\n",
              "    </tr>\n",
              "    <tr>\n",
              "      <th>505</th>\n",
              "      <td>11.9</td>\n",
              "    </tr>\n",
              "  </tbody>\n",
              "</table>\n",
              "<p>506 rows × 1 columns</p>\n",
              "</div>"
            ],
            "text/plain": [
              "     price\n",
              "0     24.0\n",
              "1     21.6\n",
              "2     34.7\n",
              "3     33.4\n",
              "4     36.2\n",
              "..     ...\n",
              "501   22.4\n",
              "502   20.6\n",
              "503   23.9\n",
              "504   22.0\n",
              "505   11.9\n",
              "\n",
              "[506 rows x 1 columns]"
            ]
          },
          "metadata": {},
          "execution_count": 7
        }
      ]
    },
    {
      "cell_type": "markdown",
      "metadata": {
        "id": "20IjHKD_8rtG"
      },
      "source": [
        "## 重回帰分析"
      ]
    },
    {
      "cell_type": "markdown",
      "metadata": {
        "id": "I4QBE6RUMs1K"
      },
      "source": [
        "「回帰分析は変数間の因果関係を明らかにするための統計的な手法」であるがゆえに、ひとつの変数とひとつの変数のペアを入力と出力に見立てて関係性を観察するだけは、ちょっと勿体ない気がします。そのため、被説明変数と複数の説明変数との関係を測定する回帰分析の手法である、重回帰分析をご紹介します。\n",
        "\n",
        "たとえば、ある値X_1とX_2とYが存在するとします。この３つの変数の関係を、以下のような式で示す。ここでのiは、それぞれの分析単位ごとの値を示しています。たとえば、国や企業や学生など、特定の集合の中から抽出された群の値の束が, iからnまで存在していることを考えます。\n",
        "\n",
        "$$ Y_i + \\alpha_i + \\beta_1 X_1 + \\beta_2 X_2 + u_i   \n",
        ", i =1,2,..., n$$\n",
        "\n",
        "こうした式を、重回帰モデルと呼びます。単回帰モデルと同じく、最小二乗法 (OLS) を用いてαやβ1やβ2を導出します。\n",
        "\n",
        "単回帰と同様、X1, X2とYの値を用いて、先程のαおよびβを求めると、以下のような関係が成り立ちます。\n",
        "\n",
        "$$ \\hat{Y} = \\hat{\\alpha} + \\hat{\\beta}_1 X_1 + \\hat{\\beta}_2 X_2 $$\n",
        "\n",
        "ここでは、αやβの推定値（係数）を求めていることになります。ところで、YとX1, X2との関係性をひとつの直線で説明しようとすると、単回帰の結果で見てきたように、かならずどこかで「ズレ」が起きることになります。やはりこれを、残差と呼ぶことにしましょう。式で示すと、\n",
        "\n",
        "$$ \\hat{u} = Y - \\hat{Y} = Y - (\\hat{\\alpha} + \\hat{\\beta}_1 X_1 + + \\hat{\\beta}_2 X_2) $$\n",
        "\n",
        "となります。これらを右辺と左辺でそれぞれ自乗しi個分足し合わせる、すなわち総和を求めると、以下の式が与えられます。このとき、残差の二乗の総和を求めるので、残差２乗和もしくは残差平方和と呼びます。\n",
        "\n",
        "$$ \\sum{\\hat{u}}^2 = \\sum [Y - (\\hat{\\alpha} + \\hat{\\beta_1}X_1 + \\hat{\\beta_2}X_2) ]^2 $$\n",
        "\n",
        "ここで、残差２乗和が最小になるような値を求めるには、α、β1、β2でそれぞれ偏微分を行います。すなわち、FOC (一階の条件) を求め整理すると、以下の連立方程式が与えられます。\n",
        "\n",
        "$$ \\sum{Y} = n \\hat{\\alpha} + \\hat{\\beta_1} \\sum{X_1} + \\hat{\\beta_2} \\sum{X_2} $$\n",
        "$$ \\sum{YX_1} = \\hat{\\alpha}\\sum{X_1} + \\hat{\\beta_1} \\sum{X_1}^2 + \\hat{\\beta_2} \\sum X_1 X_2 $$\n",
        "$$ \\sum{YX_2} = \\hat{\\alpha}\\sum{X_2} + \\hat{\\beta_1} \\sum{X_1 X_2} + \\hat{\\beta_2} \\sum{X_2}^2 $$\n",
        "\n",
        "さて、これらの連立方程式をαとβ1とβ2について解法すれば係数をもとめる式が与えられるのですが、ここでは順繰りに値を求めてみたいと思います。\n",
        "\n",
        "計算にはサンプルデータセットのうち、Price(Y) とAge（X_1)およびCRIM(X_2)を利用します。\n",
        "ボストンの不動産価格(Y)が、その建物の年齢(X1)と周辺の犯罪率(X2)によって説明付けられるモデルを解法することになります。\n",
        "\n",
        "まずは、それぞれの値の特性について確認しましょう。"
      ]
    },
    {
      "cell_type": "markdown",
      "metadata": {
        "id": "svlN1s81IiyN"
      },
      "source": [
        "### 変数同士の関係性を相関係数やグラフで確認する"
      ]
    },
    {
      "cell_type": "markdown",
      "metadata": {
        "id": "Odeuxau7JueN"
      },
      "source": [
        "ここでは、XからAGE(築年数)とCRIM(犯罪率)の値を取り出して、重回帰分析を行ってみます。まずは、相関係数やヒストグラム、散布図などを描いてみます。"
      ]
    },
    {
      "cell_type": "code",
      "metadata": {
        "colab": {
          "base_uri": "https://localhost:8080/",
          "height": 112
        },
        "id": "Mkp-H4ebIuzs",
        "outputId": "a994de19-0930-4178-892a-c784e8e11c77"
      },
      "source": [
        "import numpy as np\n",
        "X_list=pd.concat([X.CRIM, X.AGE], axis=1)\n",
        "\n",
        "#相関係数を求める\n",
        "X_list.corr()"
      ],
      "execution_count": null,
      "outputs": [
        {
          "output_type": "execute_result",
          "data": {
            "text/html": [
              "<div>\n",
              "<style scoped>\n",
              "    .dataframe tbody tr th:only-of-type {\n",
              "        vertical-align: middle;\n",
              "    }\n",
              "\n",
              "    .dataframe tbody tr th {\n",
              "        vertical-align: top;\n",
              "    }\n",
              "\n",
              "    .dataframe thead th {\n",
              "        text-align: right;\n",
              "    }\n",
              "</style>\n",
              "<table border=\"1\" class=\"dataframe\">\n",
              "  <thead>\n",
              "    <tr style=\"text-align: right;\">\n",
              "      <th></th>\n",
              "      <th>CRIM</th>\n",
              "      <th>AGE</th>\n",
              "    </tr>\n",
              "  </thead>\n",
              "  <tbody>\n",
              "    <tr>\n",
              "      <th>CRIM</th>\n",
              "      <td>1.000000</td>\n",
              "      <td>0.352734</td>\n",
              "    </tr>\n",
              "    <tr>\n",
              "      <th>AGE</th>\n",
              "      <td>0.352734</td>\n",
              "      <td>1.000000</td>\n",
              "    </tr>\n",
              "  </tbody>\n",
              "</table>\n",
              "</div>"
            ],
            "text/plain": [
              "          CRIM       AGE\n",
              "CRIM  1.000000  0.352734\n",
              "AGE   0.352734  1.000000"
            ]
          },
          "metadata": {},
          "execution_count": 8
        }
      ]
    },
    {
      "cell_type": "markdown",
      "metadata": {
        "id": "5cOiIsR9K1GQ"
      },
      "source": [
        "Age のヒストグラムを求めると、以下のようになります。"
      ]
    },
    {
      "cell_type": "code",
      "metadata": {
        "colab": {
          "base_uri": "https://localhost:8080/",
          "height": 337
        },
        "id": "8AQtWiBaJ7NW",
        "outputId": "96d6b9d5-d965-47fe-c9f6-f5244c755093"
      },
      "source": [
        "import matplotlib.pyplot as plt\n",
        "plt.hist(X_list.AGE)"
      ],
      "execution_count": null,
      "outputs": [
        {
          "output_type": "execute_result",
          "data": {
            "text/plain": [
              "(array([ 14.,  31.,  29.,  42.,  32.,  38.,  39.,  42.,  71., 168.]),\n",
              " array([  2.9 ,  12.61,  22.32,  32.03,  41.74,  51.45,  61.16,  70.87,\n",
              "         80.58,  90.29, 100.  ]),\n",
              " <a list of 10 Patch objects>)"
            ]
          },
          "metadata": {},
          "execution_count": 9
        },
        {
          "output_type": "display_data",
          "data": {
            "image/png": "[encoded data removed]",
            "text/plain": [
              "<Figure size 432x288 with 1 Axes>"
            ]
          },
          "metadata": {
            "needs_background": "light"
          }
        }
      ]
    },
    {
      "cell_type": "markdown",
      "metadata": {
        "id": "Lk15Rbv7LNhF"
      },
      "source": [
        "CRIMをヒストグラムで確認します。"
      ]
    },
    {
      "cell_type": "code",
      "metadata": {
        "colab": {
          "base_uri": "https://localhost:8080/",
          "height": 355
        },
        "id": "Ip4qvaW1KyA9",
        "outputId": "80ffca37-97ac-4e99-a799-2b73614b9992"
      },
      "source": [
        "import matplotlib.pyplot as plt\n",
        "plt.hist(X_list.CRIM)"
      ],
      "execution_count": null,
      "outputs": [
        {
          "output_type": "execute_result",
          "data": {
            "text/plain": [
              "(array([439.,  44.,  14.,   1.,   3.,   2.,   0.,   1.,   1.,   1.]),\n",
              " array([6.3200000e-03, 8.9033080e+00, 1.7800296e+01, 2.6697284e+01,\n",
              "        3.5594272e+01, 4.4491260e+01, 5.3388248e+01, 6.2285236e+01,\n",
              "        7.1182224e+01, 8.0079212e+01, 8.8976200e+01]),\n",
              " <a list of 10 Patch objects>)"
            ]
          },
          "metadata": {},
          "execution_count": 10
        },
        {
          "output_type": "display_data",
          "data": {
            "image/png": "[encoded data removed]",
            "text/plain": [
              "<Figure size 432x288 with 1 Axes>"
            ]
          },
          "metadata": {
            "needs_background": "light"
          }
        }
      ]
    },
    {
      "cell_type": "markdown",
      "metadata": {
        "id": "UxXRDS3WL51B"
      },
      "source": [
        "散布図は以下のようになります。なんとも関係性にとぼしそうな２変数間であることがわかります。"
      ]
    },
    {
      "cell_type": "code",
      "metadata": {
        "colab": {
          "base_uri": "https://localhost:8080/",
          "height": 283
        },
        "id": "hMaNvVkhLXea",
        "outputId": "f8adcae3-4e99-491e-bda0-4606e3fcd767"
      },
      "source": [
        "import matplotlib.pyplot as plt\n",
        "plt.scatter(X.AGE, X.CRIM)"
      ],
      "execution_count": null,
      "outputs": [
        {
          "output_type": "execute_result",
          "data": {
            "text/plain": [
              "<matplotlib.collections.PathCollection at 0x7f376adf2450>"
            ]
          },
          "metadata": {},
          "execution_count": 11
        },
        {
          "output_type": "display_data",
          "data": {
            "image/png": "[encoded data removed]",
            "text/plain": [
              "<Figure size 432x288 with 1 Axes>"
            ]
          },
          "metadata": {
            "needs_background": "light"
          }
        }
      ]
    },
    {
      "cell_type": "markdown",
      "metadata": {
        "id": "2E-GqjIlJjeZ"
      },
      "source": [
        "続いて、この2変数とPrice(Y)との関係性を3次元グラフにして描写してみたいと思います。"
      ]
    },
    {
      "cell_type": "code",
      "metadata": {
        "colab": {
          "base_uri": "https://localhost:8080/",
          "height": 248
        },
        "id": "qiZtd4bUI0JJ",
        "outputId": "7041f02f-085a-4b76-ed41-807f410f78ee"
      },
      "source": [
        "import matplotlib.pyplot as plt\n",
        "#三次元用プロットのパッケージをインポートする\n",
        "from mpl_toolkits.mplot3d import axes3d\n",
        "\n",
        "#Series型に変換する\n",
        "Y_data=Y[\"price\"]\n",
        "y_sum=np.sum(Y_data)\n",
        "\n",
        "fig = plt.figure()\n",
        "ax = fig.add_subplot(111, projection='3d')\n",
        "ax.scatter(X.AGE, X.CRIM, Y_data)\n",
        "plt.show()"
      ],
      "execution_count": null,
      "outputs": [
        {
          "output_type": "display_data",
          "data": {
            "image/png": "[encoded data removed]",
            "text/plain": [
              "<Figure size 432x288 with 1 Axes>"
            ]
          },
          "metadata": {
            "needs_background": "light"
          }
        }
      ]
    },
    {
      "cell_type": "markdown",
      "metadata": {
        "id": "6y0LwXCEKH1w"
      },
      "source": [
        "。。。なんとなくわかった感じになるけれど、やっぱり三次元はわかりにくい！"
      ]
    },
    {
      "cell_type": "markdown",
      "metadata": {
        "id": "9Vs-odgQRjeM"
      },
      "source": [
        "### 回帰係数の推定"
      ]
    },
    {
      "cell_type": "markdown",
      "metadata": {
        "id": "-BHUzP-ZRpCj"
      },
      "source": [
        "**統計量を求める**\n",
        "\n",
        "まず、以下の統計量をそれぞれ計算しておきましょう。\n",
        "\n",
        "*   $\\sum{Y}$\n",
        "*   $\\sum{X_1}$\n",
        "*   $\\sum{X_2}$\n",
        "*   $\\sum{Y^2}$\n",
        "*   $\\sum{X_1^2}$\n",
        "*   $\\sum{X_2^2}$\n",
        "*   $\\sum{Y X_1}$\n",
        "*   $\\sum{Y X_2}$\n",
        "*   $\\sum{X_1 X_2}$"
      ]
    },
    {
      "cell_type": "code",
      "metadata": {
        "colab": {
          "base_uri": "https://localhost:8080/"
        },
        "id": "84sCEJXKSQZ9",
        "outputId": "f72a6eaa-4f35-49e6-ddf5-03c7124d45d8"
      },
      "source": [
        "#Series型に変換する\n",
        "Y_data=Y[\"price\"]\n",
        "y_sum=np.sum(Y_data)\n",
        "print(\"Y_SUM\", y_sum)\n",
        "#X1の和を求める\n",
        "x1_sum=np.sum(X_list.AGE)\n",
        "print(\"X1_SUM\", x1_sum)\n",
        "#X1の和を求める\n",
        "x2_sum=np.sum(X_list.CRIM)\n",
        "print(\"X2_SUM\", x2_sum)\n",
        "#Yの自乗和を求める\n",
        "y_power=np.sum(np.power(Y_data,2))\n",
        "print(\"Y_POWER\", y_power)\n",
        "#X1の自乗和を求める\n",
        "x1_power=np.sum(np.power(X_list.AGE,2))\n",
        "print(\"X1_POWER\", x1_power)\n",
        "#X2の自乗和を求める\n",
        "x2_power=np.sum(np.power(X_list.CRIM,2))\n",
        "print(\"X2_POWER\", x2_power)\n",
        "#Y*X1を求める\n",
        "Y_X1=np.sum(Y_data*X_list.AGE)\n",
        "print(\"Y_X1\", Y_X1)\n",
        "#Y*X2を求める\n",
        "Y_X2=np.sum(Y_data*X_list.CRIM)\n",
        "print(\"Y_X2\", Y_X2)\n",
        "#X1*X2を求める\n",
        "X1_X2=np.sum(X_list.AGE*X_list.CRIM)\n",
        "print(\"X1_X2\", X1_X2)"
      ],
      "execution_count": null,
      "outputs": [
        {
          "output_type": "stream",
          "name": "stdout",
          "text": [
            "Y_SUM 11401.600000000002\n",
            "X1_SUM 34698.9\n",
            "X2_SUM 1828.4429200000004\n",
            "Y_POWER 299626.33999999997\n",
            "X1_POWER 2779614.63\n",
            "X2_POWER 43970.3435551508\n",
            "Y_X1 732581.1400000001\n",
            "Y_X2 25687.103669\n",
            "X1_X2 168514.98033299998\n"
          ]
        }
      ]
    },
    {
      "cell_type": "markdown",
      "metadata": {
        "id": "rTnbMx8NTqxb"
      },
      "source": [
        "**平方和と積和を求める**\n",
        "\n",
        "以下のように、変数間の平方和と積和を導出します。\n",
        "\n",
        "$$ S_{YY} = \\sum{(Y-\\bar{Y})^2}$$\n",
        "$$ S_{11} = \\sum{(X_1-\\bar{X_1})^2}$$\n",
        "$$ S_{22} = \\sum{(X_2-\\bar{X_2})^2}$$\n",
        "$$ S_{Y1} = \\sum{(Y-\\bar{Y})(X_1-\\bar{X_1})}$$\n",
        "$$ S_{Y2} = \\sum{(Y-\\bar{Y})(X_2-\\bar{X_2})}$$\n",
        "$$ S_{12} = \\sum{(X_1-\\bar{X_2})(X_2-\\bar{X_2})}$$\n",
        "\n"
      ]
    },
    {
      "cell_type": "code",
      "metadata": {
        "colab": {
          "base_uri": "https://localhost:8080/"
        },
        "id": "3AV3WSzEUfe9",
        "outputId": "2c17c7aa-d80d-4e60-9647-d21dbfaa8a6e"
      },
      "source": [
        "#SYYを求める\n",
        "SYY=np.sum(np.power(Y_data-np.average(Y_data),2))\n",
        "print(\"SYY\", SYY)\n",
        "#S11を求める\n",
        "S11=np.sum(np.power(X_list.AGE-np.average(X_list.AGE),2))\n",
        "print(\"S11\", S11)\n",
        "#S12を求める\n",
        "S22=np.sum(np.power(X_list.CRIM-np.average(X_list.CRIM),2))\n",
        "print(\"S22\", S22)\n",
        "\n",
        "#Yの平均を求める\n",
        "Y_AVE=np.average(Y_data)\n",
        "\n",
        "#SY1を求める\n",
        "SY1=np.sum((Y_data-np.average(Y_data))*(X_list.AGE-np.average(X_list.AGE)))\n",
        "print(\"SY1\", SY1)\n",
        "#SY2を求める\n",
        "SY2=np.sum((Y_data-np.average(Y_data))*(X_list.CRIM-np.average(X_list.CRIM)))\n",
        "print(\"SY2\", SY2)\n",
        "#S12を求める\n",
        "S12=np.sum(np.dot((X_list.AGE-np.average(X_list.AGE)),(X_list.CRIM-np.average(X_list.CRIM))))\n",
        "print(\"S12\", S12)"
      ],
      "execution_count": null,
      "outputs": [
        {
          "output_type": "stream",
          "name": "stdout",
          "text": [
            "SYY 42716.29541501977\n",
            "S11 400140.9912450593\n",
            "S22 37363.22199053\n",
            "SY1 -49282.45335968379\n",
            "SY2 -15512.84652205138\n",
            "S12 43129.68777017786\n"
          ]
        }
      ]
    },
    {
      "cell_type": "markdown",
      "metadata": {
        "id": "O9Rv8eIPWVjf"
      },
      "source": [
        "**集計する**\n",
        "\n",
        "以下の式に基づき集計を行います.\n",
        "\n",
        "$$ D_0 = S_{11} * S_{22} - S_{12}^2 $$\n",
        "$$ D_1 = S_{Y1} * S_{22} - S_{Y2} S_{12} $$\n",
        "$$ D_2 = S_{Y2} * S_{22} - S_{Y1} S_{12} $$"
      ]
    },
    {
      "cell_type": "code",
      "metadata": {
        "colab": {
          "base_uri": "https://localhost:8080/"
        },
        "id": "wiRUgsmjW2dG",
        "outputId": "6e55aa1d-a92d-4bc6-cf09-35e6a2b614d0"
      },
      "source": [
        "#D_0を求める\n",
        "D_0 = S11*S22-np.power(S12,2)\n",
        "#D_1を求める\n",
        "D_1 = SY1*S22-(SY2*S12)\n",
        "#D_2を求める\n",
        "D_2 = SY2*S11-(SY1*S12)\n",
        "\n",
        "print(\"D0\", D_0)\n",
        "print(\"D1\", D_1)\n",
        "print(\"D2\", D_2)"
      ],
      "execution_count": null,
      "outputs": [
        {
          "output_type": "stream",
          "name": "stdout",
          "text": [
            "D0 13090386716.246841\n",
            "D1 -1172287018.1930408\n",
            "D2 -4081788958.4145956\n"
          ]
        }
      ]
    },
    {
      "cell_type": "markdown",
      "metadata": {
        "id": "D0M3Bg-WXSkI"
      },
      "source": [
        "**係数を求める**\n",
        "\n",
        "以下の式にて、それぞれの回帰係数を求めます。\n",
        "\n",
        "$$ \\hat{\\beta_1} = \\frac{D_1}{D_0}$$ \n",
        "$$ \\hat{\\beta_2} = \\frac{D_2}{D_0}$$ \n",
        "$$ \\hat{\\alpha} = \\frac{\\sum{Y}}{n} - \\hat{\\beta_1} \\frac{\\sum{X_1}}{n} - \\hat{\\beta_2} \\frac{\\sum{X_2}}{n} $$ "
      ]
    },
    {
      "cell_type": "code",
      "metadata": {
        "colab": {
          "base_uri": "https://localhost:8080/"
        },
        "id": "aGdxhMbZX1eF",
        "outputId": "78355b2b-20b2-4234-f9bf-d4aa1fa7bd9b"
      },
      "source": [
        "#beta_1を求める\n",
        "beta_1=D_1/D_0\n",
        "#beta_2を求める\n",
        "beta_2=D_2/D_0\n",
        "#alphaを求める\n",
        "alpha = y_sum/len(Y) - beta_1 * (x1_sum / len(Y)) - beta_2 * (x2_sum / len(Y))\n",
        "\n",
        "print(\"Alpha Parameter:\", alpha)\n",
        "print(\"Beta_1 Parameter:\", beta_1)\n",
        "print(\"Beta_2 Parameter:\", beta_2)"
      ],
      "execution_count": null,
      "outputs": [
        {
          "output_type": "stream",
          "name": "stdout",
          "text": [
            "Alpha Parameter: 29.800667010997646\n",
            "Beta_1 Parameter: -0.08955327627854438\n",
            "Beta_2 Parameter: -0.3118157657900644\n"
          ]
        }
      ]
    },
    {
      "cell_type": "markdown",
      "metadata": {
        "id": "N0mA-mtOZBdL"
      },
      "source": [
        "かくして、切片(alpha)はプラス。係数β1(AGE)はマイナスで係数β2(CRIM)もマイナスという結果になりました。\n",
        "\n",
        "単回帰分析とは異なり、重回帰分析ではα, β1およびβ2および入力としてのX1およびX2から構成される平面を求めることになります。これを回帰平面と呼びます。以下の図では、求められたパラメータに基づき、先程の3次元グラフ上に回帰平面をプロットしています(が、やっぱりわかりにくい気がします！)."
      ]
    },
    {
      "cell_type": "code",
      "metadata": {
        "colab": {
          "base_uri": "https://localhost:8080/",
          "height": 248
        },
        "id": "fWNVHjH1ZwvB",
        "outputId": "e8b47114-318a-4cbb-c08b-2beccf31f927"
      },
      "source": [
        "xmesh, ymesh = np.meshgrid(np.linspace(0, 100, 10),\n",
        "                            np.linspace(0, 100,  10))\n",
        "zmesh = (alpha + beta_1 * xmesh.ravel() +\n",
        "        beta_2 * ymesh.ravel()).reshape(xmesh.shape)\n",
        "\n",
        "fig = plt.figure()\n",
        "ax = fig.add_subplot(111, projection='3d')\n",
        "ax.scatter(X.AGE, X.CRIM, Y_data, color='k')\n",
        "ax.plot_wireframe(xmesh, ymesh, zmesh, color='r')\n",
        "plt.show()"
      ],
      "execution_count": null,
      "outputs": [
        {
          "output_type": "display_data",
          "data": {
            "image/png": "[encoded data removed]",
            "text/plain": [
              "<Figure size 432x288 with 1 Axes>"
            ]
          },
          "metadata": {
            "needs_background": "light"
          }
        }
      ]
    },
    {
      "cell_type": "markdown",
      "metadata": {
        "id": "lh79UxW_bpkc"
      },
      "source": [
        "このとき、β1とβ2は偏回帰係数と呼ばれます。β1はX2が一定のとき、X1の変化によって生じるYの変化を示し、β2はX1が一定のとき、X2の変化によって生じるYの変化を示します。"
      ]
    },
    {
      "cell_type": "markdown",
      "metadata": {
        "id": "uuSLeo7icGZD"
      },
      "source": [
        "### 決定係数"
      ]
    },
    {
      "cell_type": "markdown",
      "metadata": {
        "id": "FDbZp_cpcbtM"
      },
      "source": [
        "重回帰分析においても、単回帰分析と同様に観測データに対する当てはまりの良さ(適合度)を示す尺度として決定係数を用います。\n",
        "\n",
        "このときの決定係数R2は、\n",
        "\n",
        "$$ \n",
        " R^2 = \\frac{回帰平方和}{Yの全変動} \n",
        "      = \\frac{\\sum{(\\hat{Y}-\\bar{Y})}}{\\sum{(Y-\\bar{Y})}}\n",
        "      = \\frac{\\hat{\\beta_1} S_{Y1} + \\hat{\\beta_2} S_{Y2}}{S_{YY}}  \n",
        "$$\n",
        "\n",
        "で与えられます。\n",
        "\n",
        "やはり、重回帰分析の決定係数についても、多くの教科書などで「0.6以上ですと説明力の高いモデルです」などの記載があることがあります。が、ほとんどの場合研究者が学術論文をまとめるときには考慮されない気がします！そのため、こういう指標もあるんだなぁ。というくらいで捉えて頂けると良い気がします。\n",
        "\n",
        "決定係数を実際にもとめてみましょう。"
      ]
    },
    {
      "cell_type": "code",
      "metadata": {
        "colab": {
          "base_uri": "https://localhost:8080/"
        },
        "id": "7DcGWD_3eVfk",
        "outputId": "d034385b-e66b-4546-b869-0a0f8cf87058"
      },
      "source": [
        "#決定係数を求める\n",
        "R_square = ((beta_1 * SY1) + (beta_2 * SY2)) / SYY\n",
        "print(\"決定係数\", R_square)"
      ],
      "execution_count": null,
      "outputs": [
        {
          "output_type": "stream",
          "name": "stdout",
          "text": [
            "決定係数 0.21655799477425605\n"
          ]
        }
      ]
    },
    {
      "cell_type": "markdown",
      "metadata": {
        "id": "OSrQcHy1e5VJ"
      },
      "source": [
        "**自由度修正済み決定係数**\n",
        "\n",
        "重回帰分析の決定係数の場合、説明変数の数が増えると、自動的に係数の値が大きくなる問題があります。被説明変数に寄与していない説明変数が含まれていても、追加することで、結果として残差が小さくなるからです。こうした課題に対応するために、自由度修正済み決定係数では、サンプルサイズと説明変数の数を用いて以下のように値への修正を行います。\n",
        "\n",
        "$$ \n",
        "\\bar{R}^2 = 1 - \\frac{n-1}{n-k-1} (1-R^2)\n",
        "$$\n",
        "\n",
        "実際に計算しましょう。"
      ]
    },
    {
      "cell_type": "code",
      "metadata": {
        "colab": {
          "base_uri": "https://localhost:8080/"
        },
        "id": "jXyerpaMf0J_",
        "outputId": "b3593cfc-76a6-4647-c6a0-2bc94daf1f49"
      },
      "source": [
        "#修正済み決定係数を求める\n",
        "#ここでの説明変数は2\n",
        "\n",
        "adjusted_R_square = 1.0 - (len(Y)-1)/(len(Y)-2-1) * (1 - R_square) \n",
        "print(\"修正済み決定係数\", adjusted_R_square)"
      ],
      "execution_count": null,
      "outputs": [
        {
          "output_type": "stream",
          "name": "stdout",
          "text": [
            "修正済み決定係数 0.21344291721868647\n"
          ]
        }
      ]
    },
    {
      "cell_type": "markdown",
      "metadata": {
        "id": "bYMNH9yLa3Fd"
      },
      "source": [
        "決定係数とは若干値が異なっていることが確認できると思います。"
      ]
    },
    {
      "cell_type": "markdown",
      "metadata": {
        "id": "El8PcmH0hU5Y"
      },
      "source": [
        "### 残差とガウスマルコフの定理\n"
      ]
    },
    {
      "cell_type": "markdown",
      "metadata": {
        "id": "10cSaI0abuuX"
      },
      "source": [
        "最小二乗法における誤差項utの仮定として、以下の要素が挙げられます。\n",
        "1.から4. の仮定が成立するとき、OLSから得られる推定量は最良線型普遍推定量 (Blue Linear Unbiased Estimator; BLUE) となる。このことを、ガウス=マルコフの定理と呼びます。\n",
        "\n",
        "1. $$ E(u_t) =0 $$ u_t の期待値は0である。\n",
        "2. $$ E(u_t^2) = \\sigma^2 $$ u_t の分散は、どの地点でも一定である。\n",
        "3. $$ E(u_t u_s) = 0 (t \\neq s) $$ u_t と u_sがお互いに無相関である。すなわち自己相関がない。\n",
        "4. $$ E(X_t u_t) = 0 $$ 説明変数 X_t は, u_t と無相関である。\n",
        "5. $$ u_t \\sim N (0,\\sigma^2) $$ u_tは平均0, 分散σの正規分布に従う。\n",
        "\n",
        "このあたりの用語は暗記するというよりは、実際に色々なデータで回帰分析を実行してみるときに、そういえば「不均一分散になってないかなぁ....」みたいな感じで思い出して頂けると良いのかなと思います。\n",
        "\n",
        "ということで、今回の分析結果に基づき残差やヒストグラム、相関関係や期待値を計算してみたいと思います。"
      ]
    },
    {
      "cell_type": "code",
      "metadata": {
        "colab": {
          "base_uri": "https://localhost:8080/",
          "height": 391
        },
        "id": "BjzZM2-ghjs3",
        "outputId": "cf67bae3-d162-4f05-de8e-4b7d354e7b20"
      },
      "source": [
        "#残差を計算する\n",
        "u_t = Y_data - alpha - beta_1 * X.AGE - beta_2 * X.CRIM\n",
        "\n",
        "#残差のヒストグラムを求める\n",
        "plt.hist(u_t)\n",
        "\n",
        "#残差の平均をもとめる\n",
        "print(\"残差の平均\", np.average(u_t))\n",
        "\n",
        "#残差と説明変数の相関を見る\n",
        "temp_ut1 = pd.concat([u_t, X.AGE], axis=1)\n",
        "temp_ut2 = pd.concat([u_t, X.CRIM], axis=1)\n",
        "\n",
        "#AGEと残差の相関を確認する\n",
        "print(temp_ut1.corr())\n",
        "#CRIMと残差の相関を確認する\n",
        "print(temp_ut2.corr())"
      ],
      "execution_count": null,
      "outputs": [
        {
          "output_type": "stream",
          "name": "stdout",
          "text": [
            "残差の平均 -7.302020209392334e-15\n",
            "                0           AGE\n",
            "0    1.000000e+00 -5.157779e-18\n",
            "AGE -5.157779e-18  1.000000e+00\n",
            "                 0          CRIM\n",
            "0     1.000000e+00 -3.415991e-17\n",
            "CRIM -3.415991e-17  1.000000e+00\n"
          ]
        },
        {
          "output_type": "display_data",
          "data": {
            "image/png": "[encoded data removed]",
            "text/plain": [
              "<Figure size 432x288 with 1 Axes>"
            ]
          },
          "metadata": {
            "needs_background": "light"
          }
        }
      ]
    },
    {
      "cell_type": "markdown",
      "metadata": {
        "id": "Pjx052Fydytd"
      },
      "source": [
        "これらを確認する限り、今回の分析結果は誤差項の仮定を満たしているように見受けられます。しかしながら、回帰分析の結果の妥当性を吟味するためには、不均一分散に係る検定も合わせて実施する必要があります。今回は省略しますが、Wald Test, LM Test などで是非調べてみてください。"
      ]
    },
    {
      "cell_type": "markdown",
      "metadata": {
        "id": "tTl2_5KChZHm"
      },
      "source": [
        "### 回帰係数の検定(重回帰バージョン)"
      ]
    },
    {
      "cell_type": "markdown",
      "metadata": {
        "id": "9IIeFQTKeo44"
      },
      "source": [
        "ここまで回帰式による決定係数と係数が求められたのですが、単回帰分析と同様に、果たして本当にX1やX2がYをうまく説明しているかを判断する必要があります。ここでも、単回帰分析と同じプロセスでを用いて、回帰係数が有意であるか確認する方法についてご説明します。\n",
        "\n",
        "回帰係数が統計学的にゼロではないと判断されることが、「有意である」ということになります。回帰係数が有意ではないということは、説明変数X1やX2が被説明変数Yに何の影響を与えていないことを示します。\n",
        "\n",
        "**残差分散を推定する**\n",
        "\n",
        "ここでは、以下の式で残差分散を計算します。\n",
        "\n",
        "$$ s^2 = \\frac{残差平方和}{サンプルサイズ-説明変数の数-1} = \\frac{\\sum{\\hat{u}^2}}{n-3} $$"
      ]
    },
    {
      "cell_type": "code",
      "metadata": {
        "colab": {
          "base_uri": "https://localhost:8080/"
        },
        "id": "I9EXVGPifbmQ",
        "outputId": "4dd6cbda-a970-43a7-8ebd-656da83d87aa"
      },
      "source": [
        "zansa_variance = np.sum(np.power(u_t,2)) / (len(Y) - 2 -1)\n",
        "print(\"残差分散\", zansa_variance)"
      ],
      "execution_count": null,
      "outputs": [
        {
          "output_type": "stream",
          "name": "stdout",
          "text": [
            "残差分散 66.53228655220344\n"
          ]
        }
      ]
    },
    {
      "cell_type": "markdown",
      "metadata": {
        "id": "GRSofvCRgKZG"
      },
      "source": [
        "**係数の分散を推定する**\n",
        "\n",
        "以下の式を用いて、各係数の分散を推定します。\n",
        "\n",
        "$$ s_\\hat{\\alpha}^2 = s^2 (\\frac{1}{n}+\\frac{\\bar{X_1^2}S_{22}+\\bar{X_2^2}S_{11}-2\\bar{X_1}\\bar{X_2}S_{12}}{S_{11}S_{22}-S_{12}^2})$$\n",
        "\n",
        "$$ s_\\hat{\\beta_1}^2 = s^2 (\\frac{S_{22}}{S_{11}S_{22}-S_{12}^2})$$\n",
        "\n",
        "$$ s_\\hat{\\beta_2}^2 = s^2 (\\frac{S_{11}}{S_{11}S_{22}-S_{12}^2})$$\n",
        "\n",
        "このとき、S11, S22, S12はそれぞれ、\n",
        "\n",
        "$$ S_{11} = \\sum{(X_1-\\bar{X_1})^2}$$\n",
        "$$ S_{22} = \\sum{(X_2-\\bar{X_2})^2}$$\n",
        "$$ S_{12} = \\sum{(X_1-\\bar{X_2})(X_2-\\bar{X_2})}$$\n",
        "\n",
        "となります。\n",
        "\n"
      ]
    },
    {
      "cell_type": "code",
      "metadata": {
        "colab": {
          "base_uri": "https://localhost:8080/"
        },
        "id": "a58a88XAiIFl",
        "outputId": "4e92cd0c-46b7-4e15-db3a-ba22072a52a6"
      },
      "source": [
        "#X1の平均の自乗を求める\n",
        "x1_ave_power=np.power(np.average(X.AGE), 2)\n",
        "#X2の平均の自乗を求める\n",
        "x2_ave_power=np.power(np.average(X.CRIM), 2)\n",
        "#X1の平均をもとめる\n",
        "x1_ave = np.average(X.AGE)\n",
        "#X2の平均をもとめる\n",
        "x2_ave = np.average(X.CRIM)\n",
        "\n",
        "#alpha の分散を推定する\n",
        "alpha_variance = zansa_variance * (1 / len(Y) + (x1_ave_power*S22+x2_ave_power*S11 - 2 * x1_ave * x2_ave * S12)/(S11*S22-np.power(S12,2)))\n",
        "\n",
        "#beta_1の分散を推定する\n",
        "beta_1_variance = zansa_variance * (S22 / (S11*S22 - np.power(S12,2))) \n",
        "#beta_2の分散を推定する\n",
        "beta_2_variance = zansa_variance * (S11 / (S11*S22 - np.power(S12,2))) \n",
        "\n",
        "print(\"αの分散\",alpha_variance)\n",
        "print(\"β1の分散\",beta_1_variance)\n",
        "print(\"β2の分散\",beta_2_variance)\n"
      ],
      "execution_count": null,
      "outputs": [
        {
          "output_type": "stream",
          "name": "stdout",
          "text": [
            "αの分散 0.9424107117285732\n",
            "β1の分散 0.00018989970624032527\n",
            "β2の分散 0.0020337286947953452\n"
          ]
        }
      ]
    },
    {
      "cell_type": "markdown",
      "metadata": {
        "id": "edp3TqX0j6bW"
      },
      "source": [
        "**回帰係数の標準誤差**\n",
        "\n",
        "以下の式で、標準誤差を計算します。すなわち、分散値の平方根を取ります。\n",
        "\n",
        "$$ s_\\hat{\\alpha} = \\sqrt{s_\\hat{\\alpha}^2}　$$\n",
        "$$ s_\\hat{\\beta_1} = \\sqrt{s_\\hat{\\beta_1}^2}　$$\n",
        "$$ s_\\hat{\\beta_2} = \\sqrt{s_\\hat{\\beta_2}^2}　$$"
      ]
    },
    {
      "cell_type": "code",
      "metadata": {
        "colab": {
          "base_uri": "https://localhost:8080/"
        },
        "id": "KHM2wNSEklLL",
        "outputId": "8bd1ebe8-7123-4336-9a4b-471af4005db1"
      },
      "source": [
        "alpha_sd = np.sqrt(alpha_variance)\n",
        "beta_1_sd = np.sqrt(beta_1_variance)\n",
        "beta_2_sd = np.sqrt(beta_2_variance)\n",
        "\n",
        "print(\"αの標準偏差\",alpha_sd)\n",
        "print(\"β1の標準偏差\",beta_1_sd)\n",
        "print(\"β2の標準偏差\",beta_2_sd)"
      ],
      "execution_count": null,
      "outputs": [
        {
          "output_type": "stream",
          "name": "stdout",
          "text": [
            "αの標準偏差 0.9707784050588338\n",
            "β1の標準偏差 0.013780410234834277\n",
            "β2の標準偏差 0.04509688120918502\n"
          ]
        }
      ]
    },
    {
      "cell_type": "markdown",
      "metadata": {
        "id": "Jwt5gLuqk_Ty"
      },
      "source": [
        "**t値を計算する**\n",
        "\n",
        "推定値を標準偏差で割ることで、t値を求めます。\n",
        "\n",
        "$$ t_\\hat{\\alpha} = \\frac{回帰係数\\alphaの推定値}{回帰係数\\alphaの標準誤差} = \\frac{\\hat{\\alpha}}{s_\\hat{\\alpha}} $$\n",
        "\n",
        "$$ t_\\hat{\\beta_1} = \\frac{回帰係数\\beta_1の推定値}{回帰係数\\beta_1の標準誤差} = \\frac{\\hat{\\beta_1}}{s_\\hat{\\beta_1}} $$\n",
        "\n",
        "$$ t_\\hat{\\beta_2} = \\frac{回帰係数\\beta_2の推定値}{回帰係数\\beta_2の標準誤差} = \\frac{\\hat{\\beta_2}}{s_\\hat{\\beta_2}} $$"
      ]
    },
    {
      "cell_type": "code",
      "metadata": {
        "colab": {
          "base_uri": "https://localhost:8080/"
        },
        "id": "jMLq_w9zmAb8",
        "outputId": "bf403539-674b-472d-faa7-d81a80f10320"
      },
      "source": [
        "#t値を計算する\n",
        "t_alpha=alpha/alpha_sd\n",
        "t_beta_1=beta_1/beta_1_sd\n",
        "t_beta_2=beta_2/beta_2_sd\n",
        "\n",
        "print(\"αのt値\", t_alpha)\n",
        "print(\"β1のt値\", t_beta_1)\n",
        "print(\"β2のt値\", t_beta_2)"
      ],
      "execution_count": null,
      "outputs": [
        {
          "output_type": "stream",
          "name": "stdout",
          "text": [
            "αのt値 30.697702849283697\n",
            "β1のt値 -6.4985929121449955\n",
            "β2のt値 -6.9143532197644735\n"
          ]
        }
      ]
    },
    {
      "cell_type": "markdown",
      "metadata": {
        "id": "WofN8EpgmvuU"
      },
      "source": [
        "**t検定を実施する**"
      ]
    },
    {
      "cell_type": "markdown",
      "metadata": {
        "id": "0TtDYnTCm3Ws"
      },
      "source": [
        "t値に基づき、両側検定を用い係数が有意であるかの確認を行います。\n",
        "\n",
        "以下のように、帰無仮説(null hypothesis)と対立仮説 (alternative hypothesis)を立てます。\n",
        "\n",
        "$$ \n",
        "帰無仮説 \\left\\{\n",
        "\\begin{array}{ll}\n",
        "H_0 & : \\alpha = 0 \\\\\n",
        "H'_0 & : \\beta = 0\n",
        "\\end{array}\n",
        "\\right.\n",
        "$$\n",
        "\n",
        "$$ \n",
        "対立仮説 \\left\\{\n",
        "\\begin{array}{ll}\n",
        "H_1 & : \\alpha \\neq 0 \\\\\n",
        "H'_1 & : \\beta \\neq 0\n",
        "\\end{array}\n",
        "\\right.\n",
        "$$\n",
        "\n",
        "先程求めたt値は、自由度 n - 2 (サンプルサイズの数 - 説明変数の数 - 1) のt分布に従う。そのため、t分布表の値に基づいて有意性検定を行います。先程求めたt値が分布表にあるt値(臨界値)よりも大きければ、帰無仮説は棄却され、推定した回帰係数は有意であることになります。\n",
        "\n",
        "今回の場合、サンプルサイズ=506, 説明変数=2なので, 自由度は503になります。\n",
        "ここでは、Scipyパッケージのt分布パッケージから臨界値をそれぞれ求めることにします。"
      ]
    },
    {
      "cell_type": "code",
      "metadata": {
        "colab": {
          "base_uri": "https://localhost:8080/"
        },
        "id": "0jQmh8LSnLBr",
        "outputId": "ee80d130-b352-4edc-b5dd-0dd09c56cd45"
      },
      "source": [
        "from scipy.stats import t\n",
        "p_10 = t.ppf(q=0.990, df=503)\n",
        "p_5 = t.ppf(q=0.995, df=503)\n",
        "p_1 = t.ppf(q=0.999, df=503)\n",
        "print(\"有意水準10％\", p_10)\n",
        "print(\"有意水準5％\", p_5)\n",
        "print(\"有意水準1％\", p_1)"
      ],
      "execution_count": null,
      "outputs": [
        {
          "output_type": "stream",
          "name": "stdout",
          "text": [
            "有意水準10％ 2.3337842002986555\n",
            "有意水準5％ 2.585638766435804\n",
            "有意水準1％ 3.106513464116917\n"
          ]
        }
      ]
    },
    {
      "cell_type": "markdown",
      "metadata": {
        "id": "935uWhRTnqrd"
      },
      "source": [
        "先程得られたt値の絶対値を取り、これらの臨界値と比較します。\n",
        "\n",
        "これにより、いずれの係数も有意水準1％で被説明変数に寄与していることがわかります。"
      ]
    },
    {
      "cell_type": "code",
      "metadata": {
        "colab": {
          "base_uri": "https://localhost:8080/"
        },
        "id": "Poao4-ZbnfAW",
        "outputId": "0795ed60-d0b0-4db5-f1a8-631bbd6505d9"
      },
      "source": [
        "print(\"係数αのt値\", np.abs(t_alpha))\n",
        "print(\"係数β1のt値\", np.abs(t_beta_1))\n",
        "print(\"係数β2のt値\", np.abs(t_beta_2))"
      ],
      "execution_count": null,
      "outputs": [
        {
          "output_type": "stream",
          "name": "stdout",
          "text": [
            "係数αのt値 30.697702849283697\n",
            "係数β1のt値 6.4985929121449955\n",
            "係数β2のt値 6.9143532197644735\n"
          ]
        }
      ]
    },
    {
      "cell_type": "markdown",
      "metadata": {
        "id": "BucEIu0f4U6S"
      },
      "source": [
        "### 多重共線性"
      ]
    },
    {
      "cell_type": "markdown",
      "metadata": {
        "id": "gUMWCpQL4Y52"
      },
      "source": [
        "実は似たような値ってたくさんあります。\n",
        "\n",
        "*   ある街の月あたりの降水量とスリップ事故の数\n",
        "*   「有吉の壁」でパンサー尾形が登場する回数と、有吉さんから「X」をもらう回数\n",
        "*   「古畑任三郎」で古畑が「お察しします」という回数と、今泉君が余計なことをする回数(これはわかるひとが限られる気がします)\n",
        "\n",
        "重回帰分析をする上で、説明変数の間に高い相関があると、多重共線性(multicollinearity; マルティコニアリティ, 言いにくいので「マルチコ」) という問題が発生することが多々あります。\n",
        "\n",
        "多重共線性が生じると、\n",
        "\n",
        "* 決定係数が高いのにもかかわらず、t値が低くなる\n",
        "* 推定した係数の符号が、理論と整合的ではなくなる\n",
        "などの状況が起こりえます。そのため、計量経済学や実証的な分析では、この多重共線性をどう回避するかが課題となります。\n",
        "\n",
        "主な対処方法としては以下の通りです。\n",
        "\n",
        "\n",
        "*   不要な説明変数を除去する\n",
        "*   サンプルサイズを増やす\n",
        "* パネルデータ分析(これは後期に取り上げる予定)などを試す\n",
        "* 値を階差や比率にして分析する\n",
        "* リッジ回帰(これも後期に取り上げる予定)を試す\n",
        "* 説明変数の主成分分析を行い、互いに無相関な合成変数を作り、それを説明変数として利用する\n",
        "* VIF をチェックし、10以下であるかを確認する\n",
        "\n",
        "最後のVIF については、次のStatsmodelを用いた分析で実施してみたいと思います。\n",
        "\n",
        "\n"
      ]
    },
    {
      "cell_type": "markdown",
      "metadata": {
        "id": "uJQ_WbOAIdg_"
      },
      "source": [
        "### Statsmodel を用いて重回帰分析を行う"
      ]
    },
    {
      "cell_type": "markdown",
      "metadata": {
        "id": "Dkq8FJQcoJc1"
      },
      "source": [
        "さて、単回帰と同じく、StatsModelを用いれば、ここまで数十行に渡った作業を経ることなく、重回帰分析を行うことが出来ます。大学の講義らしいまどこっしさ(again)!\n",
        "\n",
        "さて、まずは説明変数のリストを作成し、相関係数を確認しましょう。"
      ]
    },
    {
      "cell_type": "code",
      "metadata": {
        "colab": {
          "base_uri": "https://localhost:8080/",
          "height": 143
        },
        "id": "A4aC3NCbjCVz",
        "outputId": "aee37b26-4b71-4dde-f82b-ffa041f249e5"
      },
      "source": [
        "import numpy as np\n",
        "X_list4=pd.concat([X.AGE, X.NOX, X.B] , axis=1)\n",
        "\n",
        "#相関係数を求める\n",
        "X_list4.corr()"
      ],
      "execution_count": null,
      "outputs": [
        {
          "output_type": "execute_result",
          "data": {
            "text/html": [
              "<div>\n",
              "<style scoped>\n",
              "    .dataframe tbody tr th:only-of-type {\n",
              "        vertical-align: middle;\n",
              "    }\n",
              "\n",
              "    .dataframe tbody tr th {\n",
              "        vertical-align: top;\n",
              "    }\n",
              "\n",
              "    .dataframe thead th {\n",
              "        text-align: right;\n",
              "    }\n",
              "</style>\n",
              "<table border=\"1\" class=\"dataframe\">\n",
              "  <thead>\n",
              "    <tr style=\"text-align: right;\">\n",
              "      <th></th>\n",
              "      <th>AGE</th>\n",
              "      <th>NOX</th>\n",
              "      <th>B</th>\n",
              "    </tr>\n",
              "  </thead>\n",
              "  <tbody>\n",
              "    <tr>\n",
              "      <th>AGE</th>\n",
              "      <td>1.000000</td>\n",
              "      <td>0.731470</td>\n",
              "      <td>-0.273534</td>\n",
              "    </tr>\n",
              "    <tr>\n",
              "      <th>NOX</th>\n",
              "      <td>0.731470</td>\n",
              "      <td>1.000000</td>\n",
              "      <td>-0.380051</td>\n",
              "    </tr>\n",
              "    <tr>\n",
              "      <th>B</th>\n",
              "      <td>-0.273534</td>\n",
              "      <td>-0.380051</td>\n",
              "      <td>1.000000</td>\n",
              "    </tr>\n",
              "  </tbody>\n",
              "</table>\n",
              "</div>"
            ],
            "text/plain": [
              "          AGE       NOX         B\n",
              "AGE  1.000000  0.731470 -0.273534\n",
              "NOX  0.731470  1.000000 -0.380051\n",
              "B   -0.273534 -0.380051  1.000000"
            ]
          },
          "metadata": {},
          "execution_count": 27
        }
      ]
    },
    {
      "cell_type": "code",
      "metadata": {
        "colab": {
          "base_uri": "https://localhost:8080/"
        },
        "id": "zKFLwY03jJrQ",
        "outputId": "1ba6ec70-1f4f-44d9-9ab5-bc1ab5407eab"
      },
      "source": [
        "#重回帰分析を行う\n",
        "import statsmodels.api as sm\n",
        "model = sm.OLS(Y, sm.add_constant(X_list4))\n",
        "results = model.fit()\n",
        "print(results.summary())\n",
        "print('p-values\\n', results.pvalues)"
      ],
      "execution_count": null,
      "outputs": [
        {
          "output_type": "stream",
          "name": "stdout",
          "text": [
            "                            OLS Regression Results                            \n",
            "==============================================================================\n",
            "Dep. Variable:                  price   R-squared:                       0.226\n",
            "Model:                            OLS   Adj. R-squared:                  0.221\n",
            "Method:                 Least Squares   F-statistic:                     48.85\n",
            "Date:                Thu, 09 Sep 2021   Prob (F-statistic):           1.03e-27\n",
            "Time:                        06:34:48   Log-Likelihood:                -1775.4\n",
            "No. Observations:                 506   AIC:                             3559.\n",
            "Df Residuals:                     502   BIC:                             3576.\n",
            "Df Model:                           3                                         \n",
            "Covariance Type:            nonrobust                                         \n",
            "==============================================================================\n",
            "                 coef    std err          t      P>|t|      [0.025      0.975]\n",
            "------------------------------------------------------------------------------\n",
            "const         29.4024      2.907     10.113      0.000      23.690      35.115\n",
            "AGE           -0.0459      0.019     -2.438      0.015      -0.083      -0.009\n",
            "NOX          -19.7122      4.753     -4.147      0.000     -29.051     -10.374\n",
            "B              0.0202      0.004      4.727      0.000       0.012       0.029\n",
            "==============================================================================\n",
            "Omnibus:                      178.269   Durbin-Watson:                   0.640\n",
            "Prob(Omnibus):                  0.000   Jarque-Bera (JB):              506.949\n",
            "Skew:                           1.728   Prob(JB):                    8.27e-111\n",
            "Kurtosis:                       6.478   Cond. No.                     5.48e+03\n",
            "==============================================================================\n",
            "\n",
            "Warnings:\n",
            "[1] Standard Errors assume that the covariance matrix of the errors is correctly specified.\n",
            "[2] The condition number is large, 5.48e+03. This might indicate that there are\n",
            "strong multicollinearity or other numerical problems.\n",
            "p-values\n",
            " const    5.266906e-22\n",
            "AGE      1.511754e-02\n",
            "NOX      3.950754e-05\n",
            "B        2.966972e-06\n",
            "dtype: float64\n"
          ]
        }
      ]
    },
    {
      "cell_type": "markdown",
      "metadata": {
        "id": "y6JaeU1m7MuY"
      },
      "source": [
        "回帰係数や決定係数などがまとめて表形式でプロットされたかと思います。そして、それぞれの値がPythonで逐次計算して来た値とほぼ同じになっていることをご確認頂けるかと思います。\n",
        "\n",
        "**(データサイエンスのWebサイトや講義や教科書だと、こうした結果の出し方しか教えてくれなかったりするのですが、実は裏側でどういうロジックが動いているのかを知るのはとても大事だったりします。ということで、七面倒臭くはあるのですが、ひとつひとつ定式を追って、結果を見ることを是非試してください。）**\n",
        "\n",
        "\n",
        "続いて、今回利用した変数についてVIFの値をチェックします。10を越える場合、説明変数間で多重共線性が起きている可能性が示唆出来ます。"
      ]
    },
    {
      "cell_type": "code",
      "metadata": {
        "id": "hoBT7SN97Hoe"
      },
      "source": [
        "#VIFの値をチェックする\n",
        "from statsmodels.stats.outliers_influence import *\n",
        "num_cols = model.exog.shape[1] \n",
        "print(num_cols) #説明変数の列数\n",
        "vifs = [variance_inflation_factor(model.exog, i) for i in range(0, num_cols)]\n",
        "pdv = pd.DataFrame(vifs, index=model.exog_names, columns=[\"VIF\"])\n",
        "print(pdv)"
      ],
      "execution_count": null,
      "outputs": []
    },
    {
      "cell_type": "markdown",
      "metadata": {
        "id": "d3YUHMxKbZdp"
      },
      "source": [
        "どうやら、多重共線性は発生していない模様です。\n",
        "\n",
        "同様に、Xで利用する変数リストを変えたバージョンで実行してみます。ここでは、CRIM, AGE, Bを説明変数として利用しています。"
      ]
    },
    {
      "cell_type": "code",
      "metadata": {
        "id": "PKvRMUSowsFt"
      },
      "source": [
        "import numpy as np\n",
        "X_list=pd.concat([X.CRIM, X.AGE, X.B], axis=1)\n",
        "\n",
        "#相関係数を求める\n",
        "X_list.corr()"
      ],
      "execution_count": null,
      "outputs": []
    },
    {
      "cell_type": "code",
      "metadata": {
        "id": "sVO1Qq0V8u4x"
      },
      "source": [
        "#重回帰分析を行う\n",
        "import statsmodels.api as sm\n",
        "model = sm.OLS(np.log(Y), sm.add_constant(X_list))\n",
        "results = model.fit()\n",
        "print(results.summary())\n",
        "print('p-values\\n', results.pvalues)\n",
        "a, b, c, d = results.params\n",
        "print('a',a, 'b',b, c, d)"
      ],
      "execution_count": null,
      "outputs": []
    },
    {
      "cell_type": "code",
      "metadata": {
        "id": "Shv_LsaxXsuG"
      },
      "source": [
        "#VIFの値をチェックする\n",
        "from statsmodels.stats.outliers_influence import *\n",
        "num_cols = model.exog.shape[1] \n",
        "print(num_cols) #説明変数の列数\n",
        "vifs = [variance_inflation_factor(model.exog, i) for i in range(0, num_cols)]\n",
        "pdv = pd.DataFrame(vifs, index=model.exog_names, columns=[\"VIF\"])\n",
        "print(pdv)"
      ],
      "execution_count": null,
      "outputs": []
    },
    {
      "cell_type": "markdown",
      "metadata": {
        "id": "OoZtJdPixDRr"
      },
      "source": [
        "### 最小自乗推定量を行列とベクトルで推定する"
      ]
    },
    {
      "cell_type": "markdown",
      "metadata": {
        "id": "NPuSLjP9xJoG"
      },
      "source": [
        "最後に、Day1-2で取り扱った行列表現を使って、複数の説明変数から成る重回帰の推定量を導出してみたいと思います。\n",
        "\n",
        "説明変数のセットを行列 X で表し、かつ被説明変数Yをベクトル表現すると、\n",
        "\n",
        "$$ X^T X \\hat{\\beta} = X^T y$$\n",
        "\n",
        "と正規方程式として示すことが出来ます。ここでは、最小自乗推定量βを知りたいので、右辺と左辺に $$ X^T X $$ の逆行列である\n",
        "\n",
        "$$ (X^T X)^{-1} $$\n",
        "\n",
        "をかけ合わせてやると、以下の式を得ることが出来ます。\n",
        "\n",
        "\n",
        "$$ \\hat{\\beta} = (X^T X)^{-1} X^T y$$\n",
        "\n",
        "さて、線形代数学やNumpyなどで行列は取り上げてきたのですが、この数式を見てもいまいちピンとこないので、ここからはひとつひとつデータの中身を確認しつつ計算していきましょう。\n",
        "\n",
        "まず、Xの中身を確認します。\n",
        "ここでは、先程のStatsmodels で解法した際にも利用した、X_listを用います。このX_listは、CRIMとAGEとBから構成されています。"
      ]
    },
    {
      "cell_type": "code",
      "metadata": {
        "id": "pY8CKpk5z6Tm"
      },
      "source": [
        "#行列の中身を確認する\n",
        "X_list"
      ],
      "execution_count": null,
      "outputs": []
    },
    {
      "cell_type": "code",
      "metadata": {
        "id": "A42Momuqz-6w"
      },
      "source": [
        "#行列処理を行うため、X_listをNumpyに変換する\n",
        "X_list_np=X_list.values\n",
        "X_list_np\n",
        "\n",
        "#X_list の左端に1の数列を加えています\n",
        "#定数項を計算するためです\n",
        "X_list_np=np.c_[np.ones(X_list_np.shape[0]), X_list_np]\n",
        "\n",
        "#中身を確認する\n",
        "X_list_np"
      ],
      "execution_count": null,
      "outputs": []
    },
    {
      "cell_type": "markdown",
      "metadata": {
        "id": "kUct8RC40j7g"
      },
      "source": [
        "続いて、この行列の転置を求めます"
      ]
    },
    {
      "cell_type": "code",
      "metadata": {
        "id": "zv81CQoW0oua"
      },
      "source": [
        "#転置した結果を別のデータとして保存する\n",
        "X_list_np_T=X_list_np.T\n",
        "\n",
        "X_list_np_T"
      ],
      "execution_count": null,
      "outputs": []
    },
    {
      "cell_type": "markdown",
      "metadata": {
        "id": "Y1hjlNZS04gg"
      },
      "source": [
        "続いて、その行列をかけ合わせます。"
      ]
    },
    {
      "cell_type": "code",
      "metadata": {
        "id": "ndbWP98908wV"
      },
      "source": [
        "X_list_temp = np.dot(X_list_np_T, X_list_np)"
      ],
      "execution_count": null,
      "outputs": []
    },
    {
      "cell_type": "markdown",
      "metadata": {
        "id": "rMApGbTh1seQ"
      },
      "source": [
        "これで、\n",
        "\n",
        "$$ (X^T X) $$\n",
        "\n",
        "が計算できました。続いて、右辺である\n",
        "\n",
        "$$ X^T y$$\n",
        "\n",
        "計算を行います。\n",
        "\n"
      ]
    },
    {
      "cell_type": "code",
      "metadata": {
        "id": "UjXAbZ1E10DP"
      },
      "source": [
        "#Series型に変換する\n",
        "Y_data=Y[\"price\"]\n",
        "\n",
        "#次元数をチェックする\n",
        "print(X_list_temp.shape)\n",
        "print(X_list_np_T.shape)\n",
        "print(Y_data.shape)\n",
        "\n",
        "#Xの転置行列とXで行列の掛け算を行う\n",
        "temp5=np.dot(X_list_np_T, Y_data)\n",
        "print(temp5)"
      ],
      "execution_count": null,
      "outputs": []
    },
    {
      "cell_type": "markdown",
      "metadata": {
        "id": "08FZa1oCGdUR"
      },
      "source": [
        "これで右辺と左辺が揃ったので、係数を方程式を解くためのlinalg ライブラリを用いて解法します。"
      ]
    },
    {
      "cell_type": "code",
      "metadata": {
        "id": "rOgcBznrEf51"
      },
      "source": [
        "#lianlgライブラリをインポートする\n",
        "\n",
        "from scipy import linalg\n",
        "coef = linalg.solve(X_list_temp, temp5)\n",
        "print(coef)"
      ],
      "execution_count": null,
      "outputs": []
    },
    {
      "cell_type": "markdown",
      "metadata": {
        "id": "FrCQa0oP8vla"
      },
      "source": [
        "かくして、係数が導き出されました。\n",
        "\n",
        "\n",
        "もしくは、先程示した以下の式からも導出することが出来ます。\n",
        "\n",
        "$$ \\hat{\\beta} = (X^T X)^{-1} X^T y$$\n",
        "\n",
        "逆行列を導出し、それをXの転置行列とyをかけ合わせたベクトルと掛け合わせます。"
      ]
    },
    {
      "cell_type": "code",
      "metadata": {
        "id": "okENFDDZ8QjR"
      },
      "source": [
        "X_list_temp_inv=np.linalg.inv(X_list_temp)\n",
        "temp6=np.dot(X_list_temp_inv, temp5)\n",
        "\n",
        "print(temp6)"
      ],
      "execution_count": null,
      "outputs": []
    },
    {
      "cell_type": "markdown",
      "metadata": {
        "id": "1-hPKvDWG75d"
      },
      "source": [
        "ということで、係数が計算できました。\n",
        "\n",
        "参考文献\n",
        "- https://qiita.com/NNNiNiNNN/items/4fd5367f9ead6e5905a9\n"
      ]
    },
    {
      "cell_type": "markdown",
      "metadata": {
        "id": "5xaCrS15ppvs"
      },
      "source": [
        "## レポート+α（配点50点)"
      ]
    },
    {
      "cell_type": "markdown",
      "metadata": {
        "id": "Lgm0sU20qQw2"
      },
      "source": [
        "サンプルデータセットの変数Xのうち、CRIM, ZN, INDUS, NOX, RM, DIS, RAD, TAX, PTRATIO, B, LSTAT から複数の説明変数を選択し、被説明変数を Y (Price) として重回帰分析を行うこと。\n",
        "このとき、\n",
        " - 回帰係数の推定\n",
        " - 決定係数の導出\n",
        " - 回帰係数の検定\n",
        " - 相関係数とVIF値を用いた多重共線性のチェック\n",
        " などを行い、説明変数が有意に寄与したか確認すること。\n",
        "\n",
        "提出は、Google Colaboratory の共有リンクもしくは Jupyter Notebook の内容をTeams のDM経由で行うこと。2021/8/29 17:30 までを期限とする。"
      ]
    }
  ]
}