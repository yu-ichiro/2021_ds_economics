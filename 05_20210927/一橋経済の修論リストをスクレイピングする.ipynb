{
 "cells": [
  {
   "cell_type": "markdown",
   "metadata": {},
   "source": [
    "Pandas を使ったWeb スクレイピングとして、一橋経済学研究科の修論リストをまとめて取得するコードを書いてみましょう。\n",
    "\n",
    "ちなみに、一橋経済学部の修論の題目と指導教官は、\n",
    "https://www.econ.hit-u.ac.jp/jpn/page/research/research-graduate_student/masters/2021.html\n",
    "に掲載されています。"
   ]
  },
  {
   "cell_type": "code",
   "execution_count": 1,
   "metadata": {
    "collapsed": false,
    "jupyter": {
     "outputs_hidden": false
    },
    "pycharm": {
     "name": "#%%\n"
    }
   },
   "outputs": [
    {
     "name": "stdout",
     "output_type": "stream",
     "text": [
      "2000 年が終わりましたです\n",
      "2001 年が終わりましたです\n",
      "2002 年が終わりましたです\n",
      "2003 年が終わりましたです\n",
      "2004 年が終わりましたです\n",
      "2005 年が終わりましたです\n",
      "2006 年が終わりましたです\n",
      "2007 年が終わりましたです\n",
      "2008 年が終わりましたです\n",
      "2009 年が終わりましたです\n",
      "2010 年が終わりましたです\n",
      "2011 年が終わりましたです\n",
      "2012 年が終わりましたです\n",
      "2013 年が終わりましたです\n",
      "2014 年が終わりましたです\n",
      "2015 年が終わりましたです\n",
      "2016 年が終わりましたです\n",
      "2017 年が終わりましたです\n",
      "2018 年が終わりましたです\n",
      "2019 年が終わりましたです\n",
      "2020 年が終わりましたです\n",
      "2021 年が終わりましたです\n"
     ]
    }
   ],
   "source": [
    "import pandas as pd\n",
    "import time \n",
    "\n",
    "#検索するURL を作成します\n",
    "url1=\"https://www.econ.hit-u.ac.jp/jpn/page/research/research-graduate_student/masters/\"\n",
    "url2=\".html\"\n",
    "\n",
    "#空のDataFrameを作成します\n",
    "list=pd.DataFrame()\n",
    "\n",
    "#Web 上に掲載されている2000年から2021年までのリストを取得します\n",
    "for i in range(2000, 2022):\n",
    "    #iを文字列に変換します\n",
    "    url3=url1+str(i)+url2\n",
    "    #Pandasのread_html関数をつかって、表を読み込みます\n",
    "    shuron=pd.read_html(url3)\n",
    "    #読み込んだ年を、新たな列として追記します\n",
    "    shuron[0][\"year\"]=str(i)\n",
    "    list=list.append(shuron[0])\n",
    "    #一橋サーバへの負荷を下げるために、ループを行うたびに5秒待つ\n",
    "    time.sleep(5)\n",
    "    print(i, \"年が終わりましたです\")"
   ]
  },
  {
   "cell_type": "markdown",
   "metadata": {},
   "source": [
    "listは今、2000年から2021年までの一橋大学経済学研究科のリストが掲載されています。中身を確認しましょう。"
   ]
  },
  {
   "cell_type": "code",
   "execution_count": 74,
   "outputs": [
    {
     "data": {
      "text/plain": "     No.                                               論文題目    指導教員  year\n0    1.0                        福祉サービスの最適供給について ―クラブ材理論の応用―   蓼沼 宏一  2000\n1    2.0  A Comparison Study of Japanese Foreign Direct ...   山澤 逸平  2000\n2    3.0        人的資本投資の地域経済に与える影響 ―1970年代のインド農村における教育投資の効果―   清川 雪彦  2000\n3    4.0                       ハンガリーの社会保障制度 ―費用負担問題の経済学的考察―   西村 可明  2000\n4    5.0                                  バートンにおける資本蓄積と実質賃金   福田 泰雄  2000\n..   ...                                                ...     ...   ...\n84  85.0                脱石炭政策による負の健康効果　―大気汚染防治行動計画からのエビデンス―   高久 玲音  2021\n85  86.0                  貸出市場の空間計量分析　ー市場分断仮設とスピルオーバー効果の検証ー  植杉 威一郎  2021\n86  87.0                           日韓比較から見た韓国の経済成長の源泉に関する研究   深尾 京司  2021\n87  88.0  Joint Venture Ownership in Knowledge Spillover...   森田 穂高  2021\n88  89.0  A Study on the Interactions of Macroeconomic V...   岡田 羊祐  2021\n\n[1534 rows x 4 columns]",
      "text/html": "<div>\n<style scoped>\n    .dataframe tbody tr th:only-of-type {\n        vertical-align: middle;\n    }\n\n    .dataframe tbody tr th {\n        vertical-align: top;\n    }\n\n    .dataframe thead th {\n        text-align: right;\n    }\n</style>\n<table border=\"1\" class=\"dataframe\">\n  <thead>\n    <tr style=\"text-align: right;\">\n      <th></th>\n      <th>No.</th>\n      <th>論文題目</th>\n      <th>指導教員</th>\n      <th>year</th>\n    </tr>\n  </thead>\n  <tbody>\n    <tr>\n      <th>0</th>\n      <td>1.0</td>\n      <td>福祉サービスの最適供給について ―クラブ材理論の応用―</td>\n      <td>蓼沼 宏一</td>\n      <td>2000</td>\n    </tr>\n    <tr>\n      <th>1</th>\n      <td>2.0</td>\n      <td>A Comparison Study of Japanese Foreign Direct ...</td>\n      <td>山澤 逸平</td>\n      <td>2000</td>\n    </tr>\n    <tr>\n      <th>2</th>\n      <td>3.0</td>\n      <td>人的資本投資の地域経済に与える影響 ―1970年代のインド農村における教育投資の効果―</td>\n      <td>清川 雪彦</td>\n      <td>2000</td>\n    </tr>\n    <tr>\n      <th>3</th>\n      <td>4.0</td>\n      <td>ハンガリーの社会保障制度 ―費用負担問題の経済学的考察―</td>\n      <td>西村 可明</td>\n      <td>2000</td>\n    </tr>\n    <tr>\n      <th>4</th>\n      <td>5.0</td>\n      <td>バートンにおける資本蓄積と実質賃金</td>\n      <td>福田 泰雄</td>\n      <td>2000</td>\n    </tr>\n    <tr>\n      <th>...</th>\n      <td>...</td>\n      <td>...</td>\n      <td>...</td>\n      <td>...</td>\n    </tr>\n    <tr>\n      <th>84</th>\n      <td>85.0</td>\n      <td>脱石炭政策による負の健康効果　―大気汚染防治行動計画からのエビデンス―</td>\n      <td>高久 玲音</td>\n      <td>2021</td>\n    </tr>\n    <tr>\n      <th>85</th>\n      <td>86.0</td>\n      <td>貸出市場の空間計量分析　ー市場分断仮設とスピルオーバー効果の検証ー</td>\n      <td>植杉 威一郎</td>\n      <td>2021</td>\n    </tr>\n    <tr>\n      <th>86</th>\n      <td>87.0</td>\n      <td>日韓比較から見た韓国の経済成長の源泉に関する研究</td>\n      <td>深尾 京司</td>\n      <td>2021</td>\n    </tr>\n    <tr>\n      <th>87</th>\n      <td>88.0</td>\n      <td>Joint Venture Ownership in Knowledge Spillover...</td>\n      <td>森田 穂高</td>\n      <td>2021</td>\n    </tr>\n    <tr>\n      <th>88</th>\n      <td>89.0</td>\n      <td>A Study on the Interactions of Macroeconomic V...</td>\n      <td>岡田 羊祐</td>\n      <td>2021</td>\n    </tr>\n  </tbody>\n</table>\n<p>1534 rows × 4 columns</p>\n</div>"
     },
     "execution_count": 74,
     "metadata": {},
     "output_type": "execute_result"
    }
   ],
   "source": [
    "list"
   ],
   "metadata": {
    "collapsed": false,
    "pycharm": {
     "name": "#%%\n"
    }
   }
  },
  {
   "cell_type": "code",
   "execution_count": 75,
   "outputs": [
    {
     "data": {
      "text/plain": "Series([], Name: 指導教員, dtype: object)"
     },
     "execution_count": 75,
     "metadata": {},
     "output_type": "execute_result"
    }
   ],
   "source": [
    "list.loc[list[\"指導教員\"] == \"深尾京司\", \"指導教員\"]"
   ],
   "metadata": {
    "collapsed": false,
    "pycharm": {
     "name": "#%%\n"
    }
   }
  },
  {
   "cell_type": "code",
   "execution_count": 76,
   "metadata": {
    "collapsed": false,
    "jupyter": {
     "outputs_hidden": false
    },
    "pycharm": {
     "name": "#%%\n"
    }
   },
   "outputs": [
    {
     "name": "stderr",
     "output_type": "stream",
     "text": [
      "/Users/yuichiro/Library/Caches/pypoetry/virtualenvs/2021-ds-economics-IcgLwzH--py3.9/lib/python3.9/site-packages/pandas/core/indexing.py:1817: SettingWithCopyWarning: \n",
      "A value is trying to be set on a copy of a slice from a DataFrame.\n",
      "Try using .loc[row_indexer,col_indexer] = value instead\n",
      "\n",
      "See the caveats in the documentation: https://pandas.pydata.org/pandas-docs/stable/user_guide/indexing.html#returning-a-view-versus-a-copy\n",
      "  self._setitem_single_column(loc, value, pi)\n"
     ]
    }
   ],
   "source": [
    "list.loc[list[\"指導教員\"] == \"深尾京司\", \"指導教員\"] = \"深尾 京司\""
   ]
  },
  {
   "cell_type": "code",
   "execution_count": 77,
   "metadata": {
    "collapsed": false,
    "jupyter": {
     "outputs_hidden": false
    },
    "pycharm": {
     "name": "#%%\n"
    }
   },
   "outputs": [],
   "source": [
    "#年ごとに値をまとめてみます\n",
    "mentor=list.groupby(\"year\")"
   ]
  },
  {
   "cell_type": "code",
   "execution_count": 78,
   "metadata": {
    "collapsed": false,
    "jupyter": {
     "outputs_hidden": false
    },
    "pycharm": {
     "name": "#%%\n"
    }
   },
   "outputs": [
    {
     "data": {
      "text/plain": "year\n2000    84\n2001    77\n2002    76\n2003    70\n2004    72\n2005    77\n2006    78\n2007    77\n2008    54\n2009    54\n2010    42\n2011    69\n2012    65\n2013    67\n2014    63\n2015    72\n2016    86\n2017    56\n2018    71\n2019    58\n2020    77\n2021    89\ndtype: int64"
     },
     "execution_count": 78,
     "metadata": {},
     "output_type": "execute_result"
    }
   ],
   "source": [
    "#年ごとの修論の数をチェックしてみましょう\n",
    "mentor.size()"
   ]
  },
  {
   "cell_type": "code",
   "execution_count": 79,
   "metadata": {
    "collapsed": false,
    "jupyter": {
     "outputs_hidden": false
    },
    "pycharm": {
     "name": "#%%\n"
    }
   },
   "outputs": [],
   "source": [
    "#指導教員ごとに値をまとめてみます\n",
    "mentor2=list.groupby(\"指導教員\")"
   ]
  },
  {
   "cell_type": "code",
   "execution_count": 80,
   "metadata": {
    "collapsed": false,
    "jupyter": {
     "outputs_hidden": false
    },
    "pycharm": {
     "name": "#%%\n"
    }
   },
   "outputs": [
    {
     "data": {
      "text/plain": "指導教員\nPaul , Saumik                1\nWU Harry Xiaoying （伍 曉鷹）     1\nWU, Harry Xiaoying           3\n下津 克己                        1\n中村 良太                        3\n                            ..\n高橋 一                        34\n鴇田 忠彦                        6\n黒住 英司                       24\n黒崎 卓                        42\n齊藤 誠                        19\nLength: 137, dtype: int64"
     },
     "execution_count": 80,
     "metadata": {},
     "output_type": "execute_result"
    }
   ],
   "source": [
    "#結果を出力する\n",
    "mentor2.size()"
   ]
  },
  {
   "cell_type": "code",
   "execution_count": 58,
   "metadata": {
    "collapsed": false,
    "jupyter": {
     "outputs_hidden": false
    },
    "pycharm": {
     "name": "#%%\n"
    }
   },
   "outputs": [
    {
     "name": "stdout",
     "output_type": "stream",
     "text": [
      "     No.                                               論文題目   指導教員  year\n",
      "26  27.0                                       格付け変更の株価への影響  岡室 博之  2003\n",
      "30  31.0  Does　Corporate Performace Improve After Merger...  岡室 博之  2003\n",
      "59  60.0                      企業間関係と設備投資 ―自動車部品企業についての実証分析―  岡室 博之  2003\n",
      "65  66.0                                   台湾製造業への参入退出の計量分析  岡室 博之  2003\n",
      "2    3.0                              日本製造業中小企業の海外直接投資の決定要因  岡室 博之  2005\n",
      "33  34.0              日本中小製造業の中国進出における ―立地選択の決定要因についての実証分析―  岡室 博之  2005\n",
      "40  41.0          地域における人的資本と研究機関からのスピルオーバー ―中小企業の研究開発への影響―  岡室 博之  2005\n",
      "41  42.0                  サービス業に於ける市場構造分析 ―参入、退出と残存の関係を中心に―  岡室 博之  2005\n",
      "50  51.0            Ｍ＆Ａが及ぼす利益率、成長率、労働生産性への影響 ―中小企業を含めた実証分析―  岡室 博之  2005\n",
      "42  43.0  Prefecture-Level Analysis of Technology Spillo...  岡室 博之  2006\n",
      "9   10.0                     ベンチャーキャピタルのハンズオンと投資先企業のパフォーマンス  岡室 博之  2007\n",
      "29  30.0                       買収の決定要因の研究 ―日本の成長産業と衰退産業の比較―  岡室 博之  2007\n",
      "52  53.0   株式所有構造が企業のリストラクチャリングに与える影響 ―バブル崩壊以後の製造業における実証分析―  岡室 博之  2008\n",
      "26  27.0  The Elasticities of Factor Substitution in Tha...  岡室 博之  2009\n",
      "19  20.0                        日本のベンチャーキャピタルにおけるスタンドプレーの検証  岡室 博之  2010\n",
      "22  23.0  トップ管理層・大株主の属性と企業の研究開発投資 ―中国深シン証券取引所中小企業ボードの上場企...  岡室 博之  2010\n",
      "25  26.0             非連続的技術革新における先発優位・後発優位 ―ゲームソフト産業における分析―  岡室 博之  2010\n",
      "23  24.0                                バブル期における鉄鋼企業の多角化と成果  岡室 博之  2011\n",
      "35  36.0                       地域ブランドの効果の計量分析 ―日本のタオル産業を例に―  岡室 博之  2011\n",
      "65  66.0                                 戦略的企業買収の研究開発活動への影響  岡室 博之  2011\n",
      "1    2.0  Empirical Study on the Effect of Merger Remedy...  岡室 博之  2012\n",
      "38  39.0         経済的価値産出要因としての起業家資本 ―日本の都道府県パネルデータを用いた実証分析―  岡室 博之  2012\n",
      "39  40.0    スマートファン小売店価格のヘドニック分析 ―端末メーカー及び通信事業者に対する評価水準の考察―  岡室 博之  2014\n",
      "47  48.0  Allocation of IPO Shares in the Chinese Growth...  岡室 博之  2014\n",
      "9   10.0                    高速バスの運賃決定要因と空路、鉄道との3者による競争構造の分析  岡室 博之  2016\n",
      "13  14.0                          情報財の違法利用に対する罰則は生産者利潤を高めるか  岡室 博之  2016\n",
      "27  28.0     MVNO参入による携帯電話通信市場の変化に関する研究 ―MNOとMVNOの需要関数を用いて―  岡室 博之  2016\n",
      "54  55.0  CEO Ownership, Asset Investment, and Firm Valu...  岡室 博之  2016\n",
      "51  52.0  Licensing Contract Under Network Externalities...  岡室 博之  2017\n",
      "10  11.0  An Auction Format for Club Goods without Conge...  岡室 博之  2018\n",
      "25  26.0      地域データからの定量マーケティング ―ベビーベッド販売戦略における地域性からのアプローチ―  岡室 博之  2018\n",
      "53  54.0  Determinants of Earnings for Employees and Sel...  岡室 博之  2018\n",
      "65  66.0   鉄鋼一貫製鉄所の立地と周辺工場の生産性成長 ―「製鉄業参考資料」上場別データを利用した実証分析―  岡室 博之  2018\n",
      "72  73.0                          研究開発税制改正が研究開発支出に与える効果について  岡室 博之  2020\n"
     ]
    }
   ],
   "source": [
    "#岡室先生が担当している修論リストを抽出してみましょう\n",
    "print(list.query('指導教員.str.contains(\"岡室\")', engine='python'))"
   ]
  },
  {
   "cell_type": "code",
   "execution_count": 8,
   "metadata": {
    "collapsed": false,
    "jupyter": {
     "outputs_hidden": false
    },
    "pycharm": {
     "name": "#%%\n"
    }
   },
   "outputs": [
    {
     "name": "stdout",
     "output_type": "stream",
     "text": [
      "    No.                                               論文題目   指導教員  year\n",
      "0     1                        福祉サービスの最適供給について ―クラブ材理論の応用―  蓼沼 宏一  2000\n",
      "5     6                                       費用分担問題の公理的考察  蓼沼 宏一  2000\n",
      "58   59                                        多様性の価値とその保全  蓼沼 宏一  2001\n",
      "1     2                                  遂行理論とメカニズム外のオプション  蓼沼 宏一  2002\n",
      "18   19                                        心理が行動に与える影響  蓼沼 宏一  2002\n",
      "0     1                        複数プリンシパルのメカニズム・デザインにおける表明原理  蓼沼 宏一  2004\n",
      "10   11                       戦略的虚偽表明を防止する個人合理的な社会選択関数と効率性  蓼沼 宏一  2006\n",
      "28   29                   スーパーモジュラーゲーム ―株式市場における戦略的補完性の分析―  蓼沼 宏一  2006\n",
      "68   69                              チープトークゲームにおける情報伝達の可能性  蓼沼 宏一  2006\n",
      "2     3                                     契約の構造と企業の所有権配分  蓼沼 宏一  2007\n",
      "3     4                                   不平等測度の分解可能性とその応用  蓼沼 宏一  2007\n",
      "4     5  Downsian Model with Asymmetric Information: Po...  蓼沼 宏一  2008\n",
      "9    10  Economic Analysis of Intergenerational Equity ...  蓼沼 宏一  2008\n",
      "2     3                             ロンドン渋滞税に関する進化動学理論による分析  蓼沼 宏一  2009\n",
      "5     6  Individual and Social Welfare Change: Project ...  蓼沼 宏一  2009\n",
      "35   36                                    環境規制の契約理論的アプローチ  蓼沼 宏一  2009\n",
      "9    10                                     議会制度における拒否権の効果  蓼沼 宏一  2010\n",
      "2     3                             コンドルセ基準とスコアリング・ルールに関して  蓼沼 宏一  2011\n",
      "39   40                              複数プリンシパルの理論の環境経済学への応用  蓼沼 宏一  2011\n",
      "10   11     Nash Implementation on Lexicographic Semiorder  蓼沼 宏一  2012\n",
      "20   21           Reconsidering Interactive Implementation  蓼沼 宏一  2012\n",
      "23   24                                   グループ分けを伴う選択行動の分析  蓼沼 宏一  2012\n",
      "7     8      Random Assignment Problems with Externalities  蓼沼 宏一  2014\n",
      "35   36                                      公立学校選択制の理論と実際  蓼沼 宏一  2014\n",
      "20   21          特性関数形ゲームの拡張 ―Partition Function Gamesとコア―  蓼沼 宏一  2015\n"
     ]
    }
   ],
   "source": [
    "#蓼沼先生が担当している修論リストを抽出してみましょう\n",
    "print(list.query('指導教員.str.contains(\"蓼沼\")', engine='python'))"
   ]
  },
  {
   "cell_type": "code",
   "execution_count": 81,
   "metadata": {
    "collapsed": false,
    "jupyter": {
     "outputs_hidden": false
    },
    "pycharm": {
     "name": "#%%\n"
    }
   },
   "outputs": [],
   "source": [
    "#指導教官と年ごとにデータをまとめます\n",
    "grouped3 = list.groupby(['指導教員', 'year'])"
   ]
  },
  {
   "cell_type": "code",
   "execution_count": 82,
   "metadata": {
    "collapsed": false,
    "jupyter": {
     "outputs_hidden": false
    },
    "pycharm": {
     "name": "#%%\n"
    }
   },
   "outputs": [
    {
     "data": {
      "text/plain": "指導教員                      year\nPaul , Saumik             2017    1\nWU Harry Xiaoying （伍 曉鷹）  2016    1\nWU, Harry Xiaoying        2017    2\n                          2018    1\n下津 克己                     2011    1\n                                 ..\n齊藤 誠                      2014    1\n                          2015    1\n                          2017    1\n                          2018    2\n                          2019    1\nLength: 721, dtype: int64"
     },
     "execution_count": 82,
     "metadata": {},
     "output_type": "execute_result"
    }
   ],
   "source": [
    "#値を出力してみます\n",
    "grouped3.size()"
   ]
  },
  {
   "cell_type": "code",
   "execution_count": null,
   "metadata": {
    "collapsed": false,
    "jupyter": {
     "outputs_hidden": false
    },
    "pycharm": {
     "name": "#%%\n"
    }
   },
   "outputs": [],
   "source": [
    "#値をCSVとして出力する\n",
    "grouped3.size().to_csv(\"shuron_list_2000_2021.csv\")"
   ]
  }
 ],
 "metadata": {
  "colab": {
   "name": "一橋経済の修論リストをスクレイピングする",
   "provenance": []
  },
  "kernelspec": {
   "display_name": "Python 3 (ipykernel)",
   "language": "python",
   "name": "python3"
  },
  "language_info": {
   "codemirror_mode": {
    "name": "ipython",
    "version": 3
   },
   "file_extension": ".py",
   "mimetype": "text/x-python",
   "name": "python",
   "nbconvert_exporter": "python",
   "pygments_lexer": "ipython3",
   "version": "3.9.4"
  }
 },
 "nbformat": 4,
 "nbformat_minor": 4
}