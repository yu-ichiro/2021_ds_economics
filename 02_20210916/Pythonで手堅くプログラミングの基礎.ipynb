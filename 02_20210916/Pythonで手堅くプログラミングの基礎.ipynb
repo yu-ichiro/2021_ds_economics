{
 "cells": [
  {
   "cell_type": "markdown",
   "metadata": {},
   "source": [
    "2.2.1 Print 文"
   ]
  },
  {
   "cell_type": "code",
   "execution_count": 1,
   "metadata": {},
   "outputs": [
    {
     "name": "stdout",
     "output_type": "stream",
     "text": [
      "Hello world!\n"
     ]
    }
   ],
   "source": [
    "print(\"Hello world!\")"
   ]
  },
  {
   "cell_type": "code",
   "execution_count": 2,
   "metadata": {},
   "outputs": [
    {
     "name": "stdout",
     "output_type": "stream",
     "text": [
      "うさまる は 5 歳です。\n"
     ]
    }
   ],
   "source": [
    "s = \"うさまる\"\n",
    "i = 5\n",
    "\n",
    "print(f\"{s} は {i} 歳です。\")\n",
    "# Usamaru is 5 years old\n",
    "# %s に文字列を\n",
    "# %i に数字を指定できる"
   ]
  },
  {
   "cell_type": "markdown",
   "metadata": {},
   "source": [
    "2.2.2 足し算とわり算と掛け算と引き算"
   ]
  },
  {
   "cell_type": "code",
   "execution_count": 3,
   "metadata": {},
   "outputs": [
    {
     "name": "stdout",
     "output_type": "stream",
     "text": [
      "101\n",
      "33.333333333333336\n",
      "33\n",
      "30\n",
      "97\n"
     ]
    }
   ],
   "source": [
    "#足し算\n",
    "print(100+1)\n",
    "#割り算\n",
    "print(100/3)\n",
    "#割り算\n",
    "print(100//3)\n",
    "#掛け算\n",
    "print(10*3)\n",
    "#引き算\n",
    "print(100-3)"
   ]
  },
  {
   "cell_type": "markdown",
   "metadata": {},
   "source": [
    "2.2.3 for 文の使い方"
   ]
  },
  {
   "cell_type": "code",
   "execution_count": 4,
   "metadata": {},
   "outputs": [
    {
     "name": "stdout",
     "output_type": "stream",
     "text": [
      "うさまる\n",
      "うさこ\n",
      "くまさん\n"
     ]
    }
   ],
   "source": [
    "u = [\"うさまる\", \"うさこ\", \"くまさん\"]\n",
    "\n",
    "#u のリストの中にうさまるとうさことくまさんが入っている\n",
    "#u のリストが続く間 name に値を放り込み、それをprint に表示させる\n",
    "\n",
    "for name in u:\n",
    "    print(name)"
   ]
  },
  {
   "cell_type": "markdown",
   "metadata": {},
   "source": [
    "2.2.4 for 文の使い方 (その2)"
   ]
  },
  {
   "cell_type": "code",
   "execution_count": 5,
   "metadata": {},
   "outputs": [
    {
     "name": "stdout",
     "output_type": "stream",
     "text": [
      "うさまる\n",
      "!!途中終了!!\n"
     ]
    }
   ],
   "source": [
    "u = [\"うさまる\", \"うさこ\", \"くまさん\"]\n",
    "\n",
    "\n",
    "#name 内の値がうさこの場合、for 文の処理が途中で終了する\n",
    "\n",
    "for name in u:\n",
    "    if name == 'うさこ':\n",
    "        print('!!途中終了!!')\n",
    "        break\n",
    "    print(name)"
   ]
  },
  {
   "cell_type": "markdown",
   "metadata": {},
   "source": [
    "2.2.5 for 文の使い方 (その3)"
   ]
  },
  {
   "cell_type": "code",
   "execution_count": 6,
   "metadata": {},
   "outputs": [
    {
     "name": "stdout",
     "output_type": "stream",
     "text": [
      "!!スキップ!!\n",
      "うさこ\n",
      "くまさん\n"
     ]
    }
   ],
   "source": [
    "u = [\"うさまる\", \"うさこ\", \"くまさん\"]\n",
    "\n",
    "#name 内の値がうさまるの場合、当該ループは出力をスキップする\n",
    "\n",
    "for name in u:\n",
    "    if name == 'うさまる':\n",
    "        print('!!スキップ!!')\n",
    "        continue\n",
    "    print(name)"
   ]
  },
  {
   "cell_type": "markdown",
   "metadata": {},
   "source": [
    "2.2.6 for 文の使い方 (その4)"
   ]
  },
  {
   "cell_type": "code",
   "execution_count": 7,
   "metadata": {},
   "outputs": [
    {
     "name": "stdout",
     "output_type": "stream",
     "text": [
      "うさまる\n",
      "うさこ\n",
      "くまさん\n",
      "うさまるはじまるよ!\n"
     ]
    }
   ],
   "source": [
    "u = [\"うさまる\", \"うさこ\", \"くまさん\"]\n",
    "\n",
    "for name in u:\n",
    "    print(name)\n",
    "else:\n",
    "    print('うさまるはじまるよ!')"
   ]
  },
  {
   "cell_type": "markdown",
   "metadata": {},
   "source": [
    "2.2.7 for 文とカウンタの使い方"
   ]
  },
  {
   "cell_type": "code",
   "execution_count": 8,
   "metadata": {},
   "outputs": [
    {
     "name": "stdout",
     "output_type": "stream",
     "text": [
      "うさまる0号\n",
      "うさまる1号\n",
      "うさまる2号\n",
      "うさまる3号\n",
      "うさまる4号\n",
      "うさまる5号\n",
      "うさまる6号\n",
      "うさまる7号\n",
      "うさまる8号\n",
      "うさまる9号\n"
     ]
    }
   ],
   "source": [
    "for i in range(10):\n",
    "    print(f\"うさまる{i}号\")"
   ]
  },
  {
   "cell_type": "markdown",
   "metadata": {},
   "source": [
    "2.2.8 for 文とカウンタの使い方(2)"
   ]
  },
  {
   "cell_type": "code",
   "execution_count": 9,
   "metadata": {},
   "outputs": [
    {
     "name": "stdout",
     "output_type": "stream",
     "text": [
      "うさまる10号\n",
      "うさまる7号\n",
      "うさまる4号\n",
      "うさまる1号\n"
     ]
    }
   ],
   "source": [
    "for i in range(10, 0, -3):\n",
    "    print(f\"うさまる{i}号\")"
   ]
  },
  {
   "cell_type": "markdown",
   "metadata": {},
   "source": [
    "2.2.9 enumerate文の使い方"
   ]
  },
  {
   "cell_type": "code",
   "execution_count": 10,
   "metadata": {},
   "outputs": [
    {
     "name": "stdout",
     "output_type": "stream",
     "text": [
      "0 うさまる\n",
      "1 うさこ\n",
      "2 くまさん\n"
     ]
    }
   ],
   "source": [
    "u = [\"うさまる\", \"うさこ\", \"くまさん\"]\n",
    "\n",
    "#インデックス(連番)と結果を同時に取得する\n",
    "\n",
    "for i, name in enumerate(u):\n",
    "    print(i, name)"
   ]
  },
  {
   "cell_type": "markdown",
   "metadata": {},
   "source": [
    "2.3.10 zip の使い方"
   ]
  },
  {
   "cell_type": "code",
   "execution_count": 11,
   "metadata": {},
   "outputs": [
    {
     "name": "stdout",
     "output_type": "stream",
     "text": [
      "うさまる 5\n",
      "うさこ 5\n",
      "くまさん 46\n"
     ]
    }
   ],
   "source": [
    "名前 = [\"うさまる\", \"うさこ\", \"くまさん\"]\n",
    "年齢 = [5, 5, 46]\n",
    "\n",
    "#名前と年齢を同時に取り出せる\n",
    "\n",
    "for name, age in zip(名前, 年齢):\n",
    "    print(name, age)"
   ]
  },
  {
   "cell_type": "markdown",
   "metadata": {},
   "source": [
    "2.3.11 zip の使い方(その2)"
   ]
  },
  {
   "cell_type": "code",
   "execution_count": 12,
   "metadata": {},
   "outputs": [
    {
     "name": "stdout",
     "output_type": "stream",
     "text": [
      "うさまる 5 50\n",
      "うさこ 5 50\n",
      "くまさん 46 120\n"
     ]
    }
   ],
   "source": [
    "名前 = [\"うさまる\", \"うさこ\", \"くまさん\"]\n",
    "年齢 = [5, 5, 46]\n",
    "身長 = [50,50,120]\n",
    "\n",
    "#名前と年齢と身長を同時に取り出せる\n",
    "\n",
    "for name, age, height in zip(名前, 年齢, 身長):\n",
    "    print(name, age, height)"
   ]
  },
  {
   "cell_type": "markdown",
   "metadata": {},
   "source": [
    "2.3.12 enumerate と zip を同時に使う"
   ]
  },
  {
   "cell_type": "code",
   "execution_count": 13,
   "metadata": {},
   "outputs": [
    {
     "name": "stdout",
     "output_type": "stream",
     "text": [
      "0 うさまる 5\n",
      "1 うさこ 5\n",
      "2 くまさん 46\n"
     ]
    }
   ],
   "source": [
    "名前 = [\"うさまる\", \"うさこ\", \"くまさん\"]\n",
    "年齢 = [5, 5, 46]\n",
    "\n",
    "#連番と名前,年齢を同時に取り出せる\n",
    "\n",
    "for i, (name, age) in enumerate(zip(名前, 年齢)):\n",
    "    print(i, name, age)"
   ]
  },
  {
   "cell_type": "markdown",
   "metadata": {},
   "source": [
    "2.3.13 多重ループ"
   ]
  },
  {
   "cell_type": "code",
   "execution_count": 14,
   "metadata": {},
   "outputs": [
    {
     "name": "stdout",
     "output_type": "stream",
     "text": [
      "うさまる にんじん\n",
      "うさまる ケーキ\n",
      "うさまる しゃけ\n",
      "うさこ にんじん\n",
      "うさこ ケーキ\n",
      "うさこ しゃけ\n",
      "くまさん にんじん\n",
      "くまさん ケーキ\n",
      "くまさん しゃけ\n"
     ]
    }
   ],
   "source": [
    "u1 = [\"うさまる\", \"うさこ\", \"くまさん\"]\n",
    "u2 = [\"にんじん\", \"ケーキ\", \"しゃけ\"]\n",
    "\n",
    "for i in u1:\n",
    "    for j in u2:\n",
    "        print(i, j)"
   ]
  },
  {
   "cell_type": "markdown",
   "metadata": {},
   "source": [
    "2.3.14 itertools を使った多重ループ"
   ]
  },
  {
   "cell_type": "code",
   "execution_count": 15,
   "metadata": {},
   "outputs": [
    {
     "name": "stdout",
     "output_type": "stream",
     "text": [
      "うさまる にんじん\n",
      "うさまる ケーキ\n",
      "うさまる しゃけ\n",
      "うさこ にんじん\n",
      "うさこ ケーキ\n",
      "うさこ しゃけ\n",
      "くまさん にんじん\n",
      "くまさん ケーキ\n",
      "くまさん しゃけ\n"
     ]
    }
   ],
   "source": [
    "import itertools\n",
    "#itertools というパッケージを利用する\n",
    "\n",
    "u1 = [\"うさまる\", \"うさこ\", \"くまさん\"]\n",
    "u2 = [\"にんじん\", \"ケーキ\", \"しゃけ\"]\n",
    "\n",
    "#intertools の product メソッドを用い二重ループを作成する\n",
    "\n",
    "for i, j in itertools.product(u1, u2):\n",
    "    print(i, j)\n"
   ]
  },
  {
   "cell_type": "markdown",
   "metadata": {},
   "source": [
    "2.3.15 if 文"
   ]
  },
  {
   "cell_type": "code",
   "execution_count": 16,
   "metadata": {},
   "outputs": [
    {
     "name": "stdout",
     "output_type": "stream",
     "text": [
      "20 < num < 40\n",
      "num <= 20 or num >= 40\n"
     ]
    }
   ],
   "source": [
    "#def 文は関数を指定するため\n",
    "#この場合、if_test という関数を作成している\n",
    "\n",
    "def if_test(num):\n",
    "    if 20 < num < 40:\n",
    "        print('20 < num < 40')\n",
    "    else:\n",
    "        print('num <= 20 or num >= 40')\n",
    "\n",
    "if_test(30)\n",
    "if_test(0)"
   ]
  },
  {
   "cell_type": "markdown",
   "metadata": {},
   "source": [
    "2.3.16 論理演算子"
   ]
  },
  {
   "cell_type": "code",
   "execution_count": 17,
   "metadata": {},
   "outputs": [
    {
     "name": "stdout",
     "output_type": "stream",
     "text": [
      "False\n",
      "True\n",
      "False\n",
      "True\n"
     ]
    }
   ],
   "source": [
    "うさぎさん = True\n",
    "くまさん = False\n",
    "\n",
    "print(うさぎさん and くまさん)\n",
    "print(うさぎさん or くまさん)\n",
    "print(not うさぎさん)\n",
    "print(not くまさん)"
   ]
  },
  {
   "cell_type": "markdown",
   "metadata": {},
   "source": [
    "2.3.17 while 文"
   ]
  },
  {
   "cell_type": "code",
   "execution_count": 18,
   "metadata": {},
   "outputs": [
    {
     "name": "stdout",
     "output_type": "stream",
     "text": [
      "くまさん 0\n",
      "くまさん 1\n",
      "くまさん 2\n",
      "くまさん 3\n",
      "くまさん 4\n"
     ]
    }
   ],
   "source": [
    "#変数 i に0 を入れる\n",
    "i = 0\n",
    "\n",
    "#i が0 から5 になる間繰り返す\n",
    "while i < 5:\n",
    "    print(\"くまさん\",i)\n",
    "    i += 1"
   ]
  },
  {
   "cell_type": "markdown",
   "metadata": {},
   "source": [
    "2.3.18 無限ループ"
   ]
  },
  {
   "cell_type": "code",
   "execution_count": 19,
   "metadata": {},
   "outputs": [
    {
     "name": "stdout",
     "output_type": "stream",
     "text": [
      "くま...\n",
      "くま...\n",
      "くま...\n",
      "くま...\n",
      "くま...\n",
      "くま...\n",
      "くま...\n",
      "!!終了!!\n"
     ]
    }
   ],
   "source": [
    "import time\n",
    "\n",
    "try:\n",
    "    while True:\n",
    "        time.sleep(1)\n",
    "        print('くま...')\n",
    "except KeyboardInterrupt:\n",
    "    print('!!終了!!')"
   ]
  },
  {
   "cell_type": "code",
   "execution_count": 19,
   "metadata": {},
   "outputs": [],
   "source": []
  }
 ],
 "metadata": {
  "kernelspec": {
   "display_name": "Python 3",
   "language": "python",
   "name": "python3"
  },
  "language_info": {
   "codemirror_mode": {
    "name": "ipython",
    "version": 3
   },
   "file_extension": ".py",
   "mimetype": "text/x-python",
   "name": "python",
   "nbconvert_exporter": "python",
   "pygments_lexer": "ipython3",
   "version": "3.6.4"
  }
 },
 "nbformat": 4,
 "nbformat_minor": 2
}