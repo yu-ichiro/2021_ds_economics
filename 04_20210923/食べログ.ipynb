{
 "cells": [
  {
   "cell_type": "code",
   "execution_count": 1,
   "metadata": {
    "collapsed": true
   },
   "outputs": [
    {
     "name": "stdout",
     "output_type": "stream",
     "text": [
      "https://tabelog.com/tokyo/A1325/A132503/R3485/rstLst/?vs=1&sa=国立駅&sk=%25E5%25B1%2585%25E9%2585%2592%25E5%25B1%258B&lid=top_navi1&vac_net=&svd=20210923&svt=1900&svps=2&hfc=1&Cat=RC&LstCat=RC21&LstCatD=RC2101\n"
     ]
    }
   ],
   "source": [
    "import requests\n",
    "import urllib.parse\n",
    "from bs4 import BeautifulSoup\n",
    "\n",
    "station = \"国立駅\"\n",
    "search_keyword = \"居酒屋\" or input(\"食べログ検索:\")\n",
    "url = f\"https://tabelog.com/tokyo/A1325/A132503/R3485/rstLst/?vs=1&sa={station}&sk={urllib.parse.quote(urllib.parse.quote(search_keyword))}&lid=top_navi1&vac_net=&svd=20210923&svt=1900&svps=2&hfc=1&Cat=RC&LstCat=RC21&LstCatD=RC2101\"\n",
    "print(url)"
   ]
  },
  {
   "cell_type": "code",
   "execution_count": 2,
   "outputs": [],
   "source": [
    "response = requests.get(url)\n",
    "\n"
   ],
   "metadata": {
    "collapsed": false,
    "pycharm": {
     "name": "#%%\n"
    }
   }
  },
  {
   "cell_type": "code",
   "execution_count": null,
   "outputs": [],
   "source": [],
   "metadata": {
    "collapsed": false,
    "pycharm": {
     "name": "#%%\n"
    }
   }
  }
 ],
 "metadata": {
  "kernelspec": {
   "display_name": "Python 3",
   "language": "python",
   "name": "python3"
  },
  "language_info": {
   "codemirror_mode": {
    "name": "ipython",
    "version": 2
   },
   "file_extension": ".py",
   "mimetype": "text/x-python",
   "name": "python",
   "nbconvert_exporter": "python",
   "pygments_lexer": "ipython2",
   "version": "2.7.6"
  }
 },
 "nbformat": 4,
 "nbformat_minor": 0
}