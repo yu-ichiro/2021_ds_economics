{
 "cells": [
  {
   "cell_type": "code",
   "execution_count": 1,
   "metadata": {},
   "outputs": [],
   "source": [
    "import tweepy\n",
    "import tweepy.auth\n",
    "import datetime\n",
    "import codecs\n",
    "import csv\n",
    "import json"
   ]
  },
  {
   "cell_type": "code",
   "execution_count": 2,
   "outputs": [],
   "source": [
    "with open(\"../credential.json\") as fp:\n",
    "    credentials = json.load(fp)"
   ],
   "metadata": {
    "collapsed": false,
    "pycharm": {
     "name": "#%%\n"
    }
   }
  },
  {
   "cell_type": "code",
   "execution_count": 6,
   "outputs": [],
   "source": [
    "#python で Twitter APIを使用するためのConsumerキー、アクセストークン設定\n",
    "# Consumer_key = '(ご自身でキーを取得する必要があります)'\n",
    "# Consumer_secret = '(ご自身でキーを取得する必要があります)'\n",
    "# Access_token = '(ご自身でキーを取得する必要があります)'\n",
    "# Access_secret = '(ご自身でキーを取得する必要があります)'\n",
    "\n",
    "#認証\n",
    "\n",
    "class BearerAuth(tweepy.auth.AuthHandler):\n",
    "    def __init__(self, bearer):\n",
    "        self.bearer = bearer\n",
    "\n",
    "    def apply_auth(self, _url=None, _method=None, _headers=None, _parameters=None):\n",
    "        return tweepy.auth.OAuth2Bearer(self.bearer)\n",
    "\n",
    "    def get_username(self):\n",
    "        raise NotImplemented"
   ],
   "metadata": {
    "collapsed": false,
    "pycharm": {
     "name": "#%%\n"
    }
   }
  },
  {
   "cell_type": "code",
   "execution_count": 7,
   "outputs": [],
   "source": [
    "# auth = tweepy.OAuthHandler(Consumer_key, Consumer_secret)\n",
    "# auth.set_access_token(Access_token, Access_secret)\n",
    "\n",
    "auth = BearerAuth(credentials[\"twitter\"][\"bearer_token\"])\n",
    "api = tweepy.API(auth, wait_on_rate_limit = True)"
   ],
   "metadata": {
    "collapsed": false,
    "pycharm": {
     "name": "#%%\n"
    }
   }
  },
  {
   "cell_type": "code",
   "execution_count": 8,
   "outputs": [],
   "source": [
    "#検索キーワード設定 \n",
    "# q = \"(#movewhatmatters -RT) OR (#MoveWhatMatters -RT)\"\n",
    "q = \"早稲田大学 OR #早稲田 OR #waseda OR 早稲田 OR ワセダ -RT\"\n",
    "#q = \"テレワーク拡大も6割が｢従業員のストレス増加｣企業はメンタルケアが課題 OR 新型コロナウイルス感染症への組織対応に関する研究調査 OR 新型コロナウイルス感染症への組織対応に関する緊急調査 -RT\"\n",
    "\n",
    "#つぶやきを格納するリスト\n",
    "tweets_data =[]\n",
    "\n",
    "#tweepy.Cursour を用いてデータを取得する\n",
    "#for文で、tweet にデータを放り込んでいく\n",
    "#q に検索するキーワードが指定されている\n",
    "for tweet in tweepy.Cursor(api.search, q=q, count=3000,tweet_mode='extended').items():\n",
    "\n",
    "    #ツイート時間を日本時間に変換する\n",
    "    jsttime = tweet.created_at + datetime.timedelta(hours=9)\n",
    "    #print(jsttime)\n",
    "    #print(tweets_data)\n",
    "\n",
    "    #つぶやきテキスト(FULL)を取得\n",
    "    #tweets_data.append(tweet.full_text + '\\n')\n",
    "    \n",
    "    #リツイートやFAV 数を取得する\n",
    "    #tweet.id -> ツイートのID\n",
    "    #tweet.user -> ユーザ名\n",
    "    #tweet.location -> ツイートをした場所\n",
    "    #tweet.created_at -> ツイートをした時間\n",
    "    #tweet.full_text -> ツイート内容を取得する\n",
    "    #tweet.favorite_count -> ファボ回数を取得する\n",
    "    #tweet.retweet_count -> リツイート回数を取得する\n",
    "    #それらをtweets_dataに保存していく\n",
    "    tweets_data.append([tweet.id,tweet.user.screen_name,tweet.user.location,tweet.created_at,tweet.full_text.replace('\\n',''), tweet.favorite_count,tweet.retweet_count])"
   ],
   "metadata": {
    "collapsed": false,
    "pycharm": {
     "name": "#%%\n"
    }
   }
  },
  {
   "cell_type": "code",
   "execution_count": 13,
   "outputs": [
    {
     "name": "stdout",
     "output_type": "stream",
     "text": [
      "18641\n",
      "[1440950537156009984, 'ba17_Eri', '大崎', datetime.datetime(2021, 9, 23, 8, 5, 54), '対面授業週0の女子大生が降臨した (@ 早稲田大学 戸山キャンパス - @waseda_univ in Shinjuku, 東京都) https://t.co/SxGZ7JsmJP', 0, 0]\n",
      "[1440950412308201477, 'waibotwi', '日吉かな？四谷かな？', datetime.datetime(2021, 9, 23, 8, 5, 24), 'また、一部の熱狂的早稲田教信徒は、全学部を受験するというエクストリーム・スポーツに挑戦する。', 0, 0]\n",
      "[1440950126197936134, 'y10_1m', '東京', datetime.datetime(2021, 9, 23, 8, 4, 16), '【※応募殺到】偏差値は４０台だけど本気で一流大学に合格したい人限定。（早稲田、慶応、国立旧帝国大学）偏差値を２０以上アップし一流大学に合格することを約束した勉強法を無料でプレゼント中。https://t.co/9NcsAS1Uq0', 0, 0]\n",
      "[1440950083403485189, 'JFl0523WUC', '', datetime.datetime(2021, 9, 23, 8, 4, 6), 'それにしてもアナウンサーにならなくて良かったww 早稲田のアナ研にいたら絶対どこかの局アナになれてたと思うけど、そしたら天才的な数々の曲は生まれなかったことになるからなあ。酒井さんを誘った村上さん、流石だわ。', 0, 0]\n",
      "[1440950079234342918, 'kokobekn', '東京', datetime.datetime(2021, 9, 23, 8, 4, 5), '【※応募殺到】偏差値は４０台だけど本気で一流大学に合格したい人限定。（早稲田、慶応、国立旧帝国大学）偏差値を２０以上アップし一流大学に合格することを約束した勉強法を無料でプレゼント中。https://t.co/vbbEcCmnXa', 0, 0]\n",
      "...\n",
      "[1437776508228186114, 'shibunsawaeiich', '北海道パズル全国1位(暫定)', datetime.datetime(2021, 9, 14, 13, 53, 26), 'まだ受かってない自分が言うのはおかしいかもしれんけど早稲田の受験料稼ぎが露骨すぎて流石に嫌悪感を覚えた', 1, 0]\n",
      "[1437776455413518340, 'JiuJiu590', '', datetime.datetime(2021, 9, 14, 13, 53, 14), '・面接のみが入試形態の大学院：早稲田大学大学院 環境・エネルギー研究科 https://t.co/u3sd2GjI9C', 0, 0]\n",
      "[1437776398953979905, '6OP0wLm2hQO5Du9', '', datetime.datetime(2021, 9, 14, 13, 53), '@020Sayaka あまり高田馬場行かないだろ？早稲田松竹は良い。🤧', 0, 0]\n",
      "[1437775598491947009, 'aibohpossur', '(🌾B3露法)', datetime.datetime(2021, 9, 14, 13, 49, 49), '早稲田ではどうせ単位認定できないので課題/試験は放棄する前提で週25~30コマ取ってるんだけど２週目にしてギブアップしそう', 26, 0]\n",
      "[1437775379784163337, 'thukithuki0920', '', datetime.datetime(2021, 9, 14, 13, 48, 57), '早稲田やば', 0, 0]\n"
     ]
    }
   ],
   "source": [
    "print(len(tweets_data))\n",
    "for tweet in tweets_data[:5]:\n",
    "    print(tweet)\n",
    "print(\"...\")\n",
    "for tweet in tweets_data[-5:]:\n",
    "    print(tweet)"
   ],
   "metadata": {
    "collapsed": false,
    "pycharm": {
     "name": "#%%\n"
    }
   }
  },
  {
   "cell_type": "code",
   "execution_count": 14,
   "outputs": [],
   "source": [
    "#ファイル出力\n",
    "#wordcloud 用\n",
    "#with codecs.open('./toyota.txt', 'w','utf8') as f:\n",
    "#    f.writelines(tweets_data)\n",
    "\n",
    "#f.close()\n",
    "\n",
    "#ファイル出力\n",
    "with open('./waseda.csv', 'w',newline='',encoding='utf-8') as f:\n",
    "    writer = csv.writer(f, lineterminator='\\n')\n",
    "    #tweets_data を書き込んでいく\n",
    "    writer.writerow([\"id\",\"user\",\"location\",\"created_at\",\"text\",\"fav\",\"RT\"])\n",
    "    writer.writerows(tweets_data)\n",
    "pass"
   ],
   "metadata": {
    "collapsed": false,
    "pycharm": {
     "name": "#%%\n"
    }
   }
  },
  {
   "cell_type": "code",
   "execution_count": null,
   "outputs": [],
   "source": [],
   "metadata": {
    "collapsed": false,
    "pycharm": {
     "name": "#%%\n"
    }
   }
  }
 ],
 "metadata": {
  "kernelspec": {
   "display_name": "Python 3",
   "language": "python",
   "name": "python3"
  },
  "language_info": {
   "codemirror_mode": {
    "name": "ipython",
    "version": 3
   },
   "file_extension": ".py",
   "mimetype": "text/x-python",
   "name": "python",
   "nbconvert_exporter": "python",
   "pygments_lexer": "ipython3",
   "version": "3.6.4"
  }
 },
 "nbformat": 4,
 "nbformat_minor": 2
}